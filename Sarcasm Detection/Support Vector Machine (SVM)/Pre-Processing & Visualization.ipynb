{
 "cells": [
  {
   "cell_type": "code",
   "execution_count": 1,
   "id": "faa9a06a",
   "metadata": {
    "colab": {
     "base_uri": "https://localhost:8080/"
    },
    "executionInfo": {
     "elapsed": 990,
     "status": "ok",
     "timestamp": 1622522562880,
     "user": {
      "displayName": "Minhajuddin Meraj",
      "photoUrl": "https://lh3.googleusercontent.com/a-/AOh14GhTNicl9ZzkyX_yiNCuKiXjOHoLelDbgk2ZpNNCPA=s64",
      "userId": "16057526630484697061"
     },
     "user_tz": -300
    },
    "id": "faa9a06a",
    "outputId": "3379ca5f-5a23-4071-93f3-8db03df9e5e5"
   },
   "outputs": [],
   "source": [
    "%matplotlib inline\n",
    "\n",
    "import matplotlib.pyplot as plt\n",
    "import numpy as np\n",
    "import pandas as pd\n",
    "import seaborn as sns\n",
    "import json\n",
    "\n",
    "import nltk\n",
    "from nltk.stem import WordNetLemmatizer\n",
    "#nltk.download('wordnet')\n",
    "#nltk.download('stopwords')\n",
    "\n",
    "import re\n",
    "#nltk.download(\"averaged_perceptron_tagger\")\n",
    "\n",
    "import warnings\n",
    "warnings.filterwarnings(\"ignore\")"
   ]
  },
  {
   "cell_type": "code",
   "execution_count": 2,
   "id": "6368ee91",
   "metadata": {
    "colab": {
     "base_uri": "https://localhost:8080/",
     "height": 1000
    },
    "executionInfo": {
     "elapsed": 428,
     "status": "error",
     "timestamp": 1622522566819,
     "user": {
      "displayName": "Minhajuddin Meraj",
      "photoUrl": "https://lh3.googleusercontent.com/a-/AOh14GhTNicl9ZzkyX_yiNCuKiXjOHoLelDbgk2ZpNNCPA=s64",
      "userId": "16057526630484697061"
     },
     "user_tz": -300
    },
    "id": "6368ee91",
    "outputId": "1f12048c-a220-487e-bc9a-7b09be9b804b"
   },
   "outputs": [],
   "source": [
    "headline_data = pd.read_json('Sarcasm_Headlines_Dataset.json', lines=True, orient='columns', encoding='utf-8')"
   ]
  },
  {
   "cell_type": "code",
   "execution_count": 3,
   "id": "B4f-8cFgL1Xb",
   "metadata": {
    "colab": {
     "base_uri": "https://localhost:8080/",
     "height": 289
    },
    "executionInfo": {
     "elapsed": 377,
     "status": "ok",
     "timestamp": 1622494123591,
     "user": {
      "displayName": "Minhajuddin Meraj",
      "photoUrl": "https://lh3.googleusercontent.com/a-/AOh14GhTNicl9ZzkyX_yiNCuKiXjOHoLelDbgk2ZpNNCPA=s64",
      "userId": "16057526630484697061"
     },
     "user_tz": -300
    },
    "id": "B4f-8cFgL1Xb",
    "outputId": "40773e0b-82f7-4b04-e555-ddd8a730763c"
   },
   "outputs": [
    {
     "data": {
      "text/html": [
       "<div>\n",
       "<style scoped>\n",
       "    .dataframe tbody tr th:only-of-type {\n",
       "        vertical-align: middle;\n",
       "    }\n",
       "\n",
       "    .dataframe tbody tr th {\n",
       "        vertical-align: top;\n",
       "    }\n",
       "\n",
       "    .dataframe thead th {\n",
       "        text-align: right;\n",
       "    }\n",
       "</style>\n",
       "<table border=\"1\" class=\"dataframe\">\n",
       "  <thead>\n",
       "    <tr style=\"text-align: right;\">\n",
       "      <th></th>\n",
       "      <th>article_link</th>\n",
       "      <th>headline</th>\n",
       "      <th>is_sarcastic</th>\n",
       "    </tr>\n",
       "  </thead>\n",
       "  <tbody>\n",
       "    <tr>\n",
       "      <th>0</th>\n",
       "      <td>https://www.huffingtonpost.com/entry/versace-b...</td>\n",
       "      <td>former versace store clerk sues over secret 'b...</td>\n",
       "      <td>0</td>\n",
       "    </tr>\n",
       "    <tr>\n",
       "      <th>1</th>\n",
       "      <td>https://www.huffingtonpost.com/entry/roseanne-...</td>\n",
       "      <td>the 'roseanne' revival catches up to our thorn...</td>\n",
       "      <td>0</td>\n",
       "    </tr>\n",
       "    <tr>\n",
       "      <th>2</th>\n",
       "      <td>https://local.theonion.com/mom-starting-to-fea...</td>\n",
       "      <td>mom starting to fear son's web series closest ...</td>\n",
       "      <td>1</td>\n",
       "    </tr>\n",
       "    <tr>\n",
       "      <th>3</th>\n",
       "      <td>https://politics.theonion.com/boehner-just-wan...</td>\n",
       "      <td>boehner just wants wife to listen, not come up...</td>\n",
       "      <td>1</td>\n",
       "    </tr>\n",
       "    <tr>\n",
       "      <th>4</th>\n",
       "      <td>https://www.huffingtonpost.com/entry/jk-rowlin...</td>\n",
       "      <td>j.k. rowling wishes snape happy birthday in th...</td>\n",
       "      <td>0</td>\n",
       "    </tr>\n",
       "  </tbody>\n",
       "</table>\n",
       "</div>"
      ],
      "text/plain": [
       "                                        article_link  \\\n",
       "0  https://www.huffingtonpost.com/entry/versace-b...   \n",
       "1  https://www.huffingtonpost.com/entry/roseanne-...   \n",
       "2  https://local.theonion.com/mom-starting-to-fea...   \n",
       "3  https://politics.theonion.com/boehner-just-wan...   \n",
       "4  https://www.huffingtonpost.com/entry/jk-rowlin...   \n",
       "\n",
       "                                            headline  is_sarcastic  \n",
       "0  former versace store clerk sues over secret 'b...             0  \n",
       "1  the 'roseanne' revival catches up to our thorn...             0  \n",
       "2  mom starting to fear son's web series closest ...             1  \n",
       "3  boehner just wants wife to listen, not come up...             1  \n",
       "4  j.k. rowling wishes snape happy birthday in th...             0  "
      ]
     },
     "execution_count": 3,
     "metadata": {},
     "output_type": "execute_result"
    }
   ],
   "source": [
    "headline_data.head()"
   ]
  },
  {
   "cell_type": "markdown",
   "id": "ec97a9e0",
   "metadata": {
    "id": "ec97a9e0"
   },
   "source": [
    "## Data Exploration and Data Cleaning"
   ]
  },
  {
   "cell_type": "code",
   "execution_count": 4,
   "id": "0e1257f5",
   "metadata": {},
   "outputs": [],
   "source": [
    "data = headline_data.copy()"
   ]
  },
  {
   "cell_type": "markdown",
   "id": "ebf616e4",
   "metadata": {
    "id": "ebf616e4"
   },
   "source": [
    "### Here we observe our data by checking the datatypes of the features"
   ]
  },
  {
   "cell_type": "code",
   "execution_count": 10,
   "id": "e3509c22",
   "metadata": {
    "colab": {
     "base_uri": "https://localhost:8080/"
    },
    "executionInfo": {
     "elapsed": 18,
     "status": "ok",
     "timestamp": 1622491052876,
     "user": {
      "displayName": "Minhajuddin Meraj",
      "photoUrl": "https://lh3.googleusercontent.com/a-/AOh14GhTNicl9ZzkyX_yiNCuKiXjOHoLelDbgk2ZpNNCPA=s64",
      "userId": "16057526630484697061"
     },
     "user_tz": -300
    },
    "id": "e3509c22",
    "outputId": "56a143ac-276f-4bd1-d6f6-2e75216a7550"
   },
   "outputs": [
    {
     "name": "stdout",
     "output_type": "stream",
     "text": [
      "<class 'pandas.core.frame.DataFrame'>\n",
      "RangeIndex: 26709 entries, 0 to 26708\n",
      "Data columns (total 3 columns):\n",
      " #   Column        Non-Null Count  Dtype \n",
      "---  ------        --------------  ----- \n",
      " 0   article_link  26709 non-null  object\n",
      " 1   headline      26709 non-null  object\n",
      " 2   is_sarcastic  26709 non-null  int64 \n",
      "dtypes: int64(1), object(2)\n",
      "memory usage: 626.1+ KB\n"
     ]
    }
   ],
   "source": [
    "data.info(verbose = True, null_counts = True)"
   ]
  },
  {
   "cell_type": "code",
   "execution_count": 11,
   "id": "8ea91bc1",
   "metadata": {
    "colab": {
     "base_uri": "https://localhost:8080/",
     "height": 334
    },
    "executionInfo": {
     "elapsed": 15,
     "status": "ok",
     "timestamp": 1622491052880,
     "user": {
      "displayName": "Minhajuddin Meraj",
      "photoUrl": "https://lh3.googleusercontent.com/a-/AOh14GhTNicl9ZzkyX_yiNCuKiXjOHoLelDbgk2ZpNNCPA=s64",
      "userId": "16057526630484697061"
     },
     "user_tz": -300
    },
    "id": "8ea91bc1",
    "outputId": "906fe1f1-60b0-4712-f3a6-d9fa8944fbcf"
   },
   "outputs": [
    {
     "data": {
      "image/png": "[encoded data removed]",
      "text/plain": [
       "<Figure size 432x288 with 1 Axes>"
      ]
     },
     "metadata": {
      "needs_background": "light"
     },
     "output_type": "display_data"
    }
   ],
   "source": [
    "#check for the distribution of the dataset for the reponse variable in order to get the balance of the dataset\n",
    "\n",
    "ax = sns.countplot(data['is_sarcastic'],  palette=\"Set2\")\n",
    "plt.title('Data Distribution');"
   ]
  },
  {
   "cell_type": "code",
   "execution_count": 12,
   "id": "c6a2c97f",
   "metadata": {
    "colab": {
     "base_uri": "https://localhost:8080/",
     "height": 575
    },
    "executionInfo": {
     "elapsed": 24,
     "status": "ok",
     "timestamp": 1622491053638,
     "user": {
      "displayName": "Minhajuddin Meraj",
      "photoUrl": "https://lh3.googleusercontent.com/a-/AOh14GhTNicl9ZzkyX_yiNCuKiXjOHoLelDbgk2ZpNNCPA=s64",
      "userId": "16057526630484697061"
     },
     "user_tz": -300
    },
    "id": "c6a2c97f",
    "outputId": "08b16646-5ec3-4367-e9e1-03dce93a15b7"
   },
   "outputs": [
    {
     "data": {
      "image/png": "[encoded data removed]",
      "text/plain": [
       "<Figure size 720x720 with 1 Axes>"
      ]
     },
     "metadata": {},
     "output_type": "display_data"
    }
   ],
   "source": [
    "#Calculating the percentage of the sarcastic and non-sarcastic to get the overview of the labels\n",
    "\n",
    "labels = ['Sarcastic', 'Not Sarcastic']\n",
    "\n",
    "zeros_percent = (data['is_sarcastic'].value_counts()[0]/ data['is_sarcastic'].value_counts().sum())*100\n",
    "ones_percent = (data['is_sarcastic'].value_counts()[1]/ data['is_sarcastic'].value_counts().sum())*100\n",
    "\n",
    "sizes = [zeros_percent,ones_percent]\n",
    "explode = (0, 0.1)\n",
    "plt.figure(figsize=(10,10))\n",
    "plt.pie(sizes, labels=labels, explode = explode, \n",
    "        autopct='%1.1f%%', shadow=True, startangle= 90, pctdistance=0.6)\n",
    "plt.axis('equal')\n",
    "plt.show()"
   ]
  },
  {
   "cell_type": "code",
   "execution_count": 13,
   "id": "d2014a7f",
   "metadata": {
    "colab": {
     "base_uri": "https://localhost:8080/"
    },
    "executionInfo": {
     "elapsed": 23,
     "status": "ok",
     "timestamp": 1622491053640,
     "user": {
      "displayName": "Minhajuddin Meraj",
      "photoUrl": "https://lh3.googleusercontent.com/a-/AOh14GhTNicl9ZzkyX_yiNCuKiXjOHoLelDbgk2ZpNNCPA=s64",
      "userId": "16057526630484697061"
     },
     "user_tz": -300
    },
    "id": "d2014a7f",
    "outputId": "2a422199-ce3c-492c-c00b-c2f7575c291e"
   },
   "outputs": [
    {
     "name": "stdout",
     "output_type": "stream",
     "text": [
      "article_link    0\n",
      "headline        0\n",
      "is_sarcastic    0\n",
      "dtype: int64\n"
     ]
    }
   ],
   "source": [
    "#Check for null values into the dataset\n",
    "print(data.isnull().sum())"
   ]
  },
  {
   "cell_type": "code",
   "execution_count": 14,
   "id": "e69530cf",
   "metadata": {
    "colab": {
     "base_uri": "https://localhost:8080/",
     "height": 204
    },
    "executionInfo": {
     "elapsed": 19,
     "status": "ok",
     "timestamp": 1622491053643,
     "user": {
      "displayName": "Minhajuddin Meraj",
      "photoUrl": "https://lh3.googleusercontent.com/a-/AOh14GhTNicl9ZzkyX_yiNCuKiXjOHoLelDbgk2ZpNNCPA=s64",
      "userId": "16057526630484697061"
     },
     "user_tz": -300
    },
    "id": "e69530cf",
    "outputId": "98c2f97a-ef16-4db8-a720-8b5cb0910ef8"
   },
   "outputs": [
    {
     "data": {
      "text/html": [
       "<div>\n",
       "<style scoped>\n",
       "    .dataframe tbody tr th:only-of-type {\n",
       "        vertical-align: middle;\n",
       "    }\n",
       "\n",
       "    .dataframe tbody tr th {\n",
       "        vertical-align: top;\n",
       "    }\n",
       "\n",
       "    .dataframe thead th {\n",
       "        text-align: right;\n",
       "    }\n",
       "</style>\n",
       "<table border=\"1\" class=\"dataframe\">\n",
       "  <thead>\n",
       "    <tr style=\"text-align: right;\">\n",
       "      <th></th>\n",
       "      <th>article_link</th>\n",
       "      <th>headline</th>\n",
       "      <th>is_sarcastic</th>\n",
       "      <th>source</th>\n",
       "      <th>len</th>\n",
       "    </tr>\n",
       "  </thead>\n",
       "  <tbody>\n",
       "    <tr>\n",
       "      <th>0</th>\n",
       "      <td>https://www.huffingtonpost.com/entry/versace-b...</td>\n",
       "      <td>former versace store clerk sues over secret 'b...</td>\n",
       "      <td>0</td>\n",
       "      <td>huffingtonpost</td>\n",
       "      <td>12</td>\n",
       "    </tr>\n",
       "    <tr>\n",
       "      <th>1</th>\n",
       "      <td>https://www.huffingtonpost.com/entry/roseanne-...</td>\n",
       "      <td>the 'roseanne' revival catches up to our thorn...</td>\n",
       "      <td>0</td>\n",
       "      <td>huffingtonpost</td>\n",
       "      <td>14</td>\n",
       "    </tr>\n",
       "    <tr>\n",
       "      <th>2</th>\n",
       "      <td>https://local.theonion.com/mom-starting-to-fea...</td>\n",
       "      <td>mom starting to fear son's web series closest ...</td>\n",
       "      <td>1</td>\n",
       "      <td>theonion</td>\n",
       "      <td>14</td>\n",
       "    </tr>\n",
       "    <tr>\n",
       "      <th>3</th>\n",
       "      <td>https://politics.theonion.com/boehner-just-wan...</td>\n",
       "      <td>boehner just wants wife to listen, not come up...</td>\n",
       "      <td>1</td>\n",
       "      <td>theonion</td>\n",
       "      <td>13</td>\n",
       "    </tr>\n",
       "    <tr>\n",
       "      <th>4</th>\n",
       "      <td>https://www.huffingtonpost.com/entry/jk-rowlin...</td>\n",
       "      <td>j.k. rowling wishes snape happy birthday in th...</td>\n",
       "      <td>0</td>\n",
       "      <td>huffingtonpost</td>\n",
       "      <td>11</td>\n",
       "    </tr>\n",
       "  </tbody>\n",
       "</table>\n",
       "</div>"
      ],
      "text/plain": [
       "                                        article_link  \\\n",
       "0  https://www.huffingtonpost.com/entry/versace-b...   \n",
       "1  https://www.huffingtonpost.com/entry/roseanne-...   \n",
       "2  https://local.theonion.com/mom-starting-to-fea...   \n",
       "3  https://politics.theonion.com/boehner-just-wan...   \n",
       "4  https://www.huffingtonpost.com/entry/jk-rowlin...   \n",
       "\n",
       "                                            headline  is_sarcastic  \\\n",
       "0  former versace store clerk sues over secret 'b...             0   \n",
       "1  the 'roseanne' revival catches up to our thorn...             0   \n",
       "2  mom starting to fear son's web series closest ...             1   \n",
       "3  boehner just wants wife to listen, not come up...             1   \n",
       "4  j.k. rowling wishes snape happy birthday in th...             0   \n",
       "\n",
       "           source  len  \n",
       "0  huffingtonpost   12  \n",
       "1  huffingtonpost   14  \n",
       "2        theonion   14  \n",
       "3        theonion   13  \n",
       "4  huffingtonpost   11  "
      ]
     },
     "execution_count": 14,
     "metadata": {},
     "output_type": "execute_result"
    }
   ],
   "source": [
    "#Calculate the length of sentences\n",
    "data['source'] = data['article_link'].apply(lambda x: re.findall(r'\\w+', x)[2])\n",
    "data['len'] = data['headline'].apply(lambda x: len(x.split(\" \")))\n",
    "data.head()"
   ]
  },
  {
   "cell_type": "code",
   "execution_count": 15,
   "id": "d41ac5aa",
   "metadata": {
    "scrolled": true
   },
   "outputs": [
    {
     "data": {
      "text/html": [
       "<div>\n",
       "<style scoped>\n",
       "    .dataframe tbody tr th:only-of-type {\n",
       "        vertical-align: middle;\n",
       "    }\n",
       "\n",
       "    .dataframe tbody tr th {\n",
       "        vertical-align: top;\n",
       "    }\n",
       "\n",
       "    .dataframe thead th {\n",
       "        text-align: right;\n",
       "    }\n",
       "</style>\n",
       "<table border=\"1\" class=\"dataframe\">\n",
       "  <thead>\n",
       "    <tr style=\"text-align: right;\">\n",
       "      <th></th>\n",
       "      <th>headline</th>\n",
       "      <th>is_sarcastic</th>\n",
       "      <th>source</th>\n",
       "      <th>len</th>\n",
       "    </tr>\n",
       "  </thead>\n",
       "  <tbody>\n",
       "    <tr>\n",
       "      <th>0</th>\n",
       "      <td>former versace store clerk sues over secret 'b...</td>\n",
       "      <td>0</td>\n",
       "      <td>huffingtonpost</td>\n",
       "      <td>12</td>\n",
       "    </tr>\n",
       "    <tr>\n",
       "      <th>1</th>\n",
       "      <td>the 'roseanne' revival catches up to our thorn...</td>\n",
       "      <td>0</td>\n",
       "      <td>huffingtonpost</td>\n",
       "      <td>14</td>\n",
       "    </tr>\n",
       "    <tr>\n",
       "      <th>2</th>\n",
       "      <td>mom starting to fear son's web series closest ...</td>\n",
       "      <td>1</td>\n",
       "      <td>theonion</td>\n",
       "      <td>14</td>\n",
       "    </tr>\n",
       "    <tr>\n",
       "      <th>3</th>\n",
       "      <td>boehner just wants wife to listen, not come up...</td>\n",
       "      <td>1</td>\n",
       "      <td>theonion</td>\n",
       "      <td>13</td>\n",
       "    </tr>\n",
       "    <tr>\n",
       "      <th>4</th>\n",
       "      <td>j.k. rowling wishes snape happy birthday in th...</td>\n",
       "      <td>0</td>\n",
       "      <td>huffingtonpost</td>\n",
       "      <td>11</td>\n",
       "    </tr>\n",
       "  </tbody>\n",
       "</table>\n",
       "</div>"
      ],
      "text/plain": [
       "                                            headline  is_sarcastic  \\\n",
       "0  former versace store clerk sues over secret 'b...             0   \n",
       "1  the 'roseanne' revival catches up to our thorn...             0   \n",
       "2  mom starting to fear son's web series closest ...             1   \n",
       "3  boehner just wants wife to listen, not come up...             1   \n",
       "4  j.k. rowling wishes snape happy birthday in th...             0   \n",
       "\n",
       "           source  len  \n",
       "0  huffingtonpost   12  \n",
       "1  huffingtonpost   14  \n",
       "2        theonion   14  \n",
       "3        theonion   13  \n",
       "4  huffingtonpost   11  "
      ]
     },
     "execution_count": 15,
     "metadata": {},
     "output_type": "execute_result"
    }
   ],
   "source": [
    "#Dropping unneccesaary column not helpful for classification.\n",
    "\n",
    "data = data.drop(['article_link'], axis=1)\n",
    "data.head()"
   ]
  },
  {
   "cell_type": "code",
   "execution_count": 16,
   "id": "f38d9841",
   "metadata": {},
   "outputs": [
    {
     "data": {
      "text/plain": [
       "<AxesSubplot:xlabel='source', ylabel='count'>"
      ]
     },
     "execution_count": 16,
     "metadata": {},
     "output_type": "execute_result"
    },
    {
     "data": {
      "image/png": "[encoded data removed]",
      "text/plain": [
       "<Figure size 1296x432 with 3 Axes>"
      ]
     },
     "metadata": {
      "needs_background": "light"
     },
     "output_type": "display_data"
    }
   ],
   "source": [
    "plt.subplots(figsize= (18,6))\n",
    "plt.subplot(1,3,1)\n",
    "sns.countplot('is_sarcastic',data = data)\n",
    "plt.title('Data Distribution');\n",
    "plt.subplot(1,3,2)\n",
    "sns.boxplot(y = 'len',x = 'is_sarcastic',data = data)\n",
    "plt.subplot(1,3,3)\n",
    "sns.countplot('source',hue= 'is_sarcastic',data = data)"
   ]
  },
  {
   "cell_type": "code",
   "execution_count": 17,
   "id": "75c6a435",
   "metadata": {
    "colab": {
     "base_uri": "https://localhost:8080/"
    },
    "executionInfo": {
     "elapsed": 35,
     "status": "ok",
     "timestamp": 1622491054118,
     "user": {
      "displayName": "Minhajuddin Meraj",
      "photoUrl": "https://lh3.googleusercontent.com/a-/AOh14GhTNicl9ZzkyX_yiNCuKiXjOHoLelDbgk2ZpNNCPA=s64",
      "userId": "16057526630484697061"
     },
     "user_tz": -300
    },
    "id": "75c6a435",
    "outputId": "e15b9a0f-dcb3-4da2-84e2-68fb62e51e7e"
   },
   "outputs": [
    {
     "data": {
      "text/plain": [
       "39"
      ]
     },
     "execution_count": 17,
     "metadata": {},
     "output_type": "execute_result"
    }
   ],
   "source": [
    "#Displaying the sentence having the maximum length of words.\n",
    "data['len'].max()"
   ]
  },
  {
   "cell_type": "code",
   "execution_count": 18,
   "id": "8abaf88c",
   "metadata": {
    "colab": {
     "base_uri": "https://localhost:8080/",
     "height": 97
    },
    "executionInfo": {
     "elapsed": 32,
     "status": "ok",
     "timestamp": 1622491054120,
     "user": {
      "displayName": "Minhajuddin Meraj",
      "photoUrl": "https://lh3.googleusercontent.com/a-/AOh14GhTNicl9ZzkyX_yiNCuKiXjOHoLelDbgk2ZpNNCPA=s64",
      "userId": "16057526630484697061"
     },
     "user_tz": -300
    },
    "id": "8abaf88c",
    "outputId": "14d5095f-6420-4d8f-d316-ec48e37ddb20"
   },
   "outputs": [
    {
     "data": {
      "text/html": [
       "<div>\n",
       "<style scoped>\n",
       "    .dataframe tbody tr th:only-of-type {\n",
       "        vertical-align: middle;\n",
       "    }\n",
       "\n",
       "    .dataframe tbody tr th {\n",
       "        vertical-align: top;\n",
       "    }\n",
       "\n",
       "    .dataframe thead th {\n",
       "        text-align: right;\n",
       "    }\n",
       "</style>\n",
       "<table border=\"1\" class=\"dataframe\">\n",
       "  <thead>\n",
       "    <tr style=\"text-align: right;\">\n",
       "      <th></th>\n",
       "      <th>headline</th>\n",
       "      <th>is_sarcastic</th>\n",
       "      <th>source</th>\n",
       "      <th>len</th>\n",
       "    </tr>\n",
       "  </thead>\n",
       "  <tbody>\n",
       "    <tr>\n",
       "      <th>15247</th>\n",
       "      <td>elmore leonard, modern prose master, noted for...</td>\n",
       "      <td>1</td>\n",
       "      <td>theonion</td>\n",
       "      <td>39</td>\n",
       "    </tr>\n",
       "  </tbody>\n",
       "</table>\n",
       "</div>"
      ],
      "text/plain": [
       "                                                headline  is_sarcastic  \\\n",
       "15247  elmore leonard, modern prose master, noted for...             1   \n",
       "\n",
       "         source  len  \n",
       "15247  theonion   39  "
      ]
     },
     "execution_count": 18,
     "metadata": {},
     "output_type": "execute_result"
    }
   ],
   "source": [
    "data[data['len']==39]"
   ]
  },
  {
   "cell_type": "code",
   "execution_count": 19,
   "id": "e95bfc4a",
   "metadata": {
    "colab": {
     "base_uri": "https://localhost:8080/"
    },
    "executionInfo": {
     "elapsed": 30,
     "status": "ok",
     "timestamp": 1622491054122,
     "user": {
      "displayName": "Minhajuddin Meraj",
      "photoUrl": "https://lh3.googleusercontent.com/a-/AOh14GhTNicl9ZzkyX_yiNCuKiXjOHoLelDbgk2ZpNNCPA=s64",
      "userId": "16057526630484697061"
     },
     "user_tz": -300
    },
    "id": "e95bfc4a",
    "outputId": "088e741a-009f-4ffa-a21d-08b2d2eb587e"
   },
   "outputs": [
    {
     "name": "stdout",
     "output_type": "stream",
     "text": [
      "1 former versace store clerk sues over secret 'black code' for minority shoppers\n",
      "2 the 'roseanne' revival catches up to our thorny political mood, for better and worse\n",
      "3 mom starting to fear son's web series closest thing she will have to grandchild\n",
      "4 boehner just wants wife to listen, not come up with alternative debt-reduction ideas\n",
      "5 j.k. rowling wishes snape happy birthday in the most magical way\n",
      "6 advancing the world's women\n",
      "7 the fascinating case for eating lab-grown meat\n",
      "8 this ceo will send your kids to school, if you work for his company\n",
      "9 top snake handler leaves sinking huckabee campaign\n",
      "10 friday's morning email: inside trump's presser for the ages\n",
      "11 airline passengers tackle man who rushes cockpit in bomb threat\n",
      "12 facebook reportedly working on healthcare features and apps\n",
      "13 north korea praises trump and urges us voters to reject 'dull hillary'\n",
      "14 actually, cnn's jeffrey lord has been 'indefensible' for a while\n",
      "15 barcelona holds huge protest in support of refugees\n",
      "16 nuclear bomb detonates during rehearsal for 'spider-man' musical\n",
      "17 cosby lawyer asks why accusers didn't come forward to be smeared by legal team years ago\n",
      "18 stock analysts confused, frightened by boar market\n",
      "19 bloomberg's program to build better cities just got bigger\n",
      "20 craig hicks indicted\n"
     ]
    }
   ],
   "source": [
    "#Visualising the sentences within the length of 20\n",
    "for i,headline in enumerate (data['headline'], 1):\n",
    "    if i > 20:\n",
    "        break\n",
    "    else:\n",
    "        print(i, headline)"
   ]
  },
  {
   "cell_type": "code",
   "execution_count": 20,
   "id": "2225566c",
   "metadata": {
    "colab": {
     "base_uri": "https://localhost:8080/",
     "height": 204
    },
    "executionInfo": {
     "elapsed": 28,
     "status": "ok",
     "timestamp": 1622491054124,
     "user": {
      "displayName": "Minhajuddin Meraj",
      "photoUrl": "https://lh3.googleusercontent.com/a-/AOh14GhTNicl9ZzkyX_yiNCuKiXjOHoLelDbgk2ZpNNCPA=s64",
      "userId": "16057526630484697061"
     },
     "user_tz": -300
    },
    "id": "2225566c",
    "outputId": "4977be6d-bff4-4bd6-cddd-f30c01f227f0"
   },
   "outputs": [
    {
     "data": {
      "text/html": [
       "<div>\n",
       "<style scoped>\n",
       "    .dataframe tbody tr th:only-of-type {\n",
       "        vertical-align: middle;\n",
       "    }\n",
       "\n",
       "    .dataframe tbody tr th {\n",
       "        vertical-align: top;\n",
       "    }\n",
       "\n",
       "    .dataframe thead th {\n",
       "        text-align: right;\n",
       "    }\n",
       "</style>\n",
       "<table border=\"1\" class=\"dataframe\">\n",
       "  <thead>\n",
       "    <tr style=\"text-align: right;\">\n",
       "      <th></th>\n",
       "      <th>length_word</th>\n",
       "      <th>frequency</th>\n",
       "    </tr>\n",
       "  </thead>\n",
       "  <tbody>\n",
       "    <tr>\n",
       "      <th>0</th>\n",
       "      <td>10</td>\n",
       "      <td>3484</td>\n",
       "    </tr>\n",
       "    <tr>\n",
       "      <th>1</th>\n",
       "      <td>9</td>\n",
       "      <td>3300</td>\n",
       "    </tr>\n",
       "    <tr>\n",
       "      <th>2</th>\n",
       "      <td>11</td>\n",
       "      <td>3196</td>\n",
       "    </tr>\n",
       "    <tr>\n",
       "      <th>3</th>\n",
       "      <td>8</td>\n",
       "      <td>2857</td>\n",
       "    </tr>\n",
       "    <tr>\n",
       "      <th>4</th>\n",
       "      <td>12</td>\n",
       "      <td>2646</td>\n",
       "    </tr>\n",
       "  </tbody>\n",
       "</table>\n",
       "</div>"
      ],
      "text/plain": [
       "   length_word  frequency\n",
       "0           10       3484\n",
       "1            9       3300\n",
       "2           11       3196\n",
       "3            8       2857\n",
       "4           12       2646"
      ]
     },
     "execution_count": 20,
     "metadata": {},
     "output_type": "execute_result"
    }
   ],
   "source": [
    "#Calculating the frequency of word length and plotting the histogram of it.\n",
    "data_length = data['len'].value_counts().reset_index()\n",
    "data_length.rename(columns={'index': 'length_word', 'len':'frequency'}, inplace = True)\n",
    "data_length.head()"
   ]
  },
  {
   "cell_type": "code",
   "execution_count": 21,
   "id": "f28ca563",
   "metadata": {
    "colab": {
     "base_uri": "https://localhost:8080/",
     "height": 282
    },
    "executionInfo": {
     "elapsed": 532,
     "status": "ok",
     "timestamp": 1622491054630,
     "user": {
      "displayName": "Minhajuddin Meraj",
      "photoUrl": "https://lh3.googleusercontent.com/a-/AOh14GhTNicl9ZzkyX_yiNCuKiXjOHoLelDbgk2ZpNNCPA=s64",
      "userId": "16057526630484697061"
     },
     "user_tz": -300
    },
    "id": "f28ca563",
    "outputId": "cafb0a0c-f2bd-41d6-dd0d-51ad83817b7b",
    "scrolled": true
   },
   "outputs": [
    {
     "data": {
      "text/plain": [
       "<BarContainer object of 32 artists>"
      ]
     },
     "execution_count": 21,
     "metadata": {},
     "output_type": "execute_result"
    },
    {
     "data": {
      "image/png": "[encoded data removed]",
      "text/plain": [
       "<Figure size 432x288 with 1 Axes>"
      ]
     },
     "metadata": {
      "needs_background": "light"
     },
     "output_type": "display_data"
    }
   ],
   "source": [
    "import matplotlib.pyplot as plt\n",
    "plt.bar(data_length['length_word'], data_length['frequency'])"
   ]
  },
  {
   "cell_type": "markdown",
   "id": "b4b7ad7e",
   "metadata": {
    "id": "b4b7ad7e"
   },
   "source": [
    "We observe a normal distribution here and the sentences having length count more than 20 is very less, so we can prune them easily as they will not be needed"
   ]
  },
  {
   "cell_type": "code",
   "execution_count": 22,
   "id": "2f240173",
   "metadata": {},
   "outputs": [],
   "source": [
    "import string\n",
    "from nltk import word_tokenize\n",
    "from nltk.corpus import stopwords\n",
    "stop_words = stopwords.words('english')"
   ]
  },
  {
   "cell_type": "code",
   "execution_count": 23,
   "id": "7ceb1a04",
   "metadata": {},
   "outputs": [],
   "source": [
    "data1 = headline_data.copy()"
   ]
  },
  {
   "cell_type": "code",
   "execution_count": 24,
   "id": "3ea06923",
   "metadata": {},
   "outputs": [],
   "source": [
    "# Relacing special symbols and digits in headline column\n",
    "# re stands for Regular Expression\n",
    "data1['headline'] = data1['headline'].apply(lambda s : re.sub('[^a-zA-Z]', ' ', s))"
   ]
  },
  {
   "cell_type": "code",
   "execution_count": 25,
   "id": "e64ac29b",
   "metadata": {},
   "outputs": [],
   "source": [
    "def text_cleaning(data):\n",
    "    data = data.apply(lambda x: x.strip().lower())\n",
    "    data = data.apply(lambda x: re.sub(r'\\d+', '', x))\n",
    "    data = data.apply(lambda x: x.translate(str.maketrans('', '', string.punctuation)))\n",
    "    \n",
    "    data = data.apply(lambda x : word_tokenize(x))\n",
    "    data = data.apply(lambda x: [word for word in x if word not in stop_words])\n",
    "    \n",
    "    \n",
    "    lemmatizer = WordNetLemmatizer()\n",
    "    data = data.apply(lambda x: [lemmatizer.lemmatize(word, pos ='v') for word in x])\n",
    "\n",
    "    return data"
   ]
  },
  {
   "cell_type": "code",
   "execution_count": 26,
   "id": "c0fd3726",
   "metadata": {},
   "outputs": [],
   "source": [
    "data1[\"headline\"] = text_cleaning(data1[\"headline\"])\n",
    "data1 = data1[data1[\"headline\"].apply(lambda x: len(x)>0)]"
   ]
  },
  {
   "cell_type": "code",
   "execution_count": 27,
   "id": "a488bcd4",
   "metadata": {},
   "outputs": [
    {
     "data": {
      "text/html": [
       "<div>\n",
       "<style scoped>\n",
       "    .dataframe tbody tr th:only-of-type {\n",
       "        vertical-align: middle;\n",
       "    }\n",
       "\n",
       "    .dataframe tbody tr th {\n",
       "        vertical-align: top;\n",
       "    }\n",
       "\n",
       "    .dataframe thead th {\n",
       "        text-align: right;\n",
       "    }\n",
       "</style>\n",
       "<table border=\"1\" class=\"dataframe\">\n",
       "  <thead>\n",
       "    <tr style=\"text-align: right;\">\n",
       "      <th></th>\n",
       "      <th>article_link</th>\n",
       "      <th>headline</th>\n",
       "      <th>is_sarcastic</th>\n",
       "    </tr>\n",
       "  </thead>\n",
       "  <tbody>\n",
       "    <tr>\n",
       "      <th>0</th>\n",
       "      <td>https://www.huffingtonpost.com/entry/versace-b...</td>\n",
       "      <td>[former, versace, store, clerk, sue, secret, b...</td>\n",
       "      <td>0</td>\n",
       "    </tr>\n",
       "    <tr>\n",
       "      <th>1</th>\n",
       "      <td>https://www.huffingtonpost.com/entry/roseanne-...</td>\n",
       "      <td>[roseanne, revival, catch, thorny, political, ...</td>\n",
       "      <td>0</td>\n",
       "    </tr>\n",
       "    <tr>\n",
       "      <th>2</th>\n",
       "      <td>https://local.theonion.com/mom-starting-to-fea...</td>\n",
       "      <td>[mom, start, fear, son, web, series, closest, ...</td>\n",
       "      <td>1</td>\n",
       "    </tr>\n",
       "    <tr>\n",
       "      <th>3</th>\n",
       "      <td>https://politics.theonion.com/boehner-just-wan...</td>\n",
       "      <td>[boehner, want, wife, listen, come, alternativ...</td>\n",
       "      <td>1</td>\n",
       "    </tr>\n",
       "    <tr>\n",
       "      <th>4</th>\n",
       "      <td>https://www.huffingtonpost.com/entry/jk-rowlin...</td>\n",
       "      <td>[j, k, rowling, wish, snape, happy, birthday, ...</td>\n",
       "      <td>0</td>\n",
       "    </tr>\n",
       "  </tbody>\n",
       "</table>\n",
       "</div>"
      ],
      "text/plain": [
       "                                        article_link  \\\n",
       "0  https://www.huffingtonpost.com/entry/versace-b...   \n",
       "1  https://www.huffingtonpost.com/entry/roseanne-...   \n",
       "2  https://local.theonion.com/mom-starting-to-fea...   \n",
       "3  https://politics.theonion.com/boehner-just-wan...   \n",
       "4  https://www.huffingtonpost.com/entry/jk-rowlin...   \n",
       "\n",
       "                                            headline  is_sarcastic  \n",
       "0  [former, versace, store, clerk, sue, secret, b...             0  \n",
       "1  [roseanne, revival, catch, thorny, political, ...             0  \n",
       "2  [mom, start, fear, son, web, series, closest, ...             1  \n",
       "3  [boehner, want, wife, listen, come, alternativ...             1  \n",
       "4  [j, k, rowling, wish, snape, happy, birthday, ...             0  "
      ]
     },
     "execution_count": 27,
     "metadata": {},
     "output_type": "execute_result"
    }
   ],
   "source": [
    "data1.head()"
   ]
  },
  {
   "cell_type": "code",
   "execution_count": 28,
   "id": "363f51ca",
   "metadata": {},
   "outputs": [],
   "source": [
    "data1[\"words\"] = data1[\"headline\"].apply(lambda x: len(x))\n",
    "data1[\"characters\"] = data1[\"headline\"].apply(lambda x: len(\"\".join(x)))"
   ]
  },
  {
   "cell_type": "code",
   "execution_count": 29,
   "id": "51f9a273",
   "metadata": {},
   "outputs": [
    {
     "data": {
      "text/html": [
       "<div>\n",
       "<style scoped>\n",
       "    .dataframe tbody tr th:only-of-type {\n",
       "        vertical-align: middle;\n",
       "    }\n",
       "\n",
       "    .dataframe tbody tr th {\n",
       "        vertical-align: top;\n",
       "    }\n",
       "\n",
       "    .dataframe thead th {\n",
       "        text-align: right;\n",
       "    }\n",
       "</style>\n",
       "<table border=\"1\" class=\"dataframe\">\n",
       "  <thead>\n",
       "    <tr style=\"text-align: right;\">\n",
       "      <th></th>\n",
       "      <th>article_link</th>\n",
       "      <th>headline</th>\n",
       "      <th>is_sarcastic</th>\n",
       "      <th>words</th>\n",
       "      <th>characters</th>\n",
       "    </tr>\n",
       "  </thead>\n",
       "  <tbody>\n",
       "    <tr>\n",
       "      <th>0</th>\n",
       "      <td>https://www.huffingtonpost.com/entry/versace-b...</td>\n",
       "      <td>[former, versace, store, clerk, sue, secret, b...</td>\n",
       "      <td>0</td>\n",
       "      <td>10</td>\n",
       "      <td>57</td>\n",
       "    </tr>\n",
       "    <tr>\n",
       "      <th>1</th>\n",
       "      <td>https://www.huffingtonpost.com/entry/roseanne-...</td>\n",
       "      <td>[roseanne, revival, catch, thorny, political, ...</td>\n",
       "      <td>0</td>\n",
       "      <td>8</td>\n",
       "      <td>50</td>\n",
       "    </tr>\n",
       "    <tr>\n",
       "      <th>2</th>\n",
       "      <td>https://local.theonion.com/mom-starting-to-fea...</td>\n",
       "      <td>[mom, start, fear, son, web, series, closest, ...</td>\n",
       "      <td>1</td>\n",
       "      <td>9</td>\n",
       "      <td>46</td>\n",
       "    </tr>\n",
       "    <tr>\n",
       "      <th>3</th>\n",
       "      <td>https://politics.theonion.com/boehner-just-wan...</td>\n",
       "      <td>[boehner, want, wife, listen, come, alternativ...</td>\n",
       "      <td>1</td>\n",
       "      <td>9</td>\n",
       "      <td>54</td>\n",
       "    </tr>\n",
       "    <tr>\n",
       "      <th>4</th>\n",
       "      <td>https://www.huffingtonpost.com/entry/jk-rowlin...</td>\n",
       "      <td>[j, k, rowling, wish, snape, happy, birthday, ...</td>\n",
       "      <td>0</td>\n",
       "      <td>9</td>\n",
       "      <td>41</td>\n",
       "    </tr>\n",
       "  </tbody>\n",
       "</table>\n",
       "</div>"
      ],
      "text/plain": [
       "                                        article_link  \\\n",
       "0  https://www.huffingtonpost.com/entry/versace-b...   \n",
       "1  https://www.huffingtonpost.com/entry/roseanne-...   \n",
       "2  https://local.theonion.com/mom-starting-to-fea...   \n",
       "3  https://politics.theonion.com/boehner-just-wan...   \n",
       "4  https://www.huffingtonpost.com/entry/jk-rowlin...   \n",
       "\n",
       "                                            headline  is_sarcastic  words  \\\n",
       "0  [former, versace, store, clerk, sue, secret, b...             0     10   \n",
       "1  [roseanne, revival, catch, thorny, political, ...             0      8   \n",
       "2  [mom, start, fear, son, web, series, closest, ...             1      9   \n",
       "3  [boehner, want, wife, listen, come, alternativ...             1      9   \n",
       "4  [j, k, rowling, wish, snape, happy, birthday, ...             0      9   \n",
       "\n",
       "   characters  \n",
       "0          57  \n",
       "1          50  \n",
       "2          46  \n",
       "3          54  \n",
       "4          41  "
      ]
     },
     "execution_count": 29,
     "metadata": {},
     "output_type": "execute_result"
    }
   ],
   "source": [
    "data1.head()"
   ]
  },
  {
   "cell_type": "code",
   "execution_count": 30,
   "id": "c96b627c",
   "metadata": {},
   "outputs": [
    {
     "data": {
      "image/png": "[encoded data removed]",
      "text/plain": [
       "<Figure size 1080x576 with 2 Axes>"
      ]
     },
     "metadata": {
      "needs_background": "light"
     },
     "output_type": "display_data"
    }
   ],
   "source": [
    "plt.figure(figsize=(15,8))\n",
    "\n",
    "plt.subplot(1,2,1)\n",
    "plt.xlim(0, 20)\n",
    "sns.distplot(data1[data1.is_sarcastic==1][\"words\"], kde=False)\n",
    "plt.title(\"Words distribution in Sarcastic headlines\")\n",
    "plt.grid(False)\n",
    "\n",
    "plt.subplot(1,2,2)\n",
    "plt.xlim(0, 15)\n",
    "sns.distplot(data1[data1.is_sarcastic==0][\"words\"], kde=False)\n",
    "plt.title(\"Words distribution in Non Sarcastic headlines\")\n",
    "\n",
    "plt.grid(False)\n",
    "plt.show()"
   ]
  },
  {
   "cell_type": "code",
   "execution_count": 31,
   "id": "ba6c49f1",
   "metadata": {},
   "outputs": [
    {
     "data": {
      "image/png": "[encoded data removed]",
      "text/plain": [
       "<Figure size 1080x576 with 2 Axes>"
      ]
     },
     "metadata": {
      "needs_background": "light"
     },
     "output_type": "display_data"
    }
   ],
   "source": [
    "plt.figure(figsize=(15,8))\n",
    "\n",
    "plt.subplot(1,2,1)\n",
    "plt.xlim(0, 100)\n",
    "sns.distplot(data1[data1.is_sarcastic==1][\"characters\"], kde=False)\n",
    "plt.title(\"Character distribution in Sarcastic headlines\")\n",
    "plt.grid(False)\n",
    "\n",
    "plt.subplot(1,2,2)\n",
    "plt.xlim(0, 100)\n",
    "sns.distplot(data1[data1.is_sarcastic==0][\"characters\"], kde=False)\n",
    "plt.title(\"Character distribution in Non Sarcastic headlines\")\n",
    "\n",
    "plt.grid(False)\n",
    "plt.show()"
   ]
  },
  {
   "cell_type": "code",
   "execution_count": 32,
   "id": "e3b508a5",
   "metadata": {
    "scrolled": false
   },
   "outputs": [
    {
     "data": {
      "text/html": [
       "<div>\n",
       "<style scoped>\n",
       "    .dataframe tbody tr th:only-of-type {\n",
       "        vertical-align: middle;\n",
       "    }\n",
       "\n",
       "    .dataframe tbody tr th {\n",
       "        vertical-align: top;\n",
       "    }\n",
       "\n",
       "    .dataframe thead th {\n",
       "        text-align: right;\n",
       "    }\n",
       "</style>\n",
       "<table border=\"1\" class=\"dataframe\">\n",
       "  <thead>\n",
       "    <tr style=\"text-align: right;\">\n",
       "      <th></th>\n",
       "      <th>headline</th>\n",
       "      <th>is_sarcastic</th>\n",
       "      <th>source</th>\n",
       "      <th>len</th>\n",
       "    </tr>\n",
       "  </thead>\n",
       "  <tbody>\n",
       "    <tr>\n",
       "      <th>0</th>\n",
       "      <td>former versace store clerk sues over secret 'b...</td>\n",
       "      <td>0</td>\n",
       "      <td>huffingtonpost</td>\n",
       "      <td>12</td>\n",
       "    </tr>\n",
       "    <tr>\n",
       "      <th>1</th>\n",
       "      <td>the 'roseanne' revival catches up to our thorn...</td>\n",
       "      <td>0</td>\n",
       "      <td>huffingtonpost</td>\n",
       "      <td>14</td>\n",
       "    </tr>\n",
       "    <tr>\n",
       "      <th>2</th>\n",
       "      <td>mom starting to fear son's web series closest ...</td>\n",
       "      <td>1</td>\n",
       "      <td>theonion</td>\n",
       "      <td>14</td>\n",
       "    </tr>\n",
       "    <tr>\n",
       "      <th>3</th>\n",
       "      <td>boehner just wants wife to listen, not come up...</td>\n",
       "      <td>1</td>\n",
       "      <td>theonion</td>\n",
       "      <td>13</td>\n",
       "    </tr>\n",
       "    <tr>\n",
       "      <th>4</th>\n",
       "      <td>j.k. rowling wishes snape happy birthday in th...</td>\n",
       "      <td>0</td>\n",
       "      <td>huffingtonpost</td>\n",
       "      <td>11</td>\n",
       "    </tr>\n",
       "  </tbody>\n",
       "</table>\n",
       "</div>"
      ],
      "text/plain": [
       "                                            headline  is_sarcastic  \\\n",
       "0  former versace store clerk sues over secret 'b...             0   \n",
       "1  the 'roseanne' revival catches up to our thorn...             0   \n",
       "2  mom starting to fear son's web series closest ...             1   \n",
       "3  boehner just wants wife to listen, not come up...             1   \n",
       "4  j.k. rowling wishes snape happy birthday in th...             0   \n",
       "\n",
       "           source  len  \n",
       "0  huffingtonpost   12  \n",
       "1  huffingtonpost   14  \n",
       "2        theonion   14  \n",
       "3        theonion   13  \n",
       "4  huffingtonpost   11  "
      ]
     },
     "execution_count": 32,
     "metadata": {},
     "output_type": "execute_result"
    }
   ],
   "source": [
    "data.head()"
   ]
  },
  {
   "cell_type": "code",
   "execution_count": 33,
   "id": "8933ff12",
   "metadata": {},
   "outputs": [],
   "source": [
    "import spacy\n",
    "nlp = spacy.load(\"en_core_web_sm\")\n",
    "### Feature generation for better understanding\n",
    "def get_ents(headline_text):\n",
    "    document=nlp(headline_text)\n",
    "    return len(document.ents)\n",
    "\n",
    "def get_tokens(headline_text):\n",
    "    document=nlp(headline_text)\n",
    "    return len(document)\n",
    "\n",
    "def get_sents(headline_text):\n",
    "    document=nlp(headline_text)\n",
    "    return len(list(document.sents))"
   ]
  },
  {
   "cell_type": "code",
   "execution_count": 34,
   "id": "3fe3812b",
   "metadata": {
    "scrolled": true
   },
   "outputs": [],
   "source": [
    "data['ents_name'] = data['headline'].apply(get_ents)"
   ]
  },
  {
   "cell_type": "code",
   "execution_count": 35,
   "id": "4bad5222",
   "metadata": {},
   "outputs": [],
   "source": [
    "data['tokens_num'] = data['headline'].apply(get_tokens)"
   ]
  },
  {
   "cell_type": "code",
   "execution_count": 36,
   "id": "3abef35f",
   "metadata": {},
   "outputs": [],
   "source": [
    "data['sents_num'] = data['headline'].apply(get_sents)"
   ]
  },
  {
   "cell_type": "code",
   "execution_count": 37,
   "id": "807e82d8",
   "metadata": {
    "scrolled": false
   },
   "outputs": [
    {
     "data": {
      "text/html": [
       "<div>\n",
       "<style scoped>\n",
       "    .dataframe tbody tr th:only-of-type {\n",
       "        vertical-align: middle;\n",
       "    }\n",
       "\n",
       "    .dataframe tbody tr th {\n",
       "        vertical-align: top;\n",
       "    }\n",
       "\n",
       "    .dataframe thead th {\n",
       "        text-align: right;\n",
       "    }\n",
       "</style>\n",
       "<table border=\"1\" class=\"dataframe\">\n",
       "  <thead>\n",
       "    <tr style=\"text-align: right;\">\n",
       "      <th></th>\n",
       "      <th>headline</th>\n",
       "      <th>is_sarcastic</th>\n",
       "      <th>source</th>\n",
       "      <th>len</th>\n",
       "      <th>ents_name</th>\n",
       "      <th>tokens_num</th>\n",
       "      <th>sents_num</th>\n",
       "    </tr>\n",
       "  </thead>\n",
       "  <tbody>\n",
       "    <tr>\n",
       "      <th>0</th>\n",
       "      <td>former versace store clerk sues over secret 'b...</td>\n",
       "      <td>0</td>\n",
       "      <td>huffingtonpost</td>\n",
       "      <td>12</td>\n",
       "      <td>0</td>\n",
       "      <td>14</td>\n",
       "      <td>1</td>\n",
       "    </tr>\n",
       "    <tr>\n",
       "      <th>1</th>\n",
       "      <td>the 'roseanne' revival catches up to our thorn...</td>\n",
       "      <td>0</td>\n",
       "      <td>huffingtonpost</td>\n",
       "      <td>14</td>\n",
       "      <td>0</td>\n",
       "      <td>17</td>\n",
       "      <td>1</td>\n",
       "    </tr>\n",
       "    <tr>\n",
       "      <th>2</th>\n",
       "      <td>mom starting to fear son's web series closest ...</td>\n",
       "      <td>1</td>\n",
       "      <td>theonion</td>\n",
       "      <td>14</td>\n",
       "      <td>0</td>\n",
       "      <td>15</td>\n",
       "      <td>1</td>\n",
       "    </tr>\n",
       "    <tr>\n",
       "      <th>3</th>\n",
       "      <td>boehner just wants wife to listen, not come up...</td>\n",
       "      <td>1</td>\n",
       "      <td>theonion</td>\n",
       "      <td>13</td>\n",
       "      <td>0</td>\n",
       "      <td>16</td>\n",
       "      <td>1</td>\n",
       "    </tr>\n",
       "    <tr>\n",
       "      <th>4</th>\n",
       "      <td>j.k. rowling wishes snape happy birthday in th...</td>\n",
       "      <td>0</td>\n",
       "      <td>huffingtonpost</td>\n",
       "      <td>11</td>\n",
       "      <td>0</td>\n",
       "      <td>12</td>\n",
       "      <td>2</td>\n",
       "    </tr>\n",
       "  </tbody>\n",
       "</table>\n",
       "</div>"
      ],
      "text/plain": [
       "                                            headline  is_sarcastic  \\\n",
       "0  former versace store clerk sues over secret 'b...             0   \n",
       "1  the 'roseanne' revival catches up to our thorn...             0   \n",
       "2  mom starting to fear son's web series closest ...             1   \n",
       "3  boehner just wants wife to listen, not come up...             1   \n",
       "4  j.k. rowling wishes snape happy birthday in th...             0   \n",
       "\n",
       "           source  len  ents_name  tokens_num  sents_num  \n",
       "0  huffingtonpost   12          0          14          1  \n",
       "1  huffingtonpost   14          0          17          1  \n",
       "2        theonion   14          0          15          1  \n",
       "3        theonion   13          0          16          1  \n",
       "4  huffingtonpost   11          0          12          2  "
      ]
     },
     "execution_count": 37,
     "metadata": {},
     "output_type": "execute_result"
    }
   ],
   "source": [
    "data.head()"
   ]
  },
  {
   "cell_type": "code",
   "execution_count": 38,
   "id": "940538ae",
   "metadata": {
    "scrolled": true
   },
   "outputs": [
    {
     "data": {
      "text/plain": [
       "<AxesSubplot:xlabel='sents_num', ylabel='count'>"
      ]
     },
     "execution_count": 38,
     "metadata": {},
     "output_type": "execute_result"
    },
    {
     "data": {
      "image/png": "[encoded data removed]",
      "text/plain": [
       "<Figure size 1080x1080 with 3 Axes>"
      ]
     },
     "metadata": {
      "needs_background": "light"
     },
     "output_type": "display_data"
    }
   ],
   "source": [
    "ffig,(ax,ax1,ax2)=plt.subplots(nrows=3,ncols=1,figsize=(15,15))\n",
    "sns.countplot(x='ents_name',data=data,hue='is_sarcastic',ax=ax)\n",
    "sns.countplot(x='tokens_num',data=data,hue='is_sarcastic',ax=ax1)\n",
    "sns.countplot(x='sents_num',data=data,hue='is_sarcastic',ax=ax2)"
   ]
  },
  {
   "cell_type": "markdown",
   "id": "d71197aa",
   "metadata": {
    "id": "d71197aa"
   },
   "source": [
    "## Data Pre-Processing"
   ]
  },
  {
   "cell_type": "markdown",
   "id": "08d76ab6",
   "metadata": {
    "id": "08d76ab6"
   },
   "source": [
    "## Text Normalization"
   ]
  },
  {
   "cell_type": "code",
   "execution_count": 39,
   "id": "ca754585",
   "metadata": {
    "id": "ca754585"
   },
   "outputs": [],
   "source": [
    "#STEP 1 : Remove Numbers and Punctuations using Regular Expressions"
   ]
  },
  {
   "cell_type": "code",
   "execution_count": 40,
   "id": "5bc1a4e9",
   "metadata": {
    "colab": {
     "base_uri": "https://localhost:8080/",
     "height": 35
    },
    "executionInfo": {
     "elapsed": 7,
     "status": "ok",
     "timestamp": 1622491055116,
     "user": {
      "displayName": "Minhajuddin Meraj",
      "photoUrl": "https://lh3.googleusercontent.com/a-/AOh14GhTNicl9ZzkyX_yiNCuKiXjOHoLelDbgk2ZpNNCPA=s64",
      "userId": "16057526630484697061"
     },
     "user_tz": -300
    },
    "id": "5bc1a4e9",
    "outputId": "4dbd0c78-7531-4c79-d157-926264dba1e5"
   },
   "outputs": [
    {
     "data": {
      "text/plain": [
       "'hellos world'"
      ]
     },
     "execution_count": 40,
     "metadata": {},
     "output_type": "execute_result"
    }
   ],
   "source": [
    "#sample to check working of re.sub function\n",
    "mystring = \"hello's world\"\n",
    "re.sub('[^A-Za-z ]+', '', mystring)"
   ]
  },
  {
   "cell_type": "code",
   "execution_count": 41,
   "id": "721557d6",
   "metadata": {
    "id": "721557d6"
   },
   "outputs": [],
   "source": [
    "#lambda to clean data of punctuation and numbers\n",
    "def clean_data(x):\n",
    "    return re.sub('[^A-Za-z ]+', '', x)\n",
    "\n",
    "data['clean_hd'] = data[\"headline\"].apply(clean_data)"
   ]
  },
  {
   "cell_type": "code",
   "execution_count": 42,
   "id": "5dae8132",
   "metadata": {
    "colab": {
     "base_uri": "https://localhost:8080/",
     "height": 204
    },
    "executionInfo": {
     "elapsed": 16,
     "status": "ok",
     "timestamp": 1622491055581,
     "user": {
      "displayName": "Minhajuddin Meraj",
      "photoUrl": "https://lh3.googleusercontent.com/a-/AOh14GhTNicl9ZzkyX_yiNCuKiXjOHoLelDbgk2ZpNNCPA=s64",
      "userId": "16057526630484697061"
     },
     "user_tz": -300
    },
    "id": "5dae8132",
    "outputId": "5d542cc6-be53-4bff-988d-2f651a655290"
   },
   "outputs": [
    {
     "data": {
      "text/html": [
       "<div>\n",
       "<style scoped>\n",
       "    .dataframe tbody tr th:only-of-type {\n",
       "        vertical-align: middle;\n",
       "    }\n",
       "\n",
       "    .dataframe tbody tr th {\n",
       "        vertical-align: top;\n",
       "    }\n",
       "\n",
       "    .dataframe thead th {\n",
       "        text-align: right;\n",
       "    }\n",
       "</style>\n",
       "<table border=\"1\" class=\"dataframe\">\n",
       "  <thead>\n",
       "    <tr style=\"text-align: right;\">\n",
       "      <th></th>\n",
       "      <th>headline</th>\n",
       "      <th>is_sarcastic</th>\n",
       "      <th>source</th>\n",
       "      <th>len</th>\n",
       "      <th>ents_name</th>\n",
       "      <th>tokens_num</th>\n",
       "      <th>sents_num</th>\n",
       "      <th>clean_hd</th>\n",
       "    </tr>\n",
       "  </thead>\n",
       "  <tbody>\n",
       "    <tr>\n",
       "      <th>0</th>\n",
       "      <td>former versace store clerk sues over secret 'b...</td>\n",
       "      <td>0</td>\n",
       "      <td>huffingtonpost</td>\n",
       "      <td>12</td>\n",
       "      <td>0</td>\n",
       "      <td>14</td>\n",
       "      <td>1</td>\n",
       "      <td>former versace store clerk sues over secret bl...</td>\n",
       "    </tr>\n",
       "    <tr>\n",
       "      <th>1</th>\n",
       "      <td>the 'roseanne' revival catches up to our thorn...</td>\n",
       "      <td>0</td>\n",
       "      <td>huffingtonpost</td>\n",
       "      <td>14</td>\n",
       "      <td>0</td>\n",
       "      <td>17</td>\n",
       "      <td>1</td>\n",
       "      <td>the roseanne revival catches up to our thorny ...</td>\n",
       "    </tr>\n",
       "    <tr>\n",
       "      <th>2</th>\n",
       "      <td>mom starting to fear son's web series closest ...</td>\n",
       "      <td>1</td>\n",
       "      <td>theonion</td>\n",
       "      <td>14</td>\n",
       "      <td>0</td>\n",
       "      <td>15</td>\n",
       "      <td>1</td>\n",
       "      <td>mom starting to fear sons web series closest t...</td>\n",
       "    </tr>\n",
       "    <tr>\n",
       "      <th>3</th>\n",
       "      <td>boehner just wants wife to listen, not come up...</td>\n",
       "      <td>1</td>\n",
       "      <td>theonion</td>\n",
       "      <td>13</td>\n",
       "      <td>0</td>\n",
       "      <td>16</td>\n",
       "      <td>1</td>\n",
       "      <td>boehner just wants wife to listen not come up ...</td>\n",
       "    </tr>\n",
       "    <tr>\n",
       "      <th>4</th>\n",
       "      <td>j.k. rowling wishes snape happy birthday in th...</td>\n",
       "      <td>0</td>\n",
       "      <td>huffingtonpost</td>\n",
       "      <td>11</td>\n",
       "      <td>0</td>\n",
       "      <td>12</td>\n",
       "      <td>2</td>\n",
       "      <td>jk rowling wishes snape happy birthday in the ...</td>\n",
       "    </tr>\n",
       "  </tbody>\n",
       "</table>\n",
       "</div>"
      ],
      "text/plain": [
       "                                            headline  is_sarcastic  \\\n",
       "0  former versace store clerk sues over secret 'b...             0   \n",
       "1  the 'roseanne' revival catches up to our thorn...             0   \n",
       "2  mom starting to fear son's web series closest ...             1   \n",
       "3  boehner just wants wife to listen, not come up...             1   \n",
       "4  j.k. rowling wishes snape happy birthday in th...             0   \n",
       "\n",
       "           source  len  ents_name  tokens_num  sents_num  \\\n",
       "0  huffingtonpost   12          0          14          1   \n",
       "1  huffingtonpost   14          0          17          1   \n",
       "2        theonion   14          0          15          1   \n",
       "3        theonion   13          0          16          1   \n",
       "4  huffingtonpost   11          0          12          2   \n",
       "\n",
       "                                            clean_hd  \n",
       "0  former versace store clerk sues over secret bl...  \n",
       "1  the roseanne revival catches up to our thorny ...  \n",
       "2  mom starting to fear sons web series closest t...  \n",
       "3  boehner just wants wife to listen not come up ...  \n",
       "4  jk rowling wishes snape happy birthday in the ...  "
      ]
     },
     "execution_count": 42,
     "metadata": {},
     "output_type": "execute_result"
    }
   ],
   "source": [
    "data.head()"
   ]
  },
  {
   "cell_type": "code",
   "execution_count": 43,
   "id": "b5429db2",
   "metadata": {
    "colab": {
     "base_uri": "https://localhost:8080/",
     "height": 265
    },
    "executionInfo": {
     "elapsed": 657,
     "status": "ok",
     "timestamp": 1622491056223,
     "user": {
      "displayName": "Minhajuddin Meraj",
      "photoUrl": "https://lh3.googleusercontent.com/a-/AOh14GhTNicl9ZzkyX_yiNCuKiXjOHoLelDbgk2ZpNNCPA=s64",
      "userId": "16057526630484697061"
     },
     "user_tz": -300
    },
    "id": "b5429db2",
    "outputId": "79dbedbd-38c3-479a-f83b-09fba1795cfa"
   },
   "outputs": [
    {
     "data": {
      "image/png": "[encoded data removed]",
      "text/plain": [
       "<Figure size 432x288 with 1 Axes>"
      ]
     },
     "metadata": {
      "needs_background": "light"
     },
     "output_type": "display_data"
    }
   ],
   "source": [
    "data['len'].plot(kind='hist')\n",
    "plt.show()"
   ]
  },
  {
   "cell_type": "code",
   "execution_count": 44,
   "id": "956e5d80",
   "metadata": {
    "colab": {
     "base_uri": "https://localhost:8080/",
     "height": 238
    },
    "executionInfo": {
     "elapsed": 451,
     "status": "ok",
     "timestamp": 1622491056669,
     "user": {
      "displayName": "Minhajuddin Meraj",
      "photoUrl": "https://lh3.googleusercontent.com/a-/AOh14GhTNicl9ZzkyX_yiNCuKiXjOHoLelDbgk2ZpNNCPA=s64",
      "userId": "16057526630484697061"
     },
     "user_tz": -300
    },
    "id": "956e5d80",
    "outputId": "fe50b708-cc06-4168-8d2e-534d47541862"
   },
   "outputs": [
    {
     "name": "stdout",
     "output_type": "stream",
     "text": [
      "shape before preprocessing  (26709, 8)\n",
      "shape after preprocessing  (26606, 8)\n"
     ]
    },
    {
     "data": {
      "text/html": [
       "<div>\n",
       "<style scoped>\n",
       "    .dataframe tbody tr th:only-of-type {\n",
       "        vertical-align: middle;\n",
       "    }\n",
       "\n",
       "    .dataframe tbody tr th {\n",
       "        vertical-align: top;\n",
       "    }\n",
       "\n",
       "    .dataframe thead th {\n",
       "        text-align: right;\n",
       "    }\n",
       "</style>\n",
       "<table border=\"1\" class=\"dataframe\">\n",
       "  <thead>\n",
       "    <tr style=\"text-align: right;\">\n",
       "      <th></th>\n",
       "      <th>headline</th>\n",
       "      <th>is_sarcastic</th>\n",
       "      <th>source</th>\n",
       "      <th>len</th>\n",
       "      <th>ents_name</th>\n",
       "      <th>tokens_num</th>\n",
       "      <th>sents_num</th>\n",
       "      <th>clean_hd</th>\n",
       "    </tr>\n",
       "  </thead>\n",
       "  <tbody>\n",
       "    <tr>\n",
       "      <th>0</th>\n",
       "      <td>former versace store clerk sues over secret 'b...</td>\n",
       "      <td>0</td>\n",
       "      <td>huffingtonpost</td>\n",
       "      <td>12</td>\n",
       "      <td>0</td>\n",
       "      <td>14</td>\n",
       "      <td>1</td>\n",
       "      <td>former versace store clerk sues over secret bl...</td>\n",
       "    </tr>\n",
       "    <tr>\n",
       "      <th>1</th>\n",
       "      <td>the 'roseanne' revival catches up to our thorn...</td>\n",
       "      <td>0</td>\n",
       "      <td>huffingtonpost</td>\n",
       "      <td>14</td>\n",
       "      <td>0</td>\n",
       "      <td>17</td>\n",
       "      <td>1</td>\n",
       "      <td>the roseanne revival catches up to our thorny ...</td>\n",
       "    </tr>\n",
       "    <tr>\n",
       "      <th>2</th>\n",
       "      <td>mom starting to fear son's web series closest ...</td>\n",
       "      <td>1</td>\n",
       "      <td>theonion</td>\n",
       "      <td>14</td>\n",
       "      <td>0</td>\n",
       "      <td>15</td>\n",
       "      <td>1</td>\n",
       "      <td>mom starting to fear sons web series closest t...</td>\n",
       "    </tr>\n",
       "    <tr>\n",
       "      <th>3</th>\n",
       "      <td>boehner just wants wife to listen, not come up...</td>\n",
       "      <td>1</td>\n",
       "      <td>theonion</td>\n",
       "      <td>13</td>\n",
       "      <td>0</td>\n",
       "      <td>16</td>\n",
       "      <td>1</td>\n",
       "      <td>boehner just wants wife to listen not come up ...</td>\n",
       "    </tr>\n",
       "    <tr>\n",
       "      <th>4</th>\n",
       "      <td>j.k. rowling wishes snape happy birthday in th...</td>\n",
       "      <td>0</td>\n",
       "      <td>huffingtonpost</td>\n",
       "      <td>11</td>\n",
       "      <td>0</td>\n",
       "      <td>12</td>\n",
       "      <td>2</td>\n",
       "      <td>jk rowling wishes snape happy birthday in the ...</td>\n",
       "    </tr>\n",
       "  </tbody>\n",
       "</table>\n",
       "</div>"
      ],
      "text/plain": [
       "                                            headline  is_sarcastic  \\\n",
       "0  former versace store clerk sues over secret 'b...             0   \n",
       "1  the 'roseanne' revival catches up to our thorn...             0   \n",
       "2  mom starting to fear son's web series closest ...             1   \n",
       "3  boehner just wants wife to listen, not come up...             1   \n",
       "4  j.k. rowling wishes snape happy birthday in th...             0   \n",
       "\n",
       "           source  len  ents_name  tokens_num  sents_num  \\\n",
       "0  huffingtonpost   12          0          14          1   \n",
       "1  huffingtonpost   14          0          17          1   \n",
       "2        theonion   14          0          15          1   \n",
       "3        theonion   13          0          16          1   \n",
       "4  huffingtonpost   11          0          12          2   \n",
       "\n",
       "                                            clean_hd  \n",
       "0  former versace store clerk sues over secret bl...  \n",
       "1  the roseanne revival catches up to our thorny ...  \n",
       "2  mom starting to fear sons web series closest t...  \n",
       "3  boehner just wants wife to listen not come up ...  \n",
       "4  jk rowling wishes snape happy birthday in the ...  "
      ]
     },
     "execution_count": 44,
     "metadata": {},
     "output_type": "execute_result"
    }
   ],
   "source": [
    "# removing those headline whose length is less than 20\n",
    "print('shape before preprocessing ',data.shape)\n",
    "data = data[data['len'] < 20]\n",
    "print('shape after preprocessing ',data.shape)\n",
    "data.head()"
   ]
  },
  {
   "cell_type": "code",
   "execution_count": 45,
   "id": "e53f820c",
   "metadata": {
    "colab": {
     "base_uri": "https://localhost:8080/",
     "height": 289
    },
    "executionInfo": {
     "elapsed": 12,
     "status": "ok",
     "timestamp": 1622491057100,
     "user": {
      "displayName": "Minhajuddin Meraj",
      "photoUrl": "https://lh3.googleusercontent.com/a-/AOh14GhTNicl9ZzkyX_yiNCuKiXjOHoLelDbgk2ZpNNCPA=s64",
      "userId": "16057526630484697061"
     },
     "user_tz": -300
    },
    "id": "e53f820c",
    "outputId": "18d9669f-7680-4d70-cc30-e4e2a8dfae3a"
   },
   "outputs": [
    {
     "data": {
      "text/html": [
       "<div>\n",
       "<style scoped>\n",
       "    .dataframe tbody tr th:only-of-type {\n",
       "        vertical-align: middle;\n",
       "    }\n",
       "\n",
       "    .dataframe tbody tr th {\n",
       "        vertical-align: top;\n",
       "    }\n",
       "\n",
       "    .dataframe thead th {\n",
       "        text-align: right;\n",
       "    }\n",
       "</style>\n",
       "<table border=\"1\" class=\"dataframe\">\n",
       "  <thead>\n",
       "    <tr style=\"text-align: right;\">\n",
       "      <th></th>\n",
       "      <th>headline</th>\n",
       "      <th>is_sarcastic</th>\n",
       "      <th>source</th>\n",
       "      <th>len</th>\n",
       "      <th>ents_name</th>\n",
       "      <th>tokens_num</th>\n",
       "      <th>sents_num</th>\n",
       "      <th>clean_hd</th>\n",
       "      <th>tokens</th>\n",
       "    </tr>\n",
       "  </thead>\n",
       "  <tbody>\n",
       "    <tr>\n",
       "      <th>0</th>\n",
       "      <td>former versace store clerk sues over secret 'b...</td>\n",
       "      <td>0</td>\n",
       "      <td>huffingtonpost</td>\n",
       "      <td>12</td>\n",
       "      <td>0</td>\n",
       "      <td>14</td>\n",
       "      <td>1</td>\n",
       "      <td>former versace store clerk sues over secret bl...</td>\n",
       "      <td>[former, versace, store, clerk, sues, over, se...</td>\n",
       "    </tr>\n",
       "    <tr>\n",
       "      <th>1</th>\n",
       "      <td>the 'roseanne' revival catches up to our thorn...</td>\n",
       "      <td>0</td>\n",
       "      <td>huffingtonpost</td>\n",
       "      <td>14</td>\n",
       "      <td>0</td>\n",
       "      <td>17</td>\n",
       "      <td>1</td>\n",
       "      <td>the roseanne revival catches up to our thorny ...</td>\n",
       "      <td>[the, roseanne, revival, catches, up, to, our,...</td>\n",
       "    </tr>\n",
       "    <tr>\n",
       "      <th>2</th>\n",
       "      <td>mom starting to fear son's web series closest ...</td>\n",
       "      <td>1</td>\n",
       "      <td>theonion</td>\n",
       "      <td>14</td>\n",
       "      <td>0</td>\n",
       "      <td>15</td>\n",
       "      <td>1</td>\n",
       "      <td>mom starting to fear sons web series closest t...</td>\n",
       "      <td>[mom, starting, to, fear, sons, web, series, c...</td>\n",
       "    </tr>\n",
       "    <tr>\n",
       "      <th>3</th>\n",
       "      <td>boehner just wants wife to listen, not come up...</td>\n",
       "      <td>1</td>\n",
       "      <td>theonion</td>\n",
       "      <td>13</td>\n",
       "      <td>0</td>\n",
       "      <td>16</td>\n",
       "      <td>1</td>\n",
       "      <td>boehner just wants wife to listen not come up ...</td>\n",
       "      <td>[boehner, just, wants, wife, to, listen, not, ...</td>\n",
       "    </tr>\n",
       "    <tr>\n",
       "      <th>4</th>\n",
       "      <td>j.k. rowling wishes snape happy birthday in th...</td>\n",
       "      <td>0</td>\n",
       "      <td>huffingtonpost</td>\n",
       "      <td>11</td>\n",
       "      <td>0</td>\n",
       "      <td>12</td>\n",
       "      <td>2</td>\n",
       "      <td>jk rowling wishes snape happy birthday in the ...</td>\n",
       "      <td>[jk, rowling, wishes, snape, happy, birthday, ...</td>\n",
       "    </tr>\n",
       "  </tbody>\n",
       "</table>\n",
       "</div>"
      ],
      "text/plain": [
       "                                            headline  is_sarcastic  \\\n",
       "0  former versace store clerk sues over secret 'b...             0   \n",
       "1  the 'roseanne' revival catches up to our thorn...             0   \n",
       "2  mom starting to fear son's web series closest ...             1   \n",
       "3  boehner just wants wife to listen, not come up...             1   \n",
       "4  j.k. rowling wishes snape happy birthday in th...             0   \n",
       "\n",
       "           source  len  ents_name  tokens_num  sents_num  \\\n",
       "0  huffingtonpost   12          0          14          1   \n",
       "1  huffingtonpost   14          0          17          1   \n",
       "2        theonion   14          0          15          1   \n",
       "3        theonion   13          0          16          1   \n",
       "4  huffingtonpost   11          0          12          2   \n",
       "\n",
       "                                            clean_hd  \\\n",
       "0  former versace store clerk sues over secret bl...   \n",
       "1  the roseanne revival catches up to our thorny ...   \n",
       "2  mom starting to fear sons web series closest t...   \n",
       "3  boehner just wants wife to listen not come up ...   \n",
       "4  jk rowling wishes snape happy birthday in the ...   \n",
       "\n",
       "                                              tokens  \n",
       "0  [former, versace, store, clerk, sues, over, se...  \n",
       "1  [the, roseanne, revival, catches, up, to, our,...  \n",
       "2  [mom, starting, to, fear, sons, web, series, c...  \n",
       "3  [boehner, just, wants, wife, to, listen, not, ...  \n",
       "4  [jk, rowling, wishes, snape, happy, birthday, ...  "
      ]
     },
     "execution_count": 45,
     "metadata": {},
     "output_type": "execute_result"
    }
   ],
   "source": [
    "# Step 2: Tokenization process\n",
    "def tokenize_data(x):\n",
    "    return x.split(\" \")\n",
    "\n",
    "data[\"tokens\"] = data[\"clean_hd\"].apply(tokenize_data)\n",
    "data.head()"
   ]
  },
  {
   "cell_type": "code",
   "execution_count": 46,
   "id": "ea2e5181",
   "metadata": {
    "id": "ea2e5181"
   },
   "outputs": [],
   "source": [
    "#Step 3: Parts of Speech Tagging to whole sentence\n",
    "\n",
    "def calc_pos(x):\n",
    "    tokens = x.split(\" \")\n",
    "    try:\n",
    "        tagged_sent = nltk.pos_tag(tokens)\n",
    "    except:\n",
    "        tagged_sent = [\"Can not Pos\"]\n",
    "  \n",
    "    return tagged_sent"
   ]
  },
  {
   "cell_type": "code",
   "execution_count": 47,
   "id": "080947a5",
   "metadata": {
    "id": "080947a5"
   },
   "outputs": [],
   "source": [
    "data_sar = data[data[\"is_sarcastic\"] == 1]\n",
    "data_non_sar = data[data[\"is_sarcastic\"]==0]"
   ]
  },
  {
   "cell_type": "code",
   "execution_count": 48,
   "id": "87c26965",
   "metadata": {
    "colab": {
     "base_uri": "https://localhost:8080/"
    },
    "executionInfo": {
     "elapsed": 17452,
     "status": "ok",
     "timestamp": 1622491074544,
     "user": {
      "displayName": "Minhajuddin Meraj",
      "photoUrl": "https://lh3.googleusercontent.com/a-/AOh14GhTNicl9ZzkyX_yiNCuKiXjOHoLelDbgk2ZpNNCPA=s64",
      "userId": "16057526630484697061"
     },
     "user_tz": -300
    },
    "id": "87c26965",
    "outputId": "237c17ad-d109-4aca-ede3-88fe2df45f6c"
   },
   "outputs": [],
   "source": [
    "data_sar[\"pos\"] = data_sar[\"clean_hd\"].apply(calc_pos)\n",
    "data_non_sar[\"pos\"] = data_non_sar[\"clean_hd\"].apply(calc_pos)"
   ]
  },
  {
   "cell_type": "code",
   "execution_count": 49,
   "id": "f360cec6",
   "metadata": {
    "colab": {
     "base_uri": "https://localhost:8080/",
     "height": 391
    },
    "executionInfo": {
     "elapsed": 27,
     "status": "ok",
     "timestamp": 1622491074547,
     "user": {
      "displayName": "Minhajuddin Meraj",
      "photoUrl": "https://lh3.googleusercontent.com/a-/AOh14GhTNicl9ZzkyX_yiNCuKiXjOHoLelDbgk2ZpNNCPA=s64",
      "userId": "16057526630484697061"
     },
     "user_tz": -300
    },
    "id": "f360cec6",
    "outputId": "bde269e8-0c28-4032-d688-58cfe7ac9306"
   },
   "outputs": [
    {
     "data": {
      "text/html": [
       "<div>\n",
       "<style scoped>\n",
       "    .dataframe tbody tr th:only-of-type {\n",
       "        vertical-align: middle;\n",
       "    }\n",
       "\n",
       "    .dataframe tbody tr th {\n",
       "        vertical-align: top;\n",
       "    }\n",
       "\n",
       "    .dataframe thead th {\n",
       "        text-align: right;\n",
       "    }\n",
       "</style>\n",
       "<table border=\"1\" class=\"dataframe\">\n",
       "  <thead>\n",
       "    <tr style=\"text-align: right;\">\n",
       "      <th></th>\n",
       "      <th>headline</th>\n",
       "      <th>is_sarcastic</th>\n",
       "      <th>source</th>\n",
       "      <th>len</th>\n",
       "      <th>ents_name</th>\n",
       "      <th>tokens_num</th>\n",
       "      <th>sents_num</th>\n",
       "      <th>clean_hd</th>\n",
       "      <th>tokens</th>\n",
       "      <th>pos</th>\n",
       "    </tr>\n",
       "  </thead>\n",
       "  <tbody>\n",
       "    <tr>\n",
       "      <th>2</th>\n",
       "      <td>mom starting to fear son's web series closest ...</td>\n",
       "      <td>1</td>\n",
       "      <td>theonion</td>\n",
       "      <td>14</td>\n",
       "      <td>0</td>\n",
       "      <td>15</td>\n",
       "      <td>1</td>\n",
       "      <td>mom starting to fear sons web series closest t...</td>\n",
       "      <td>[mom, starting, to, fear, sons, web, series, c...</td>\n",
       "      <td>[(mom, NN), (starting, VBG), (to, TO), (fear, ...</td>\n",
       "    </tr>\n",
       "    <tr>\n",
       "      <th>3</th>\n",
       "      <td>boehner just wants wife to listen, not come up...</td>\n",
       "      <td>1</td>\n",
       "      <td>theonion</td>\n",
       "      <td>13</td>\n",
       "      <td>0</td>\n",
       "      <td>16</td>\n",
       "      <td>1</td>\n",
       "      <td>boehner just wants wife to listen not come up ...</td>\n",
       "      <td>[boehner, just, wants, wife, to, listen, not, ...</td>\n",
       "      <td>[(boehner, NN), (just, RB), (wants, VBZ), (wif...</td>\n",
       "    </tr>\n",
       "    <tr>\n",
       "      <th>8</th>\n",
       "      <td>top snake handler leaves sinking huckabee camp...</td>\n",
       "      <td>1</td>\n",
       "      <td>theonion</td>\n",
       "      <td>7</td>\n",
       "      <td>0</td>\n",
       "      <td>7</td>\n",
       "      <td>1</td>\n",
       "      <td>top snake handler leaves sinking huckabee camp...</td>\n",
       "      <td>[top, snake, handler, leaves, sinking, huckabe...</td>\n",
       "      <td>[(top, JJ), (snake, NN), (handler, NN), (leave...</td>\n",
       "    </tr>\n",
       "    <tr>\n",
       "      <th>15</th>\n",
       "      <td>nuclear bomb detonates during rehearsal for 's...</td>\n",
       "      <td>1</td>\n",
       "      <td>theonion</td>\n",
       "      <td>8</td>\n",
       "      <td>0</td>\n",
       "      <td>12</td>\n",
       "      <td>2</td>\n",
       "      <td>nuclear bomb detonates during rehearsal for sp...</td>\n",
       "      <td>[nuclear, bomb, detonates, during, rehearsal, ...</td>\n",
       "      <td>[(nuclear, JJ), (bomb, NN), (detonates, NNS), ...</td>\n",
       "    </tr>\n",
       "    <tr>\n",
       "      <th>16</th>\n",
       "      <td>cosby lawyer asks why accusers didn't come for...</td>\n",
       "      <td>1</td>\n",
       "      <td>theonion</td>\n",
       "      <td>16</td>\n",
       "      <td>1</td>\n",
       "      <td>17</td>\n",
       "      <td>1</td>\n",
       "      <td>cosby lawyer asks why accusers didnt come forw...</td>\n",
       "      <td>[cosby, lawyer, asks, why, accusers, didnt, co...</td>\n",
       "      <td>[(cosby, NN), (lawyer, NN), (asks, VBZ), (why,...</td>\n",
       "    </tr>\n",
       "  </tbody>\n",
       "</table>\n",
       "</div>"
      ],
      "text/plain": [
       "                                             headline  is_sarcastic    source  \\\n",
       "2   mom starting to fear son's web series closest ...             1  theonion   \n",
       "3   boehner just wants wife to listen, not come up...             1  theonion   \n",
       "8   top snake handler leaves sinking huckabee camp...             1  theonion   \n",
       "15  nuclear bomb detonates during rehearsal for 's...             1  theonion   \n",
       "16  cosby lawyer asks why accusers didn't come for...             1  theonion   \n",
       "\n",
       "    len  ents_name  tokens_num  sents_num  \\\n",
       "2    14          0          15          1   \n",
       "3    13          0          16          1   \n",
       "8     7          0           7          1   \n",
       "15    8          0          12          2   \n",
       "16   16          1          17          1   \n",
       "\n",
       "                                             clean_hd  \\\n",
       "2   mom starting to fear sons web series closest t...   \n",
       "3   boehner just wants wife to listen not come up ...   \n",
       "8   top snake handler leaves sinking huckabee camp...   \n",
       "15  nuclear bomb detonates during rehearsal for sp...   \n",
       "16  cosby lawyer asks why accusers didnt come forw...   \n",
       "\n",
       "                                               tokens  \\\n",
       "2   [mom, starting, to, fear, sons, web, series, c...   \n",
       "3   [boehner, just, wants, wife, to, listen, not, ...   \n",
       "8   [top, snake, handler, leaves, sinking, huckabe...   \n",
       "15  [nuclear, bomb, detonates, during, rehearsal, ...   \n",
       "16  [cosby, lawyer, asks, why, accusers, didnt, co...   \n",
       "\n",
       "                                                  pos  \n",
       "2   [(mom, NN), (starting, VBG), (to, TO), (fear, ...  \n",
       "3   [(boehner, NN), (just, RB), (wants, VBZ), (wif...  \n",
       "8   [(top, JJ), (snake, NN), (handler, NN), (leave...  \n",
       "15  [(nuclear, JJ), (bomb, NN), (detonates, NNS), ...  \n",
       "16  [(cosby, NN), (lawyer, NN), (asks, VBZ), (why,...  "
      ]
     },
     "execution_count": 49,
     "metadata": {},
     "output_type": "execute_result"
    }
   ],
   "source": [
    "data_sar.head()"
   ]
  },
  {
   "cell_type": "code",
   "execution_count": 50,
   "id": "927604c1",
   "metadata": {
    "id": "927604c1"
   },
   "outputs": [],
   "source": [
    "#Calculate the total number of each type of POS and observe the distribution over the sentences"
   ]
  },
  {
   "cell_type": "code",
   "execution_count": 51,
   "id": "a9dd22b7",
   "metadata": {
    "id": "a9dd22b7"
   },
   "outputs": [],
   "source": [
    "sarc_count ={}\n",
    "non_sarc_count = {}\n",
    "\n",
    "def pos_dict(x):\n",
    "    try:\n",
    "        pos_dict = dict(x)\n",
    "    except:\n",
    "        pos_dict = {}\n",
    "    for k,v in pos_dict.items():\n",
    "        if v in sarc_count:\n",
    "            sarc_count[v]+=1\n",
    "        else:\n",
    "            sarc_count[v] = 1\n",
    "    \n",
    "    return pos_dict\n",
    "   \n",
    "def pos_dict_no_sarc(x):\n",
    "    try:\n",
    "        pos_dict = dict(x)\n",
    "    except:\n",
    "        pos_dict = {}\n",
    "    for k,v in pos_dict.items():\n",
    "        if v in non_sarc_count:\n",
    "            non_sarc_count[v]+=1\n",
    "        else:\n",
    "            non_sarc_count[v] = 1\n",
    "    \n",
    "    return pos_dict"
   ]
  },
  {
   "cell_type": "code",
   "execution_count": 52,
   "id": "f01decd8",
   "metadata": {},
   "outputs": [],
   "source": [
    "d1 = data_sar[\"pos\"].apply(pos_dict)\n",
    "d2 = data_non_sar[\"pos\"].apply(pos_dict_no_sarc)"
   ]
  },
  {
   "cell_type": "code",
   "execution_count": 53,
   "id": "bcf0fa32",
   "metadata": {
    "colab": {
     "base_uri": "https://localhost:8080/"
    },
    "executionInfo": {
     "elapsed": 23,
     "status": "ok",
     "timestamp": 1622491074550,
     "user": {
      "displayName": "Minhajuddin Meraj",
      "photoUrl": "https://lh3.googleusercontent.com/a-/AOh14GhTNicl9ZzkyX_yiNCuKiXjOHoLelDbgk2ZpNNCPA=s64",
      "userId": "16057526630484697061"
     },
     "user_tz": -300
    },
    "id": "bcf0fa32",
    "outputId": "dfed255b-9145-4007-ebcc-329fbb491798"
   },
   "outputs": [
    {
     "data": {
      "text/plain": [
       "pandas.core.series.Series"
      ]
     },
     "execution_count": 53,
     "metadata": {},
     "output_type": "execute_result"
    }
   ],
   "source": [
    "type(data_sar[\"pos\"])"
   ]
  },
  {
   "cell_type": "code",
   "execution_count": 54,
   "id": "73cd1e46",
   "metadata": {
    "colab": {
     "base_uri": "https://localhost:8080/",
     "height": 391
    },
    "executionInfo": {
     "elapsed": 19,
     "status": "ok",
     "timestamp": 1622491074550,
     "user": {
      "displayName": "Minhajuddin Meraj",
      "photoUrl": "https://lh3.googleusercontent.com/a-/AOh14GhTNicl9ZzkyX_yiNCuKiXjOHoLelDbgk2ZpNNCPA=s64",
      "userId": "16057526630484697061"
     },
     "user_tz": -300
    },
    "id": "73cd1e46",
    "outputId": "534eb102-80f8-4884-c40b-6675c6986930"
   },
   "outputs": [
    {
     "data": {
      "text/html": [
       "<div>\n",
       "<style scoped>\n",
       "    .dataframe tbody tr th:only-of-type {\n",
       "        vertical-align: middle;\n",
       "    }\n",
       "\n",
       "    .dataframe tbody tr th {\n",
       "        vertical-align: top;\n",
       "    }\n",
       "\n",
       "    .dataframe thead th {\n",
       "        text-align: right;\n",
       "    }\n",
       "</style>\n",
       "<table border=\"1\" class=\"dataframe\">\n",
       "  <thead>\n",
       "    <tr style=\"text-align: right;\">\n",
       "      <th></th>\n",
       "      <th>headline</th>\n",
       "      <th>is_sarcastic</th>\n",
       "      <th>source</th>\n",
       "      <th>len</th>\n",
       "      <th>ents_name</th>\n",
       "      <th>tokens_num</th>\n",
       "      <th>sents_num</th>\n",
       "      <th>clean_hd</th>\n",
       "      <th>tokens</th>\n",
       "      <th>pos</th>\n",
       "    </tr>\n",
       "  </thead>\n",
       "  <tbody>\n",
       "    <tr>\n",
       "      <th>2</th>\n",
       "      <td>mom starting to fear son's web series closest ...</td>\n",
       "      <td>1</td>\n",
       "      <td>theonion</td>\n",
       "      <td>14</td>\n",
       "      <td>0</td>\n",
       "      <td>15</td>\n",
       "      <td>1</td>\n",
       "      <td>mom starting to fear sons web series closest t...</td>\n",
       "      <td>[mom, starting, to, fear, sons, web, series, c...</td>\n",
       "      <td>[(mom, NN), (starting, VBG), (to, TO), (fear, ...</td>\n",
       "    </tr>\n",
       "    <tr>\n",
       "      <th>3</th>\n",
       "      <td>boehner just wants wife to listen, not come up...</td>\n",
       "      <td>1</td>\n",
       "      <td>theonion</td>\n",
       "      <td>13</td>\n",
       "      <td>0</td>\n",
       "      <td>16</td>\n",
       "      <td>1</td>\n",
       "      <td>boehner just wants wife to listen not come up ...</td>\n",
       "      <td>[boehner, just, wants, wife, to, listen, not, ...</td>\n",
       "      <td>[(boehner, NN), (just, RB), (wants, VBZ), (wif...</td>\n",
       "    </tr>\n",
       "    <tr>\n",
       "      <th>8</th>\n",
       "      <td>top snake handler leaves sinking huckabee camp...</td>\n",
       "      <td>1</td>\n",
       "      <td>theonion</td>\n",
       "      <td>7</td>\n",
       "      <td>0</td>\n",
       "      <td>7</td>\n",
       "      <td>1</td>\n",
       "      <td>top snake handler leaves sinking huckabee camp...</td>\n",
       "      <td>[top, snake, handler, leaves, sinking, huckabe...</td>\n",
       "      <td>[(top, JJ), (snake, NN), (handler, NN), (leave...</td>\n",
       "    </tr>\n",
       "    <tr>\n",
       "      <th>15</th>\n",
       "      <td>nuclear bomb detonates during rehearsal for 's...</td>\n",
       "      <td>1</td>\n",
       "      <td>theonion</td>\n",
       "      <td>8</td>\n",
       "      <td>0</td>\n",
       "      <td>12</td>\n",
       "      <td>2</td>\n",
       "      <td>nuclear bomb detonates during rehearsal for sp...</td>\n",
       "      <td>[nuclear, bomb, detonates, during, rehearsal, ...</td>\n",
       "      <td>[(nuclear, JJ), (bomb, NN), (detonates, NNS), ...</td>\n",
       "    </tr>\n",
       "    <tr>\n",
       "      <th>16</th>\n",
       "      <td>cosby lawyer asks why accusers didn't come for...</td>\n",
       "      <td>1</td>\n",
       "      <td>theonion</td>\n",
       "      <td>16</td>\n",
       "      <td>1</td>\n",
       "      <td>17</td>\n",
       "      <td>1</td>\n",
       "      <td>cosby lawyer asks why accusers didnt come forw...</td>\n",
       "      <td>[cosby, lawyer, asks, why, accusers, didnt, co...</td>\n",
       "      <td>[(cosby, NN), (lawyer, NN), (asks, VBZ), (why,...</td>\n",
       "    </tr>\n",
       "  </tbody>\n",
       "</table>\n",
       "</div>"
      ],
      "text/plain": [
       "                                             headline  is_sarcastic    source  \\\n",
       "2   mom starting to fear son's web series closest ...             1  theonion   \n",
       "3   boehner just wants wife to listen, not come up...             1  theonion   \n",
       "8   top snake handler leaves sinking huckabee camp...             1  theonion   \n",
       "15  nuclear bomb detonates during rehearsal for 's...             1  theonion   \n",
       "16  cosby lawyer asks why accusers didn't come for...             1  theonion   \n",
       "\n",
       "    len  ents_name  tokens_num  sents_num  \\\n",
       "2    14          0          15          1   \n",
       "3    13          0          16          1   \n",
       "8     7          0           7          1   \n",
       "15    8          0          12          2   \n",
       "16   16          1          17          1   \n",
       "\n",
       "                                             clean_hd  \\\n",
       "2   mom starting to fear sons web series closest t...   \n",
       "3   boehner just wants wife to listen not come up ...   \n",
       "8   top snake handler leaves sinking huckabee camp...   \n",
       "15  nuclear bomb detonates during rehearsal for sp...   \n",
       "16  cosby lawyer asks why accusers didnt come forw...   \n",
       "\n",
       "                                               tokens  \\\n",
       "2   [mom, starting, to, fear, sons, web, series, c...   \n",
       "3   [boehner, just, wants, wife, to, listen, not, ...   \n",
       "8   [top, snake, handler, leaves, sinking, huckabe...   \n",
       "15  [nuclear, bomb, detonates, during, rehearsal, ...   \n",
       "16  [cosby, lawyer, asks, why, accusers, didnt, co...   \n",
       "\n",
       "                                                  pos  \n",
       "2   [(mom, NN), (starting, VBG), (to, TO), (fear, ...  \n",
       "3   [(boehner, NN), (just, RB), (wants, VBZ), (wif...  \n",
       "8   [(top, JJ), (snake, NN), (handler, NN), (leave...  \n",
       "15  [(nuclear, JJ), (bomb, NN), (detonates, NNS), ...  \n",
       "16  [(cosby, NN), (lawyer, NN), (asks, VBZ), (why,...  "
      ]
     },
     "execution_count": 54,
     "metadata": {},
     "output_type": "execute_result"
    }
   ],
   "source": [
    "data_sar.head()"
   ]
  },
  {
   "cell_type": "code",
   "execution_count": 55,
   "id": "2575cda8",
   "metadata": {
    "colab": {
     "base_uri": "https://localhost:8080/",
     "height": 607
    },
    "executionInfo": {
     "elapsed": 594,
     "status": "ok",
     "timestamp": 1622491075127,
     "user": {
      "displayName": "Minhajuddin Meraj",
      "photoUrl": "https://lh3.googleusercontent.com/a-/AOh14GhTNicl9ZzkyX_yiNCuKiXjOHoLelDbgk2ZpNNCPA=s64",
      "userId": "16057526630484697061"
     },
     "user_tz": -300
    },
    "id": "2575cda8",
    "outputId": "7c562de1-df60-44d3-c25e-025501a89759"
   },
   "outputs": [
    {
     "data": {
      "image/png": "[encoded data removed]",
      "text/plain": [
       "<Figure size 1440x720 with 1 Axes>"
      ]
     },
     "metadata": {
      "needs_background": "light"
     },
     "output_type": "display_data"
    }
   ],
   "source": [
    "import matplotlib.pyplot as plt\n",
    "\n",
    "fig = plt.figure(figsize=(20,10))\n",
    "plt.bar(range(len(sarc_count)), list(sarc_count.values()), align='center')\n",
    "plt.xticks(range(len(sarc_count)), list(sarc_count.keys()))\n",
    "\n",
    "plt.title(\" Parts Of Speech of Sarcastic\")\n",
    "plt.show()"
   ]
  },
  {
   "cell_type": "code",
   "execution_count": 56,
   "id": "a27ec2bd",
   "metadata": {
    "colab": {
     "base_uri": "https://localhost:8080/",
     "height": 607
    },
    "executionInfo": {
     "elapsed": 11,
     "status": "ok",
     "timestamp": 1622491075129,
     "user": {
      "displayName": "Minhajuddin Meraj",
      "photoUrl": "https://lh3.googleusercontent.com/a-/AOh14GhTNicl9ZzkyX_yiNCuKiXjOHoLelDbgk2ZpNNCPA=s64",
      "userId": "16057526630484697061"
     },
     "user_tz": -300
    },
    "id": "a27ec2bd",
    "outputId": "7ffe925e-6cd5-47a0-b0e7-c7a3397b4890"
   },
   "outputs": [
    {
     "data": {
      "image/png": "[encoded data removed]",
      "text/plain": [
       "<Figure size 1440x720 with 1 Axes>"
      ]
     },
     "metadata": {
      "needs_background": "light"
     },
     "output_type": "display_data"
    }
   ],
   "source": [
    "fig = plt.figure(figsize=(20,10))\n",
    "plt.bar(*zip(*non_sarc_count.items()), align = 'center')\n",
    "plt.title(\" Parts Of Speech of Non Sarcastic\")\n",
    "plt.show()"
   ]
  },
  {
   "cell_type": "markdown",
   "id": "18bafec4",
   "metadata": {
    "id": "18bafec4"
   },
   "source": [
    "We observe that most of the sarcastic words are nouns and verbs. They are used frequently and hence we lemmetize them."
   ]
  },
  {
   "cell_type": "code",
   "execution_count": 57,
   "id": "3bf0ead9",
   "metadata": {
    "colab": {
     "base_uri": "https://localhost:8080/"
    },
    "executionInfo": {
     "elapsed": 498,
     "status": "ok",
     "timestamp": 1622491075618,
     "user": {
      "displayName": "Minhajuddin Meraj",
      "photoUrl": "https://lh3.googleusercontent.com/a-/AOh14GhTNicl9ZzkyX_yiNCuKiXjOHoLelDbgk2ZpNNCPA=s64",
      "userId": "16057526630484697061"
     },
     "user_tz": -300
    },
    "id": "3bf0ead9",
    "outputId": "92f39bd8-3dbb-4126-a238-82fdd8e8a624"
   },
   "outputs": [],
   "source": [
    "# Step 4: Lemmetization\n",
    "\n",
    "lemm = WordNetLemmatizer()\n",
    "\n",
    "\n",
    "def lemmat(x):\n",
    "    try:\n",
    "        x = x.split(\" \")\n",
    "        temp = []\n",
    "        for i in x:\n",
    "              temp.append(lemm.lemmatize(i))\n",
    "        return temp\n",
    "    except:\n",
    "        return [\"could not perform op\"]"
   ]
  },
  {
   "cell_type": "code",
   "execution_count": 58,
   "id": "2b163b33",
   "metadata": {},
   "outputs": [],
   "source": [
    "data_sar[\"lemmatizer\"] = data_sar[\"clean_hd\"].apply(lemmat)"
   ]
  },
  {
   "cell_type": "code",
   "execution_count": 59,
   "id": "6df500cd",
   "metadata": {
    "colab": {
     "base_uri": "https://localhost:8080/",
     "height": 442
    },
    "executionInfo": {
     "elapsed": 11,
     "status": "ok",
     "timestamp": 1622491075621,
     "user": {
      "displayName": "Minhajuddin Meraj",
      "photoUrl": "https://lh3.googleusercontent.com/a-/AOh14GhTNicl9ZzkyX_yiNCuKiXjOHoLelDbgk2ZpNNCPA=s64",
      "userId": "16057526630484697061"
     },
     "user_tz": -300
    },
    "id": "6df500cd",
    "outputId": "2eefad1c-c309-4291-f36b-332dff503180",
    "scrolled": true
   },
   "outputs": [
    {
     "data": {
      "text/html": [
       "<div>\n",
       "<style scoped>\n",
       "    .dataframe tbody tr th:only-of-type {\n",
       "        vertical-align: middle;\n",
       "    }\n",
       "\n",
       "    .dataframe tbody tr th {\n",
       "        vertical-align: top;\n",
       "    }\n",
       "\n",
       "    .dataframe thead th {\n",
       "        text-align: right;\n",
       "    }\n",
       "</style>\n",
       "<table border=\"1\" class=\"dataframe\">\n",
       "  <thead>\n",
       "    <tr style=\"text-align: right;\">\n",
       "      <th></th>\n",
       "      <th>headline</th>\n",
       "      <th>is_sarcastic</th>\n",
       "      <th>source</th>\n",
       "      <th>len</th>\n",
       "      <th>ents_name</th>\n",
       "      <th>tokens_num</th>\n",
       "      <th>sents_num</th>\n",
       "      <th>clean_hd</th>\n",
       "      <th>tokens</th>\n",
       "      <th>pos</th>\n",
       "      <th>lemmatizer</th>\n",
       "    </tr>\n",
       "  </thead>\n",
       "  <tbody>\n",
       "    <tr>\n",
       "      <th>2</th>\n",
       "      <td>mom starting to fear son's web series closest ...</td>\n",
       "      <td>1</td>\n",
       "      <td>theonion</td>\n",
       "      <td>14</td>\n",
       "      <td>0</td>\n",
       "      <td>15</td>\n",
       "      <td>1</td>\n",
       "      <td>mom starting to fear sons web series closest t...</td>\n",
       "      <td>[mom, starting, to, fear, sons, web, series, c...</td>\n",
       "      <td>[(mom, NN), (starting, VBG), (to, TO), (fear, ...</td>\n",
       "      <td>[mom, starting, to, fear, son, web, series, cl...</td>\n",
       "    </tr>\n",
       "    <tr>\n",
       "      <th>3</th>\n",
       "      <td>boehner just wants wife to listen, not come up...</td>\n",
       "      <td>1</td>\n",
       "      <td>theonion</td>\n",
       "      <td>13</td>\n",
       "      <td>0</td>\n",
       "      <td>16</td>\n",
       "      <td>1</td>\n",
       "      <td>boehner just wants wife to listen not come up ...</td>\n",
       "      <td>[boehner, just, wants, wife, to, listen, not, ...</td>\n",
       "      <td>[(boehner, NN), (just, RB), (wants, VBZ), (wif...</td>\n",
       "      <td>[boehner, just, want, wife, to, listen, not, c...</td>\n",
       "    </tr>\n",
       "    <tr>\n",
       "      <th>8</th>\n",
       "      <td>top snake handler leaves sinking huckabee camp...</td>\n",
       "      <td>1</td>\n",
       "      <td>theonion</td>\n",
       "      <td>7</td>\n",
       "      <td>0</td>\n",
       "      <td>7</td>\n",
       "      <td>1</td>\n",
       "      <td>top snake handler leaves sinking huckabee camp...</td>\n",
       "      <td>[top, snake, handler, leaves, sinking, huckabe...</td>\n",
       "      <td>[(top, JJ), (snake, NN), (handler, NN), (leave...</td>\n",
       "      <td>[top, snake, handler, leaf, sinking, huckabee,...</td>\n",
       "    </tr>\n",
       "    <tr>\n",
       "      <th>15</th>\n",
       "      <td>nuclear bomb detonates during rehearsal for 's...</td>\n",
       "      <td>1</td>\n",
       "      <td>theonion</td>\n",
       "      <td>8</td>\n",
       "      <td>0</td>\n",
       "      <td>12</td>\n",
       "      <td>2</td>\n",
       "      <td>nuclear bomb detonates during rehearsal for sp...</td>\n",
       "      <td>[nuclear, bomb, detonates, during, rehearsal, ...</td>\n",
       "      <td>[(nuclear, JJ), (bomb, NN), (detonates, NNS), ...</td>\n",
       "      <td>[nuclear, bomb, detonates, during, rehearsal, ...</td>\n",
       "    </tr>\n",
       "    <tr>\n",
       "      <th>16</th>\n",
       "      <td>cosby lawyer asks why accusers didn't come for...</td>\n",
       "      <td>1</td>\n",
       "      <td>theonion</td>\n",
       "      <td>16</td>\n",
       "      <td>1</td>\n",
       "      <td>17</td>\n",
       "      <td>1</td>\n",
       "      <td>cosby lawyer asks why accusers didnt come forw...</td>\n",
       "      <td>[cosby, lawyer, asks, why, accusers, didnt, co...</td>\n",
       "      <td>[(cosby, NN), (lawyer, NN), (asks, VBZ), (why,...</td>\n",
       "      <td>[cosby, lawyer, asks, why, accuser, didnt, com...</td>\n",
       "    </tr>\n",
       "  </tbody>\n",
       "</table>\n",
       "</div>"
      ],
      "text/plain": [
       "                                             headline  is_sarcastic    source  \\\n",
       "2   mom starting to fear son's web series closest ...             1  theonion   \n",
       "3   boehner just wants wife to listen, not come up...             1  theonion   \n",
       "8   top snake handler leaves sinking huckabee camp...             1  theonion   \n",
       "15  nuclear bomb detonates during rehearsal for 's...             1  theonion   \n",
       "16  cosby lawyer asks why accusers didn't come for...             1  theonion   \n",
       "\n",
       "    len  ents_name  tokens_num  sents_num  \\\n",
       "2    14          0          15          1   \n",
       "3    13          0          16          1   \n",
       "8     7          0           7          1   \n",
       "15    8          0          12          2   \n",
       "16   16          1          17          1   \n",
       "\n",
       "                                             clean_hd  \\\n",
       "2   mom starting to fear sons web series closest t...   \n",
       "3   boehner just wants wife to listen not come up ...   \n",
       "8   top snake handler leaves sinking huckabee camp...   \n",
       "15  nuclear bomb detonates during rehearsal for sp...   \n",
       "16  cosby lawyer asks why accusers didnt come forw...   \n",
       "\n",
       "                                               tokens  \\\n",
       "2   [mom, starting, to, fear, sons, web, series, c...   \n",
       "3   [boehner, just, wants, wife, to, listen, not, ...   \n",
       "8   [top, snake, handler, leaves, sinking, huckabe...   \n",
       "15  [nuclear, bomb, detonates, during, rehearsal, ...   \n",
       "16  [cosby, lawyer, asks, why, accusers, didnt, co...   \n",
       "\n",
       "                                                  pos  \\\n",
       "2   [(mom, NN), (starting, VBG), (to, TO), (fear, ...   \n",
       "3   [(boehner, NN), (just, RB), (wants, VBZ), (wif...   \n",
       "8   [(top, JJ), (snake, NN), (handler, NN), (leave...   \n",
       "15  [(nuclear, JJ), (bomb, NN), (detonates, NNS), ...   \n",
       "16  [(cosby, NN), (lawyer, NN), (asks, VBZ), (why,...   \n",
       "\n",
       "                                           lemmatizer  \n",
       "2   [mom, starting, to, fear, son, web, series, cl...  \n",
       "3   [boehner, just, want, wife, to, listen, not, c...  \n",
       "8   [top, snake, handler, leaf, sinking, huckabee,...  \n",
       "15  [nuclear, bomb, detonates, during, rehearsal, ...  \n",
       "16  [cosby, lawyer, asks, why, accuser, didnt, com...  "
      ]
     },
     "execution_count": 59,
     "metadata": {},
     "output_type": "execute_result"
    }
   ],
   "source": [
    "data_sar.head()"
   ]
  },
  {
   "cell_type": "code",
   "execution_count": 60,
   "id": "23d5f30b",
   "metadata": {
    "id": "23d5f30b"
   },
   "outputs": [],
   "source": [
    "#Step 5: Removal of Stop Words\n",
    "data['headline_new'] = data['headline'].apply(lambda x: re.sub('[^a-zA-Z]','  ',x))"
   ]
  },
  {
   "cell_type": "code",
   "execution_count": 61,
   "id": "d1ae4521",
   "metadata": {
    "id": "d1ae4521"
   },
   "outputs": [],
   "source": [
    "noise_list = nltk.corpus.stopwords.words('english')"
   ]
  },
  {
   "cell_type": "code",
   "execution_count": 62,
   "id": "5499b889",
   "metadata": {
    "id": "5499b889"
   },
   "outputs": [],
   "source": [
    "data['headline_new'] = data['headline_new'].apply(lambda x: [i for i in x.split() if i not in noise_list])"
   ]
  },
  {
   "cell_type": "code",
   "execution_count": 63,
   "id": "dfae949f",
   "metadata": {
    "id": "dfae949f"
   },
   "outputs": [],
   "source": [
    "from nltk.stem.wordnet import WordNetLemmatizer\n",
    "lem = WordNetLemmatizer()"
   ]
  },
  {
   "cell_type": "code",
   "execution_count": 64,
   "id": "d8b3e8ed",
   "metadata": {
    "id": "d8b3e8ed"
   },
   "outputs": [],
   "source": [
    "data['headline_new'] = data['headline_new'].apply(lambda x: [lem.lemmatize(i,'v') for i in x])"
   ]
  },
  {
   "cell_type": "code",
   "execution_count": 65,
   "id": "a1d348b1",
   "metadata": {
    "id": "a1d348b1"
   },
   "outputs": [],
   "source": [
    "data['headline_new'] = data['headline_new'].apply(lambda x: [i.lower() for i in x])"
   ]
  },
  {
   "cell_type": "code",
   "execution_count": 66,
   "id": "657a796d",
   "metadata": {
    "id": "657a796d"
   },
   "outputs": [],
   "source": [
    "#creating lemmatized and stopped sentences\n",
    "def join_lammatize(x):\n",
    "    return \" \".join(x)\n",
    "\n",
    "data[\"lemmat\"] = data[\"headline_new\"].apply(join_lammatize)"
   ]
  },
  {
   "cell_type": "code",
   "execution_count": 67,
   "id": "50642e44",
   "metadata": {},
   "outputs": [],
   "source": [
    "#stopper lambda:\n",
    "stops = set(stopwords.words('english'))\n",
    "\n",
    "def stopper_lambda(x):\n",
    " \n",
    "    words = x.split(\" \")\n",
    "    temp = []\n",
    "    for word in words:\n",
    "        if word not in stops:\n",
    "            temp.append(word)\n",
    "    return \" \".join(temp)"
   ]
  },
  {
   "cell_type": "code",
   "execution_count": 68,
   "id": "acb48f7c",
   "metadata": {},
   "outputs": [],
   "source": [
    "data[\"stopped\"] = data[\"clean_hd\"].apply(stopper_lambda)"
   ]
  },
  {
   "cell_type": "code",
   "execution_count": 69,
   "id": "554817cd",
   "metadata": {
    "colab": {
     "base_uri": "https://localhost:8080/",
     "height": 442
    },
    "executionInfo": {
     "elapsed": 13,
     "status": "ok",
     "timestamp": 1622491078929,
     "user": {
      "displayName": "Minhajuddin Meraj",
      "photoUrl": "https://lh3.googleusercontent.com/a-/AOh14GhTNicl9ZzkyX_yiNCuKiXjOHoLelDbgk2ZpNNCPA=s64",
      "userId": "16057526630484697061"
     },
     "user_tz": -300
    },
    "id": "554817cd",
    "outputId": "7bc360cb-8a9d-4028-dacc-e5a7a1920b1b",
    "scrolled": true
   },
   "outputs": [
    {
     "data": {
      "text/html": [
       "<div>\n",
       "<style scoped>\n",
       "    .dataframe tbody tr th:only-of-type {\n",
       "        vertical-align: middle;\n",
       "    }\n",
       "\n",
       "    .dataframe tbody tr th {\n",
       "        vertical-align: top;\n",
       "    }\n",
       "\n",
       "    .dataframe thead th {\n",
       "        text-align: right;\n",
       "    }\n",
       "</style>\n",
       "<table border=\"1\" class=\"dataframe\">\n",
       "  <thead>\n",
       "    <tr style=\"text-align: right;\">\n",
       "      <th></th>\n",
       "      <th>headline</th>\n",
       "      <th>is_sarcastic</th>\n",
       "      <th>source</th>\n",
       "      <th>len</th>\n",
       "      <th>ents_name</th>\n",
       "      <th>tokens_num</th>\n",
       "      <th>sents_num</th>\n",
       "      <th>clean_hd</th>\n",
       "      <th>tokens</th>\n",
       "      <th>headline_new</th>\n",
       "      <th>lemmat</th>\n",
       "      <th>stopped</th>\n",
       "    </tr>\n",
       "  </thead>\n",
       "  <tbody>\n",
       "    <tr>\n",
       "      <th>0</th>\n",
       "      <td>former versace store clerk sues over secret 'b...</td>\n",
       "      <td>0</td>\n",
       "      <td>huffingtonpost</td>\n",
       "      <td>12</td>\n",
       "      <td>0</td>\n",
       "      <td>14</td>\n",
       "      <td>1</td>\n",
       "      <td>former versace store clerk sues over secret bl...</td>\n",
       "      <td>[former, versace, store, clerk, sues, over, se...</td>\n",
       "      <td>[former, versace, store, clerk, sue, secret, b...</td>\n",
       "      <td>former versace store clerk sue secret black co...</td>\n",
       "      <td>former versace store clerk sues secret black c...</td>\n",
       "    </tr>\n",
       "    <tr>\n",
       "      <th>1</th>\n",
       "      <td>the 'roseanne' revival catches up to our thorn...</td>\n",
       "      <td>0</td>\n",
       "      <td>huffingtonpost</td>\n",
       "      <td>14</td>\n",
       "      <td>0</td>\n",
       "      <td>17</td>\n",
       "      <td>1</td>\n",
       "      <td>the roseanne revival catches up to our thorny ...</td>\n",
       "      <td>[the, roseanne, revival, catches, up, to, our,...</td>\n",
       "      <td>[roseanne, revival, catch, thorny, political, ...</td>\n",
       "      <td>roseanne revival catch thorny political mood b...</td>\n",
       "      <td>roseanne revival catches thorny political mood...</td>\n",
       "    </tr>\n",
       "    <tr>\n",
       "      <th>2</th>\n",
       "      <td>mom starting to fear son's web series closest ...</td>\n",
       "      <td>1</td>\n",
       "      <td>theonion</td>\n",
       "      <td>14</td>\n",
       "      <td>0</td>\n",
       "      <td>15</td>\n",
       "      <td>1</td>\n",
       "      <td>mom starting to fear sons web series closest t...</td>\n",
       "      <td>[mom, starting, to, fear, sons, web, series, c...</td>\n",
       "      <td>[mom, start, fear, son, web, series, closest, ...</td>\n",
       "      <td>mom start fear son web series closest thing gr...</td>\n",
       "      <td>mom starting fear sons web series closest thin...</td>\n",
       "    </tr>\n",
       "    <tr>\n",
       "      <th>3</th>\n",
       "      <td>boehner just wants wife to listen, not come up...</td>\n",
       "      <td>1</td>\n",
       "      <td>theonion</td>\n",
       "      <td>13</td>\n",
       "      <td>0</td>\n",
       "      <td>16</td>\n",
       "      <td>1</td>\n",
       "      <td>boehner just wants wife to listen not come up ...</td>\n",
       "      <td>[boehner, just, wants, wife, to, listen, not, ...</td>\n",
       "      <td>[boehner, want, wife, listen, come, alternativ...</td>\n",
       "      <td>boehner want wife listen come alternative debt...</td>\n",
       "      <td>boehner wants wife listen come alternative deb...</td>\n",
       "    </tr>\n",
       "    <tr>\n",
       "      <th>4</th>\n",
       "      <td>j.k. rowling wishes snape happy birthday in th...</td>\n",
       "      <td>0</td>\n",
       "      <td>huffingtonpost</td>\n",
       "      <td>11</td>\n",
       "      <td>0</td>\n",
       "      <td>12</td>\n",
       "      <td>2</td>\n",
       "      <td>jk rowling wishes snape happy birthday in the ...</td>\n",
       "      <td>[jk, rowling, wishes, snape, happy, birthday, ...</td>\n",
       "      <td>[j, k, rowling, wish, snape, happy, birthday, ...</td>\n",
       "      <td>j k rowling wish snape happy birthday magical way</td>\n",
       "      <td>jk rowling wishes snape happy birthday magical...</td>\n",
       "    </tr>\n",
       "  </tbody>\n",
       "</table>\n",
       "</div>"
      ],
      "text/plain": [
       "                                            headline  is_sarcastic  \\\n",
       "0  former versace store clerk sues over secret 'b...             0   \n",
       "1  the 'roseanne' revival catches up to our thorn...             0   \n",
       "2  mom starting to fear son's web series closest ...             1   \n",
       "3  boehner just wants wife to listen, not come up...             1   \n",
       "4  j.k. rowling wishes snape happy birthday in th...             0   \n",
       "\n",
       "           source  len  ents_name  tokens_num  sents_num  \\\n",
       "0  huffingtonpost   12          0          14          1   \n",
       "1  huffingtonpost   14          0          17          1   \n",
       "2        theonion   14          0          15          1   \n",
       "3        theonion   13          0          16          1   \n",
       "4  huffingtonpost   11          0          12          2   \n",
       "\n",
       "                                            clean_hd  \\\n",
       "0  former versace store clerk sues over secret bl...   \n",
       "1  the roseanne revival catches up to our thorny ...   \n",
       "2  mom starting to fear sons web series closest t...   \n",
       "3  boehner just wants wife to listen not come up ...   \n",
       "4  jk rowling wishes snape happy birthday in the ...   \n",
       "\n",
       "                                              tokens  \\\n",
       "0  [former, versace, store, clerk, sues, over, se...   \n",
       "1  [the, roseanne, revival, catches, up, to, our,...   \n",
       "2  [mom, starting, to, fear, sons, web, series, c...   \n",
       "3  [boehner, just, wants, wife, to, listen, not, ...   \n",
       "4  [jk, rowling, wishes, snape, happy, birthday, ...   \n",
       "\n",
       "                                        headline_new  \\\n",
       "0  [former, versace, store, clerk, sue, secret, b...   \n",
       "1  [roseanne, revival, catch, thorny, political, ...   \n",
       "2  [mom, start, fear, son, web, series, closest, ...   \n",
       "3  [boehner, want, wife, listen, come, alternativ...   \n",
       "4  [j, k, rowling, wish, snape, happy, birthday, ...   \n",
       "\n",
       "                                              lemmat  \\\n",
       "0  former versace store clerk sue secret black co...   \n",
       "1  roseanne revival catch thorny political mood b...   \n",
       "2  mom start fear son web series closest thing gr...   \n",
       "3  boehner want wife listen come alternative debt...   \n",
       "4  j k rowling wish snape happy birthday magical way   \n",
       "\n",
       "                                             stopped  \n",
       "0  former versace store clerk sues secret black c...  \n",
       "1  roseanne revival catches thorny political mood...  \n",
       "2  mom starting fear sons web series closest thin...  \n",
       "3  boehner wants wife listen come alternative deb...  \n",
       "4  jk rowling wishes snape happy birthday magical...  "
      ]
     },
     "execution_count": 69,
     "metadata": {},
     "output_type": "execute_result"
    }
   ],
   "source": [
    "#explaination of columns containing training data: \n",
    "\n",
    "#headline : raw data\n",
    "#clean_hd : removed punctuations\n",
    "#lemmat: lemmatized sentences\n",
    "#stopped : Removed stopwords\n",
    "data.head()"
   ]
  },
  {
   "cell_type": "code",
   "execution_count": 70,
   "id": "7d58d488",
   "metadata": {},
   "outputs": [],
   "source": [
    "clean_hd = 27539\n",
    "lemmat = 20057\n",
    "stopped = 27404\n",
    "headline = 29549\n",
    "\n",
    "plot_unique_dict = {\"without punctuation\":clean_hd, \"Lemmatized\": lemmat, \"Stopped\" : stopped , \"Raw data\":headline}"
   ]
  },
  {
   "cell_type": "code",
   "execution_count": 71,
   "id": "d36ac170",
   "metadata": {
    "scrolled": true
   },
   "outputs": [
    {
     "data": {
      "image/png": "[encoded data removed]",
      "text/plain": [
       "<Figure size 720x720 with 1 Axes>"
      ]
     },
     "metadata": {
      "needs_background": "light"
     },
     "output_type": "display_data"
    }
   ],
   "source": [
    "fig = plt.figure(figsize=(10,10))\n",
    "ax1 = fig.add_axes((0.1, 0.2, 0.8, 0.7))\n",
    "\n",
    "ax1.set_title(\"Unique words per corpus\")\n",
    "plt.bar(range(len(plot_unique_dict)), list(plot_unique_dict.values()), align='center')\n",
    "plt.xticks(range(len(plot_unique_dict)), list(plot_unique_dict.keys()))\n",
    "plt.show()"
   ]
  },
  {
   "cell_type": "code",
   "execution_count": 72,
   "id": "88e7876b",
   "metadata": {},
   "outputs": [],
   "source": [
    "#Saving the cleaned data\n",
    "data.to_csv(\"Pre_Processed File.csv\")"
   ]
  }
 ],
 "metadata": {
  "colab": {
   "collapsed_sections": [
    "d71197aa"
   ],
   "name": "Saracsm_project.ipynb",
   "provenance": []
  },
  "kernelspec": {
   "display_name": "Python 3",
   "language": "python",
   "name": "python3"
  },
  "language_info": {
   "codemirror_mode": {
    "name": "ipython",
    "version": 3
   },
   "file_extension": ".py",
   "mimetype": "text/x-python",
   "name": "python",
   "nbconvert_exporter": "python",
   "pygments_lexer": "ipython3",
   "version": "3.9.5"
  }
 },
 "nbformat": 4,
 "nbformat_minor": 5
}
