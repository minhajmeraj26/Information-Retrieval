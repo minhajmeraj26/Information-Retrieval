{
 "cells": [
  {
   "cell_type": "code",
   "execution_count": 1,
   "id": "15d640e8",
   "metadata": {},
   "outputs": [],
   "source": [
    "## Loading the Pre_Processed File for Model building\n",
    "import pandas as pd\n",
    "import numpy as np\n",
    "import matplotlib.pyplot as plt\n",
    "import seaborn as sns\n",
    "\n",
    "import warnings\n",
    "warnings.filterwarnings('ignore')"
   ]
  },
  {
   "cell_type": "code",
   "execution_count": 2,
   "id": "1f8457a8",
   "metadata": {
    "scrolled": true
   },
   "outputs": [
    {
     "data": {
      "text/html": [
       "<div>\n",
       "<style scoped>\n",
       "    .dataframe tbody tr th:only-of-type {\n",
       "        vertical-align: middle;\n",
       "    }\n",
       "\n",
       "    .dataframe tbody tr th {\n",
       "        vertical-align: top;\n",
       "    }\n",
       "\n",
       "    .dataframe thead th {\n",
       "        text-align: right;\n",
       "    }\n",
       "</style>\n",
       "<table border=\"1\" class=\"dataframe\">\n",
       "  <thead>\n",
       "    <tr style=\"text-align: right;\">\n",
       "      <th></th>\n",
       "      <th>headline</th>\n",
       "      <th>is_sarcastic</th>\n",
       "      <th>source</th>\n",
       "      <th>len</th>\n",
       "      <th>ents_name</th>\n",
       "      <th>tokens_num</th>\n",
       "      <th>sents_num</th>\n",
       "      <th>clean_hd</th>\n",
       "      <th>tokens</th>\n",
       "      <th>headline_new</th>\n",
       "      <th>lemmat</th>\n",
       "      <th>stopped</th>\n",
       "    </tr>\n",
       "  </thead>\n",
       "  <tbody>\n",
       "    <tr>\n",
       "      <th>0</th>\n",
       "      <td>former versace store clerk sues over secret 'b...</td>\n",
       "      <td>0</td>\n",
       "      <td>huffingtonpost</td>\n",
       "      <td>12</td>\n",
       "      <td>0</td>\n",
       "      <td>14</td>\n",
       "      <td>1</td>\n",
       "      <td>former versace store clerk sues over secret bl...</td>\n",
       "      <td>['former', 'versace', 'store', 'clerk', 'sues'...</td>\n",
       "      <td>['former', 'versace', 'store', 'clerk', 'sue',...</td>\n",
       "      <td>former versace store clerk sue secret black co...</td>\n",
       "      <td>former versace store clerk sues secret black c...</td>\n",
       "    </tr>\n",
       "    <tr>\n",
       "      <th>1</th>\n",
       "      <td>the 'roseanne' revival catches up to our thorn...</td>\n",
       "      <td>0</td>\n",
       "      <td>huffingtonpost</td>\n",
       "      <td>14</td>\n",
       "      <td>0</td>\n",
       "      <td>17</td>\n",
       "      <td>1</td>\n",
       "      <td>the roseanne revival catches up to our thorny ...</td>\n",
       "      <td>['the', 'roseanne', 'revival', 'catches', 'up'...</td>\n",
       "      <td>['roseanne', 'revival', 'catch', 'thorny', 'po...</td>\n",
       "      <td>roseanne revival catch thorny political mood b...</td>\n",
       "      <td>roseanne revival catches thorny political mood...</td>\n",
       "    </tr>\n",
       "    <tr>\n",
       "      <th>2</th>\n",
       "      <td>mom starting to fear son's web series closest ...</td>\n",
       "      <td>1</td>\n",
       "      <td>theonion</td>\n",
       "      <td>14</td>\n",
       "      <td>0</td>\n",
       "      <td>15</td>\n",
       "      <td>1</td>\n",
       "      <td>mom starting to fear sons web series closest t...</td>\n",
       "      <td>['mom', 'starting', 'to', 'fear', 'sons', 'web...</td>\n",
       "      <td>['mom', 'start', 'fear', 'son', 'web', 'series...</td>\n",
       "      <td>mom start fear son web series closest thing gr...</td>\n",
       "      <td>mom starting fear sons web series closest thin...</td>\n",
       "    </tr>\n",
       "    <tr>\n",
       "      <th>3</th>\n",
       "      <td>boehner just wants wife to listen, not come up...</td>\n",
       "      <td>1</td>\n",
       "      <td>theonion</td>\n",
       "      <td>13</td>\n",
       "      <td>0</td>\n",
       "      <td>16</td>\n",
       "      <td>1</td>\n",
       "      <td>boehner just wants wife to listen not come up ...</td>\n",
       "      <td>['boehner', 'just', 'wants', 'wife', 'to', 'li...</td>\n",
       "      <td>['boehner', 'want', 'wife', 'listen', 'come', ...</td>\n",
       "      <td>boehner want wife listen come alternative debt...</td>\n",
       "      <td>boehner wants wife listen come alternative deb...</td>\n",
       "    </tr>\n",
       "    <tr>\n",
       "      <th>4</th>\n",
       "      <td>j.k. rowling wishes snape happy birthday in th...</td>\n",
       "      <td>0</td>\n",
       "      <td>huffingtonpost</td>\n",
       "      <td>11</td>\n",
       "      <td>0</td>\n",
       "      <td>12</td>\n",
       "      <td>2</td>\n",
       "      <td>jk rowling wishes snape happy birthday in the ...</td>\n",
       "      <td>['jk', 'rowling', 'wishes', 'snape', 'happy', ...</td>\n",
       "      <td>['j', 'k', 'rowling', 'wish', 'snape', 'happy'...</td>\n",
       "      <td>j k rowling wish snape happy birthday magical way</td>\n",
       "      <td>jk rowling wishes snape happy birthday magical...</td>\n",
       "    </tr>\n",
       "  </tbody>\n",
       "</table>\n",
       "</div>"
      ],
      "text/plain": [
       "                                            headline  is_sarcastic  \\\n",
       "0  former versace store clerk sues over secret 'b...             0   \n",
       "1  the 'roseanne' revival catches up to our thorn...             0   \n",
       "2  mom starting to fear son's web series closest ...             1   \n",
       "3  boehner just wants wife to listen, not come up...             1   \n",
       "4  j.k. rowling wishes snape happy birthday in th...             0   \n",
       "\n",
       "           source  len  ents_name  tokens_num  sents_num  \\\n",
       "0  huffingtonpost   12          0          14          1   \n",
       "1  huffingtonpost   14          0          17          1   \n",
       "2        theonion   14          0          15          1   \n",
       "3        theonion   13          0          16          1   \n",
       "4  huffingtonpost   11          0          12          2   \n",
       "\n",
       "                                            clean_hd  \\\n",
       "0  former versace store clerk sues over secret bl...   \n",
       "1  the roseanne revival catches up to our thorny ...   \n",
       "2  mom starting to fear sons web series closest t...   \n",
       "3  boehner just wants wife to listen not come up ...   \n",
       "4  jk rowling wishes snape happy birthday in the ...   \n",
       "\n",
       "                                              tokens  \\\n",
       "0  ['former', 'versace', 'store', 'clerk', 'sues'...   \n",
       "1  ['the', 'roseanne', 'revival', 'catches', 'up'...   \n",
       "2  ['mom', 'starting', 'to', 'fear', 'sons', 'web...   \n",
       "3  ['boehner', 'just', 'wants', 'wife', 'to', 'li...   \n",
       "4  ['jk', 'rowling', 'wishes', 'snape', 'happy', ...   \n",
       "\n",
       "                                        headline_new  \\\n",
       "0  ['former', 'versace', 'store', 'clerk', 'sue',...   \n",
       "1  ['roseanne', 'revival', 'catch', 'thorny', 'po...   \n",
       "2  ['mom', 'start', 'fear', 'son', 'web', 'series...   \n",
       "3  ['boehner', 'want', 'wife', 'listen', 'come', ...   \n",
       "4  ['j', 'k', 'rowling', 'wish', 'snape', 'happy'...   \n",
       "\n",
       "                                              lemmat  \\\n",
       "0  former versace store clerk sue secret black co...   \n",
       "1  roseanne revival catch thorny political mood b...   \n",
       "2  mom start fear son web series closest thing gr...   \n",
       "3  boehner want wife listen come alternative debt...   \n",
       "4  j k rowling wish snape happy birthday magical way   \n",
       "\n",
       "                                             stopped  \n",
       "0  former versace store clerk sues secret black c...  \n",
       "1  roseanne revival catches thorny political mood...  \n",
       "2  mom starting fear sons web series closest thin...  \n",
       "3  boehner wants wife listen come alternative deb...  \n",
       "4  jk rowling wishes snape happy birthday magical...  "
      ]
     },
     "execution_count": 2,
     "metadata": {},
     "output_type": "execute_result"
    }
   ],
   "source": [
    "pre_processed_file = pd.read_csv(\"Pre_Processed File.csv\")\n",
    "pre_processed_file = pre_processed_file.drop(\"Unnamed: 0\",axis=1)\n",
    "pre_processed_file.head()"
   ]
  },
  {
   "cell_type": "code",
   "execution_count": 3,
   "id": "aaa561a4",
   "metadata": {
    "id": "aaa561a4"
   },
   "outputs": [],
   "source": [
    "# Corpus Selection on which you want to train your model\n",
    "corpus_selection = \"headline\" "
   ]
  },
  {
   "cell_type": "code",
   "execution_count": 4,
   "id": "lWSuCv5gAlev",
   "metadata": {
    "id": "lWSuCv5gAlev"
   },
   "outputs": [],
   "source": [
    "#Linear Support Vector Classifier\n",
    "#The task requires a text dataset that has sentences to be classified and labels for that sentences. The amount of data for this task can only be estimated once the model building phase starts. It has more flexibility in the choice of penalties and loss functions and should scale better to large numbers of samples. C is the penalty parameter and it is set to 1 because the accuracy somehow increases, and the kernel is set to linear, the other kernels (poly and rbf) are either too slow or innacurate."
   ]
  },
  {
   "cell_type": "code",
   "execution_count": 5,
   "id": "y3GEi5O0BGFS",
   "metadata": {
    "id": "y3GEi5O0BGFS"
   },
   "outputs": [],
   "source": [
    "from sklearn.feature_extraction.text import CountVectorizer, TfidfTransformer\n",
    "from sklearn.svm import LinearSVC\n",
    "from sklearn.model_selection import train_test_split\n",
    "from sklearn.metrics import confusion_matrix, classification_report, accuracy_score"
   ]
  },
  {
   "cell_type": "code",
   "execution_count": 6,
   "id": "a3f5e252",
   "metadata": {},
   "outputs": [
    {
     "name": "stdout",
     "output_type": "stream",
     "text": [
      "(26606, 2)\n"
     ]
    }
   ],
   "source": [
    "#Checking the shape of training data\n",
    "Y = pd.get_dummies(pre_processed_file['is_sarcastic']).values\n",
    "print(Y.shape)"
   ]
  },
  {
   "cell_type": "code",
   "execution_count": 7,
   "id": "BuuD5miXBcyF",
   "metadata": {
    "id": "BuuD5miXBcyF"
   },
   "outputs": [],
   "source": [
    "#Split data into train and test sets\n",
    "X_train, X_test, y_train, y_test = train_test_split(pre_processed_file[corpus_selection],pre_processed_file['is_sarcastic'],test_size=0.3,random_state=33)"
   ]
  },
  {
   "cell_type": "code",
   "execution_count": 8,
   "id": "ed5f8548",
   "metadata": {},
   "outputs": [
    {
     "name": "stdout",
     "output_type": "stream",
     "text": [
      "(18624,) (18624,)\n",
      "(7982,) (7982,)\n"
     ]
    }
   ],
   "source": [
    "print(X_train.shape, y_train.shape)\n",
    "print(X_test.shape, y_test.shape)"
   ]
  },
  {
   "cell_type": "code",
   "execution_count": 9,
   "id": "7Y3nNpnHBeEm",
   "metadata": {
    "id": "7Y3nNpnHBeEm"
   },
   "outputs": [],
   "source": [
    "#Train and evaluate the model\n",
    "vect = CountVectorizer(ngram_range=(1, 2)).fit(X_train)"
   ]
  },
  {
   "cell_type": "code",
   "execution_count": 10,
   "id": "bVUReDhEBfqG",
   "metadata": {
    "id": "bVUReDhEBfqG"
   },
   "outputs": [],
   "source": [
    "#vectorize sentences bow \n",
    "X_train_vectorized = vect.transform(X_train)"
   ]
  },
  {
   "cell_type": "code",
   "execution_count": 11,
   "id": "YU2vyPkgE5Vo",
   "metadata": {
    "colab": {
     "base_uri": "https://localhost:8080/"
    },
    "executionInfo": {
     "elapsed": 334,
     "status": "ok",
     "timestamp": 1622492838482,
     "user": {
      "displayName": "Minhajuddin Meraj",
      "photoUrl": "https://lh3.googleusercontent.com/a-/AOh14GhTNicl9ZzkyX_yiNCuKiXjOHoLelDbgk2ZpNNCPA=s64",
      "userId": "16057526630484697061"
     },
     "user_tz": -300
    },
    "id": "YU2vyPkgE5Vo",
    "outputId": "2e2c76f6-388d-4fcf-9ccf-6fc00d90240e"
   },
   "outputs": [
    {
     "name": "stdout",
     "output_type": "stream",
     "text": [
      "Shape of Sparse Matrix:  (18624, 135863)\n"
     ]
    }
   ],
   "source": [
    "print(\"Shape of Sparse Matrix: \", X_train_vectorized.shape)"
   ]
  },
  {
   "cell_type": "code",
   "execution_count": 12,
   "id": "iy4VohtSE-tu",
   "metadata": {
    "colab": {
     "base_uri": "https://localhost:8080/"
    },
    "executionInfo": {
     "elapsed": 4,
     "status": "ok",
     "timestamp": 1622492838830,
     "user": {
      "displayName": "Minhajuddin Meraj",
      "photoUrl": "https://lh3.googleusercontent.com/a-/AOh14GhTNicl9ZzkyX_yiNCuKiXjOHoLelDbgk2ZpNNCPA=s64",
      "userId": "16057526630484697061"
     },
     "user_tz": -300
    },
    "id": "iy4VohtSE-tu",
    "outputId": "a6e1dbe1-90ce-4f73-bc7a-fbec3b7d257f"
   },
   "outputs": [
    {
     "data": {
      "text/plain": [
       "341152"
      ]
     },
     "execution_count": 12,
     "metadata": {},
     "output_type": "execute_result"
    }
   ],
   "source": [
    "X_train_vectorized.nnz ## non zero occurances"
   ]
  },
  {
   "cell_type": "code",
   "execution_count": 13,
   "id": "N2jVAw4mFE8E",
   "metadata": {
    "colab": {
     "base_uri": "https://localhost:8080/"
    },
    "executionInfo": {
     "elapsed": 8,
     "status": "ok",
     "timestamp": 1622492839224,
     "user": {
      "displayName": "Minhajuddin Meraj",
      "photoUrl": "https://lh3.googleusercontent.com/a-/AOh14GhTNicl9ZzkyX_yiNCuKiXjOHoLelDbgk2ZpNNCPA=s64",
      "userId": "16057526630484697061"
     },
     "user_tz": -300
    },
    "id": "N2jVAw4mFE8E",
    "outputId": "1cc9ce8d-5dff-4239-82e9-32a00a9143cf"
   },
   "outputs": [
    {
     "name": "stdout",
     "output_type": "stream",
     "text": [
      "Sparcity : 0.013482603369429176\n"
     ]
    }
   ],
   "source": [
    "sparsity = (100.0 * X_train_vectorized.nnz / (X_train_vectorized.shape[0] * ( X_train_vectorized.shape[1])))\n",
    "print(\"Sparcity : {}\".format(sparsity))"
   ]
  },
  {
   "cell_type": "code",
   "execution_count": 14,
   "id": "zZ8gnW7kCu5w",
   "metadata": {
    "id": "zZ8gnW7kCu5w"
   },
   "outputs": [],
   "source": [
    "#tfidf weights\n",
    "tfidf_transformer = TfidfTransformer(sublinear_tf=True).fit(X_train_vectorized) ## replace tf with 1 + log(tf)"
   ]
  },
  {
   "cell_type": "code",
   "execution_count": 15,
   "id": "ugSpEzAQCu8D",
   "metadata": {
    "id": "ugSpEzAQCu8D"
   },
   "outputs": [],
   "source": [
    "headline_tfidf = tfidf_transformer.transform(X_train_vectorized)"
   ]
  },
  {
   "cell_type": "code",
   "execution_count": 16,
   "id": "0_babR_FFW1j",
   "metadata": {
    "colab": {
     "base_uri": "https://localhost:8080/"
    },
    "executionInfo": {
     "elapsed": 5,
     "status": "ok",
     "timestamp": 1622492839678,
     "user": {
      "displayName": "Minhajuddin Meraj",
      "photoUrl": "https://lh3.googleusercontent.com/a-/AOh14GhTNicl9ZzkyX_yiNCuKiXjOHoLelDbgk2ZpNNCPA=s64",
      "userId": "16057526630484697061"
     },
     "user_tz": -300
    },
    "id": "0_babR_FFW1j",
    "outputId": "bc9f7a4f-42cb-45f3-dc96-2804f5008bde"
   },
   "outputs": [
    {
     "name": "stdout",
     "output_type": "stream",
     "text": [
      "  (0, 128377)\t0.21662787756507354\n",
      "  (0, 128351)\t0.19869714903236663\n",
      "  (0, 128230)\t0.23244410509345764\n",
      "  (0, 120524)\t0.20318264951521828\n",
      "  (0, 119484)\t0.07391511154015239\n",
      "  (0, 109713)\t0.32757245901123866\n",
      "  (0, 109675)\t0.22109121145850844\n",
      "  (0, 93277)\t0.32757245901123866\n",
      "  (0, 93274)\t0.287098440060486\n",
      "  (0, 75308)\t0.32757245901123866\n",
      "  (0, 75145)\t0.15882703182902314\n",
      "  (0, 72807)\t0.32757245901123866\n",
      "  (0, 72806)\t0.2979691187314603\n",
      "  (0, 70295)\t0.32757245901123866\n",
      "  (0, 70229)\t0.1760053167305497\n",
      "  (1, 123357)\t0.22863691422360802\n",
      "  (1, 123326)\t0.11275894797109198\n",
      "  (1, 119584)\t0.2593180386681758\n",
      "  (1, 119484)\t0.06870596054742927\n",
      "  (1, 110764)\t0.19224121468149283\n",
      "  (1, 83985)\t0.28367101718182913\n",
      "  (1, 83951)\t0.10292714020691278\n",
      "  (1, 55428)\t0.2593180386681758\n",
      "  (1, 55420)\t0.24203932543469941\n",
      "  (1, 23862)\t0.304486863055394\n",
      "  :\t:\n",
      "  (18622, 89135)\t0.284011862722897\n",
      "  (18622, 89120)\t0.19221408981765453\n",
      "  (18622, 87204)\t0.284011862722897\n",
      "  (18622, 87202)\t0.24188038347781896\n",
      "  (18622, 86701)\t0.284011862722897\n",
      "  (18622, 86598)\t0.13957954163482247\n",
      "  (18622, 82838)\t0.15073614310326552\n",
      "  (18622, 81000)\t0.07381795158805426\n",
      "  (18622, 55872)\t0.284011862722897\n",
      "  (18622, 55867)\t0.2489200801329244\n",
      "  (18622, 51042)\t0.23157985707209228\n",
      "  (18622, 51021)\t0.19384628992818104\n",
      "  (18623, 121766)\t0.30875583526146466\n",
      "  (18623, 121762)\t0.19994184352083477\n",
      "  (18623, 120329)\t0.325856934025137\n",
      "  (18623, 119484)\t0.07659089673179109\n",
      "  (18623, 93137)\t0.339430839750268\n",
      "  (18623, 93133)\t0.23446273759396116\n",
      "  (18623, 54913)\t0.19579753861770674\n",
      "  (18623, 54607)\t0.339430839750268\n",
      "  (18623, 54582)\t0.24558170510699437\n",
      "  (18623, 24064)\t0.28236035593697695\n",
      "  (18623, 24050)\t0.24175154737008858\n",
      "  (18623, 19320)\t0.339430839750268\n",
      "  (18623, 19319)\t0.339430839750268\n"
     ]
    }
   ],
   "source": [
    "print(headline_tfidf)"
   ]
  },
  {
   "cell_type": "code",
   "execution_count": 17,
   "id": "eEs3LpxaBgvY",
   "metadata": {
    "id": "eEs3LpxaBgvY"
   },
   "outputs": [],
   "source": [
    "sarcasm_detect_model = LinearSVC(C=10.01,max_iter=1000)"
   ]
  },
  {
   "cell_type": "code",
   "execution_count": 18,
   "id": "xq3su59eBi8I",
   "metadata": {
    "colab": {
     "base_uri": "https://localhost:8080/"
    },
    "executionInfo": {
     "elapsed": 665,
     "status": "ok",
     "timestamp": 1622492840834,
     "user": {
      "displayName": "Minhajuddin Meraj",
      "photoUrl": "https://lh3.googleusercontent.com/a-/AOh14GhTNicl9ZzkyX_yiNCuKiXjOHoLelDbgk2ZpNNCPA=s64",
      "userId": "16057526630484697061"
     },
     "user_tz": -300
    },
    "id": "xq3su59eBi8I",
    "outputId": "27ba07f6-42e4-4249-b047-50c93de4a37a"
   },
   "outputs": [
    {
     "data": {
      "text/plain": [
       "LinearSVC(C=10.01)"
      ]
     },
     "execution_count": 18,
     "metadata": {},
     "output_type": "execute_result"
    }
   ],
   "source": [
    "sarcasm_detect_model.fit(headline_tfidf,y_train)"
   ]
  },
  {
   "cell_type": "code",
   "execution_count": 19,
   "id": "7a3e55b5",
   "metadata": {},
   "outputs": [],
   "source": [
    "feature_names = np.array(vect.get_feature_names())"
   ]
  },
  {
   "cell_type": "code",
   "execution_count": 20,
   "id": "yLkcXe5y0_lb",
   "metadata": {
    "id": "yLkcXe5y0_lb"
   },
   "outputs": [],
   "source": [
    "sorted_coef_index = sarcasm_detect_model.coef_[0].argsort()"
   ]
  },
  {
   "cell_type": "code",
   "execution_count": 21,
   "id": "rGUmhfSP1qkd",
   "metadata": {
    "id": "rGUmhfSP1qkd"
   },
   "outputs": [
    {
     "name": "stdout",
     "output_type": "stream",
     "text": [
      "Negative Word ['the' 'is' 'and' 'trump' 'an' 'your' 'why' 'are' 'how']\n"
     ]
    }
   ],
   "source": [
    "print(\"Negative Word\", feature_names[sorted_coef_index[:9]])"
   ]
  },
  {
   "cell_type": "code",
   "execution_count": 22,
   "id": "tdvt1LXO1qmu",
   "metadata": {
    "id": "tdvt1LXO1qmu"
   },
   "outputs": [
    {
     "name": "stdout",
     "output_type": "stream",
     "text": [
      "Postive Word ['nation' 'report' 'study' 'onion' 'clearly']\n"
     ]
    }
   ],
   "source": [
    "print(\"Postive Word\", feature_names[sorted_coef_index[:-11:-2]])"
   ]
  },
  {
   "cell_type": "code",
   "execution_count": 23,
   "id": "woKmV2LdHguJ",
   "metadata": {
    "id": "woKmV2LdHguJ"
   },
   "outputs": [],
   "source": [
    "import eli5 as el"
   ]
  },
  {
   "cell_type": "code",
   "execution_count": 24,
   "id": "lKv4YLn2HgzJ",
   "metadata": {
    "colab": {
     "base_uri": "https://localhost:8080/",
     "height": 464
    },
    "executionInfo": {
     "elapsed": 2280,
     "status": "ok",
     "timestamp": 1622493194988,
     "user": {
      "displayName": "Minhajuddin Meraj",
      "photoUrl": "https://lh3.googleusercontent.com/a-/AOh14GhTNicl9ZzkyX_yiNCuKiXjOHoLelDbgk2ZpNNCPA=s64",
      "userId": "16057526630484697061"
     },
     "user_tz": -300
    },
    "id": "lKv4YLn2HgzJ",
    "outputId": "84b974fd-2db1-4950-8942-ce22c908b690"
   },
   "outputs": [
    {
     "data": {
      "text/html": [
       "\n",
       "    <style>\n",
       "    table.eli5-weights tr:hover {\n",
       "        filter: brightness(85%);\n",
       "    }\n",
       "</style>\n",
       "\n",
       "\n",
       "\n",
       "    \n",
       "\n",
       "    \n",
       "\n",
       "    \n",
       "\n",
       "    \n",
       "\n",
       "    \n",
       "\n",
       "    \n",
       "\n",
       "\n",
       "    \n",
       "\n",
       "    \n",
       "\n",
       "    \n",
       "\n",
       "    \n",
       "        \n",
       "\n",
       "    \n",
       "\n",
       "        \n",
       "            \n",
       "                \n",
       "                \n",
       "    \n",
       "        <p style=\"margin-bottom: 0.5em; margin-top: 0em\">\n",
       "            <b>\n",
       "    \n",
       "        y=1\n",
       "    \n",
       "</b>\n",
       "\n",
       "top features\n",
       "        </p>\n",
       "    \n",
       "    <table class=\"eli5-weights\"\n",
       "           style=\"border-collapse: collapse; border: none; margin-top: 0em; table-layout: auto; margin-bottom: 2em;\">\n",
       "        <thead>\n",
       "        <tr style=\"border: none;\">\n",
       "            \n",
       "                <th style=\"padding: 0 1em 0 0.5em; text-align: right; border: none;\" title=\"Feature weights. Note that weights do not account for feature value scales, so if feature values have different scales, features with highest weights might not be the most important.\">\n",
       "                    Weight<sup>?</sup>\n",
       "                </th>\n",
       "            \n",
       "            <th style=\"padding: 0 0.5em 0 0.5em; text-align: left; border: none;\">Feature</th>\n",
       "            \n",
       "        </tr>\n",
       "        </thead>\n",
       "        <tbody>\n",
       "        \n",
       "            <tr style=\"background-color: hsl(120, 100.00%, 84.58%); border: none;\">\n",
       "    <td style=\"padding: 0 1em 0 0.5em; text-align: right; border: none;\">\n",
       "        +4.797\n",
       "    </td>\n",
       "    <td style=\"padding: 0 0.5em 0 0.5em; text-align: left; border: none;\">\n",
       "        nation\n",
       "    </td>\n",
       "    \n",
       "</tr>\n",
       "        \n",
       "            <tr style=\"background-color: hsl(120, 100.00%, 87.12%); border: none;\">\n",
       "    <td style=\"padding: 0 1em 0 0.5em; text-align: right; border: none;\">\n",
       "        +3.710\n",
       "    </td>\n",
       "    <td style=\"padding: 0 0.5em 0 0.5em; text-align: left; border: none;\">\n",
       "        area\n",
       "    </td>\n",
       "    \n",
       "</tr>\n",
       "        \n",
       "            <tr style=\"background-color: hsl(120, 100.00%, 87.45%); border: none;\">\n",
       "    <td style=\"padding: 0 1em 0 0.5em; text-align: right; border: none;\">\n",
       "        +3.575\n",
       "    </td>\n",
       "    <td style=\"padding: 0 0.5em 0 0.5em; text-align: left; border: none;\">\n",
       "        report\n",
       "    </td>\n",
       "    \n",
       "</tr>\n",
       "        \n",
       "            <tr style=\"background-color: hsl(120, 100.00%, 88.63%); border: none;\">\n",
       "    <td style=\"padding: 0 1em 0 0.5em; text-align: right; border: none;\">\n",
       "        +3.103\n",
       "    </td>\n",
       "    <td style=\"padding: 0 0.5em 0 0.5em; text-align: left; border: none;\">\n",
       "        man\n",
       "    </td>\n",
       "    \n",
       "</tr>\n",
       "        \n",
       "            <tr style=\"background-color: hsl(120, 100.00%, 89.44%); border: none;\">\n",
       "    <td style=\"padding: 0 1em 0 0.5em; text-align: right; border: none;\">\n",
       "        +2.793\n",
       "    </td>\n",
       "    <td style=\"padding: 0 0.5em 0 0.5em; text-align: left; border: none;\">\n",
       "        study\n",
       "    </td>\n",
       "    \n",
       "</tr>\n",
       "        \n",
       "            <tr style=\"background-color: hsl(120, 100.00%, 89.57%); border: none;\">\n",
       "    <td style=\"padding: 0 1em 0 0.5em; text-align: right; border: none;\">\n",
       "        +2.743\n",
       "    </td>\n",
       "    <td style=\"padding: 0 0.5em 0 0.5em; text-align: left; border: none;\">\n",
       "        local\n",
       "    </td>\n",
       "    \n",
       "</tr>\n",
       "        \n",
       "            <tr style=\"background-color: hsl(120, 100.00%, 90.41%); border: none;\">\n",
       "    <td style=\"padding: 0 1em 0 0.5em; text-align: right; border: none;\">\n",
       "        +2.435\n",
       "    </td>\n",
       "    <td style=\"padding: 0 0.5em 0 0.5em; text-align: left; border: none;\">\n",
       "        onion\n",
       "    </td>\n",
       "    \n",
       "</tr>\n",
       "        \n",
       "        \n",
       "            <tr style=\"background-color: hsl(120, 100.00%, 90.41%); border: none;\">\n",
       "                <td colspan=\"2\" style=\"padding: 0 0.5em 0 0.5em; text-align: center; border: none; white-space: nowrap;\">\n",
       "                    <i>&hellip; 59798 more positive &hellip;</i>\n",
       "                </td>\n",
       "            </tr>\n",
       "        \n",
       "\n",
       "        \n",
       "            <tr style=\"background-color: hsl(0, 100.00%, 90.43%); border: none;\">\n",
       "                <td colspan=\"2\" style=\"padding: 0 0.5em 0 0.5em; text-align: center; border: none; white-space: nowrap;\">\n",
       "                    <i>&hellip; 58854 more negative &hellip;</i>\n",
       "                </td>\n",
       "            </tr>\n",
       "        \n",
       "        \n",
       "            <tr style=\"background-color: hsl(0, 100.00%, 90.43%); border: none;\">\n",
       "    <td style=\"padding: 0 1em 0 0.5em; text-align: right; border: none;\">\n",
       "        -2.426\n",
       "    </td>\n",
       "    <td style=\"padding: 0 0.5em 0 0.5em; text-align: left; border: none;\">\n",
       "        watch\n",
       "    </td>\n",
       "    \n",
       "</tr>\n",
       "        \n",
       "            <tr style=\"background-color: hsl(0, 100.00%, 90.41%); border: none;\">\n",
       "    <td style=\"padding: 0 1em 0 0.5em; text-align: right; border: none;\">\n",
       "        -2.434\n",
       "    </td>\n",
       "    <td style=\"padding: 0 0.5em 0 0.5em; text-align: left; border: none;\">\n",
       "        my\n",
       "    </td>\n",
       "    \n",
       "</tr>\n",
       "        \n",
       "            <tr style=\"background-color: hsl(0, 100.00%, 89.98%); border: none;\">\n",
       "    <td style=\"padding: 0 1em 0 0.5em; text-align: right; border: none;\">\n",
       "        -2.590\n",
       "    </td>\n",
       "    <td style=\"padding: 0 0.5em 0 0.5em; text-align: left; border: none;\">\n",
       "        california\n",
       "    </td>\n",
       "    \n",
       "</tr>\n",
       "        \n",
       "            <tr style=\"background-color: hsl(0, 100.00%, 89.78%); border: none;\">\n",
       "    <td style=\"padding: 0 1em 0 0.5em; text-align: right; border: none;\">\n",
       "        -2.667\n",
       "    </td>\n",
       "    <td style=\"padding: 0 0.5em 0 0.5em; text-align: left; border: none;\">\n",
       "        this\n",
       "    </td>\n",
       "    \n",
       "</tr>\n",
       "        \n",
       "            <tr style=\"background-color: hsl(0, 100.00%, 89.56%); border: none;\">\n",
       "    <td style=\"padding: 0 1em 0 0.5em; text-align: right; border: none;\">\n",
       "        -2.746\n",
       "    </td>\n",
       "    <td style=\"padding: 0 0.5em 0 0.5em; text-align: left; border: none;\">\n",
       "        how\n",
       "    </td>\n",
       "    \n",
       "</tr>\n",
       "        \n",
       "            <tr style=\"background-color: hsl(0, 100.00%, 89.51%); border: none;\">\n",
       "    <td style=\"padding: 0 1em 0 0.5em; text-align: right; border: none;\">\n",
       "        -2.766\n",
       "    </td>\n",
       "    <td style=\"padding: 0 0.5em 0 0.5em; text-align: left; border: none;\">\n",
       "        are\n",
       "    </td>\n",
       "    \n",
       "</tr>\n",
       "        \n",
       "            <tr style=\"background-color: hsl(0, 100.00%, 88.99%); border: none;\">\n",
       "    <td style=\"padding: 0 1em 0 0.5em; text-align: right; border: none;\">\n",
       "        -2.964\n",
       "    </td>\n",
       "    <td style=\"padding: 0 0.5em 0 0.5em; text-align: left; border: none;\">\n",
       "        why\n",
       "    </td>\n",
       "    \n",
       "</tr>\n",
       "        \n",
       "            <tr style=\"background-color: hsl(0, 100.00%, 88.41%); border: none;\">\n",
       "    <td style=\"padding: 0 1em 0 0.5em; text-align: right; border: none;\">\n",
       "        -3.191\n",
       "    </td>\n",
       "    <td style=\"padding: 0 0.5em 0 0.5em; text-align: left; border: none;\">\n",
       "        your\n",
       "    </td>\n",
       "    \n",
       "</tr>\n",
       "        \n",
       "            <tr style=\"background-color: hsl(0, 100.00%, 87.88%); border: none;\">\n",
       "    <td style=\"padding: 0 1em 0 0.5em; text-align: right; border: none;\">\n",
       "        -3.400\n",
       "    </td>\n",
       "    <td style=\"padding: 0 0.5em 0 0.5em; text-align: left; border: none;\">\n",
       "        an\n",
       "    </td>\n",
       "    \n",
       "</tr>\n",
       "        \n",
       "            <tr style=\"background-color: hsl(0, 100.00%, 86.99%); border: none;\">\n",
       "    <td style=\"padding: 0 1em 0 0.5em; text-align: right; border: none;\">\n",
       "        -3.764\n",
       "    </td>\n",
       "    <td style=\"padding: 0 0.5em 0 0.5em; text-align: left; border: none;\">\n",
       "        trump\n",
       "    </td>\n",
       "    \n",
       "</tr>\n",
       "        \n",
       "            <tr style=\"background-color: hsl(0, 100.00%, 85.22%); border: none;\">\n",
       "    <td style=\"padding: 0 1em 0 0.5em; text-align: right; border: none;\">\n",
       "        -4.516\n",
       "    </td>\n",
       "    <td style=\"padding: 0 0.5em 0 0.5em; text-align: left; border: none;\">\n",
       "        and\n",
       "    </td>\n",
       "    \n",
       "</tr>\n",
       "        \n",
       "            <tr style=\"background-color: hsl(0, 100.00%, 84.67%); border: none;\">\n",
       "    <td style=\"padding: 0 1em 0 0.5em; text-align: right; border: none;\">\n",
       "        -4.757\n",
       "    </td>\n",
       "    <td style=\"padding: 0 0.5em 0 0.5em; text-align: left; border: none;\">\n",
       "        is\n",
       "    </td>\n",
       "    \n",
       "</tr>\n",
       "        \n",
       "            <tr style=\"background-color: hsl(0, 100.00%, 80.00%); border: none;\">\n",
       "    <td style=\"padding: 0 1em 0 0.5em; text-align: right; border: none;\">\n",
       "        -6.954\n",
       "    </td>\n",
       "    <td style=\"padding: 0 0.5em 0 0.5em; text-align: left; border: none;\">\n",
       "        the\n",
       "    </td>\n",
       "    \n",
       "</tr>\n",
       "        \n",
       "\n",
       "        </tbody>\n",
       "    </table>\n",
       "\n",
       "            \n",
       "        \n",
       "\n",
       "        \n",
       "\n",
       "\n",
       "\n",
       "    \n",
       "\n",
       "    \n",
       "\n",
       "    \n",
       "\n",
       "    \n",
       "\n",
       "\n",
       "    \n",
       "\n",
       "    \n",
       "\n",
       "    \n",
       "\n",
       "    \n",
       "\n",
       "    \n",
       "\n",
       "    \n",
       "\n",
       "\n",
       "    \n",
       "\n",
       "    \n",
       "\n",
       "    \n",
       "\n",
       "    \n",
       "\n",
       "    \n",
       "\n",
       "    \n",
       "\n",
       "\n",
       "\n"
      ],
      "text/plain": [
       "<IPython.core.display.HTML object>"
      ]
     },
     "execution_count": 24,
     "metadata": {},
     "output_type": "execute_result"
    }
   ],
   "source": [
    "el.show_weights(estimator=LinearSVC(C=10.01,max_iter=1000).fit(headline_tfidf,y_train),\n",
    "                vec =CountVectorizer(ngram_range=(1, 2)).fit(X_train))"
   ]
  },
  {
   "cell_type": "code",
   "execution_count": 25,
   "id": "mXLhrKdFBlSM",
   "metadata": {
    "id": "mXLhrKdFBlSM"
   },
   "outputs": [],
   "source": [
    "svc_score = sarcasm_detect_model.score(tfidf_transformer.transform(vect.transform(X_test)),y_test)"
   ]
  },
  {
   "cell_type": "code",
   "execution_count": 26,
   "id": "IZ15zEHNBoJH",
   "metadata": {
    "colab": {
     "base_uri": "https://localhost:8080/"
    },
    "executionInfo": {
     "elapsed": 21,
     "status": "ok",
     "timestamp": 1622492841325,
     "user": {
      "displayName": "Minhajuddin Meraj",
      "photoUrl": "https://lh3.googleusercontent.com/a-/AOh14GhTNicl9ZzkyX_yiNCuKiXjOHoLelDbgk2ZpNNCPA=s64",
      "userId": "16057526630484697061"
     },
     "user_tz": -300
    },
    "id": "IZ15zEHNBoJH",
    "outputId": "733e79eb-64a5-4c9e-8d3f-d2171d7b5f35"
   },
   "outputs": [
    {
     "data": {
      "text/plain": [
       "0.8536707592082184"
      ]
     },
     "execution_count": 26,
     "metadata": {},
     "output_type": "execute_result"
    }
   ],
   "source": [
    "svc_score "
   ]
  },
  {
   "cell_type": "code",
   "execution_count": 27,
   "id": "xXe15mxhB7Xk",
   "metadata": {
    "id": "xXe15mxhB7Xk"
   },
   "outputs": [],
   "source": [
    "y_pred = sarcasm_detect_model.predict(tfidf_transformer.transform(vect.transform(X_test)))\n",
    "yt_pred = sarcasm_detect_model.predict(tfidf_transformer.transform(X_train_vectorized))"
   ]
  },
  {
   "cell_type": "code",
   "execution_count": 28,
   "id": "VYwcgBtfCSrT",
   "metadata": {
    "colab": {
     "base_uri": "https://localhost:8080/"
    },
    "executionInfo": {
     "elapsed": 19,
     "status": "ok",
     "timestamp": 1622492841326,
     "user": {
      "displayName": "Minhajuddin Meraj",
      "photoUrl": "https://lh3.googleusercontent.com/a-/AOh14GhTNicl9ZzkyX_yiNCuKiXjOHoLelDbgk2ZpNNCPA=s64",
      "userId": "16057526630484697061"
     },
     "user_tz": -300
    },
    "id": "VYwcgBtfCSrT",
    "outputId": "eba10961-5ba6-475b-ee9d-9fe55c009d52"
   },
   "outputs": [
    {
     "data": {
      "text/plain": [
       "array([0, 0, 0, ..., 1, 0, 1], dtype=int64)"
      ]
     },
     "execution_count": 28,
     "metadata": {},
     "output_type": "execute_result"
    }
   ],
   "source": [
    "y_pred"
   ]
  },
  {
   "cell_type": "code",
   "execution_count": 29,
   "id": "iV7-LN92CSug",
   "metadata": {
    "colab": {
     "base_uri": "https://localhost:8080/"
    },
    "executionInfo": {
     "elapsed": 15,
     "status": "ok",
     "timestamp": 1622492841326,
     "user": {
      "displayName": "Minhajuddin Meraj",
      "photoUrl": "https://lh3.googleusercontent.com/a-/AOh14GhTNicl9ZzkyX_yiNCuKiXjOHoLelDbgk2ZpNNCPA=s64",
      "userId": "16057526630484697061"
     },
     "user_tz": -300
    },
    "id": "iV7-LN92CSug",
    "outputId": "ae3d8247-71b4-42f1-ba54-382ad56911a8"
   },
   "outputs": [
    {
     "data": {
      "text/plain": [
       "array([0, 0, 1, ..., 1, 0, 1], dtype=int64)"
      ]
     },
     "execution_count": 29,
     "metadata": {},
     "output_type": "execute_result"
    }
   ],
   "source": [
    "yt_pred"
   ]
  },
  {
   "cell_type": "code",
   "execution_count": 30,
   "id": "v1KOFpJnCSwp",
   "metadata": {
    "colab": {
     "base_uri": "https://localhost:8080/"
    },
    "executionInfo": {
     "elapsed": 12,
     "status": "ok",
     "timestamp": 1622492841327,
     "user": {
      "displayName": "Minhajuddin Meraj",
      "photoUrl": "https://lh3.googleusercontent.com/a-/AOh14GhTNicl9ZzkyX_yiNCuKiXjOHoLelDbgk2ZpNNCPA=s64",
      "userId": "16057526630484697061"
     },
     "user_tz": -300
    },
    "id": "v1KOFpJnCSwp",
    "outputId": "2a887788-fcf7-40aa-d872-18d92a27579b"
   },
   "outputs": [
    {
     "name": "stdout",
     "output_type": "stream",
     "text": [
      "Confusion Matrix :\n",
      " [[3955  568]\n",
      " [ 600 2859]]\n",
      "\n",
      "Test Set Accuracy Score :\n",
      " 0.8536707592082184\n",
      "\n",
      "Train Set Accuracy Score :\n",
      " 1.0\n",
      "\n",
      "Classification Report :\n",
      "               precision    recall  f1-score   support\n",
      "\n",
      "           0       0.87      0.87      0.87      4523\n",
      "           1       0.83      0.83      0.83      3459\n",
      "\n",
      "    accuracy                           0.85      7982\n",
      "   macro avg       0.85      0.85      0.85      7982\n",
      "weighted avg       0.85      0.85      0.85      7982\n",
      "\n"
     ]
    }
   ],
   "source": [
    "Confusion_Matrix = confusion_matrix(y_test,y_pred)\n",
    "print(f'Confusion Matrix :\\n {Confusion_Matrix}\\n')\n",
    "print(f'Test Set Accuracy Score :\\n {accuracy_score(y_test,y_pred)}\\n')\n",
    "print(f'Train Set Accuracy Score :\\n {accuracy_score(y_train,yt_pred)}\\n')\n",
    "print(f'Classification Report :\\n {classification_report(y_test,y_pred)}')"
   ]
  },
  {
   "cell_type": "code",
   "execution_count": 31,
   "id": "FecNEiyMImR7",
   "metadata": {
    "colab": {
     "base_uri": "https://localhost:8080/",
     "height": 514
    },
    "executionInfo": {
     "elapsed": 1072,
     "status": "ok",
     "timestamp": 1622493268627,
     "user": {
      "displayName": "Minhajuddin Meraj",
      "photoUrl": "https://lh3.googleusercontent.com/a-/AOh14GhTNicl9ZzkyX_yiNCuKiXjOHoLelDbgk2ZpNNCPA=s64",
      "userId": "16057526630484697061"
     },
     "user_tz": -300
    },
    "id": "FecNEiyMImR7",
    "outputId": "754359c1-3302-4d03-c518-1d7c18cd0e90",
    "scrolled": false
   },
   "outputs": [
    {
     "data": {
      "text/plain": [
       "Text(0.5, 51.0, 'Predicted Labels')"
      ]
     },
     "execution_count": 31,
     "metadata": {},
     "output_type": "execute_result"
    },
    {
     "data": {
      "image/png": "[encoded data removed]",
      "text/plain": [
       "<Figure size 576x576 with 2 Axes>"
      ]
     },
     "metadata": {
      "needs_background": "light"
     },
     "output_type": "display_data"
    }
   ],
   "source": [
    "plt.figure(figsize=(8,8))\n",
    "\n",
    "group_names = ['True Neg','False Pos','False Neg','True Pos']\n",
    "group_counts = ['{0:0.0f}'.format(value) for value in Confusion_Matrix.flatten()]\n",
    "group_percentages = ['{0:.2%}'.format(value) for value in Confusion_Matrix.flatten()/np.sum(Confusion_Matrix)]\n",
    "\n",
    "labels = [f\"{v1}\\n{v2}\\n{v3}\" for v1, v2, v3 in zip(group_names,group_counts,group_percentages)]\n",
    "labels = np.asarray(labels).reshape(2,2)\n",
    "\n",
    "sns.heatmap(Confusion_Matrix, annot=labels, fmt='', cbar=True,cmap='YlOrBr')\n",
    "\n",
    "plt.ylabel(\"Actual Labels\")\n",
    "plt.xlabel(\"Predicted Labels\")"
   ]
  },
  {
   "cell_type": "markdown",
   "id": "9004196c",
   "metadata": {},
   "source": [
    "# MODEL CHECKING HEADING"
   ]
  },
  {
   "cell_type": "code",
   "execution_count": 61,
   "id": "YG_IYO9oBrv1",
   "metadata": {
    "colab": {
     "base_uri": "https://localhost:8080/"
    },
    "executionInfo": {
     "elapsed": 8591,
     "status": "ok",
     "timestamp": 1622492864685,
     "user": {
      "displayName": "Minhajuddin Meraj",
      "photoUrl": "https://lh3.googleusercontent.com/a-/AOh14GhTNicl9ZzkyX_yiNCuKiXjOHoLelDbgk2ZpNNCPA=s64",
      "userId": "16057526630484697061"
     },
     "user_tz": -300
    },
    "id": "YG_IYO9oBrv1",
    "outputId": "8de8562d-020d-4016-a3cf-e47b82b92d41"
   },
   "outputs": [
    {
     "name": "stdout",
     "output_type": "stream",
     "text": [
      "Enter your sarcasm: the injustice of mandatory minimums\n",
      "Not Sarcastic\n"
     ]
    }
   ],
   "source": [
    "my_index= 1\n",
    "\n",
    "analyser = input(\"Enter your sarcasm: \") \n",
    "X_test[my_index] = analyser\n",
    "\n",
    "my_index = y_pred.shape[0]-1\n",
    "\n",
    "y_pred = sarcasm_detect_model.predict(vect.transform(X_test))\n",
    "\n",
    "if y_pred[my_index] == 1:\n",
    "    print(\"Is Sarcastic \")\n",
    "else:\n",
    "    print(\"Not Sarcastic\") "
   ]
  },
  {
   "cell_type": "code",
   "execution_count": 44,
   "id": "M5qKWLahCcOb",
   "metadata": {
    "id": "M5qKWLahCcOb"
   },
   "outputs": [],
   "source": [
    "## Grid Search"
   ]
  },
  {
   "cell_type": "code",
   "execution_count": 45,
   "id": "j9UsYsqvHcFs",
   "metadata": {
    "id": "j9UsYsqvHcFs"
   },
   "outputs": [],
   "source": [
    "from sklearn.model_selection import GridSearchCV"
   ]
  },
  {
   "cell_type": "code",
   "execution_count": 46,
   "id": "KVkINnkHJ92_",
   "metadata": {
    "id": "KVkINnkHJ92_"
   },
   "outputs": [],
   "source": [
    "param_grid = {'C':np.arange(0.01,100,10),\n",
    "              'max_iter': [1000,2000,5000,10000]}"
   ]
  },
  {
   "cell_type": "code",
   "execution_count": 47,
   "id": "ZDdnczADKAFt",
   "metadata": {
    "id": "ZDdnczADKAFt"
   },
   "outputs": [],
   "source": [
    "linearSVC = GridSearchCV(LinearSVC(),param_grid,cv=5,return_train_score=True,verbose=3)"
   ]
  },
  {
   "cell_type": "code",
   "execution_count": 48,
   "id": "NRNfhseUKCta",
   "metadata": {
    "colab": {
     "base_uri": "https://localhost:8080/"
    },
    "executionInfo": {
     "elapsed": 333680,
     "status": "ok",
     "timestamp": 1622494036310,
     "user": {
      "displayName": "Minhajuddin Meraj",
      "photoUrl": "https://lh3.googleusercontent.com/a-/AOh14GhTNicl9ZzkyX_yiNCuKiXjOHoLelDbgk2ZpNNCPA=s64",
      "userId": "16057526630484697061"
     },
     "user_tz": -300
    },
    "id": "NRNfhseUKCta",
    "outputId": "893e40a1-0940-4ace-b8e2-4be791db52eb"
   },
   "outputs": [
    {
     "name": "stdout",
     "output_type": "stream",
     "text": [
      "Fitting 5 folds for each of 40 candidates, totalling 200 fits\n",
      "[CV 1/5] END C=0.01, max_iter=1000;, score=(train=0.757, test=0.708) total time=   0.0s\n",
      "[CV 2/5] END C=0.01, max_iter=1000;, score=(train=0.751, test=0.697) total time=   0.0s\n",
      "[CV 3/5] END C=0.01, max_iter=1000;, score=(train=0.752, test=0.701) total time=   0.0s\n",
      "[CV 4/5] END C=0.01, max_iter=1000;, score=(train=0.751, test=0.703) total time=   0.0s\n",
      "[CV 5/5] END C=0.01, max_iter=1000;, score=(train=0.750, test=0.706) total time=   0.0s\n",
      "[CV 1/5] END C=0.01, max_iter=2000;, score=(train=0.757, test=0.708) total time=   0.0s\n",
      "[CV 2/5] END C=0.01, max_iter=2000;, score=(train=0.751, test=0.697) total time=   0.0s\n",
      "[CV 3/5] END C=0.01, max_iter=2000;, score=(train=0.752, test=0.701) total time=   0.0s\n",
      "[CV 4/5] END C=0.01, max_iter=2000;, score=(train=0.751, test=0.703) total time=   0.0s\n",
      "[CV 5/5] END C=0.01, max_iter=2000;, score=(train=0.750, test=0.706) total time=   0.0s\n",
      "[CV 1/5] END C=0.01, max_iter=5000;, score=(train=0.757, test=0.708) total time=   0.0s\n",
      "[CV 2/5] END C=0.01, max_iter=5000;, score=(train=0.751, test=0.697) total time=   0.0s\n",
      "[CV 3/5] END C=0.01, max_iter=5000;, score=(train=0.752, test=0.701) total time=   0.0s\n",
      "[CV 4/5] END C=0.01, max_iter=5000;, score=(train=0.751, test=0.703) total time=   0.0s\n",
      "[CV 5/5] END C=0.01, max_iter=5000;, score=(train=0.750, test=0.706) total time=   0.0s\n",
      "[CV 1/5] END C=0.01, max_iter=10000;, score=(train=0.757, test=0.708) total time=   0.0s\n",
      "[CV 2/5] END C=0.01, max_iter=10000;, score=(train=0.751, test=0.697) total time=   0.0s\n",
      "[CV 3/5] END C=0.01, max_iter=10000;, score=(train=0.752, test=0.701) total time=   0.0s\n",
      "[CV 4/5] END C=0.01, max_iter=10000;, score=(train=0.751, test=0.703) total time=   0.0s\n",
      "[CV 5/5] END C=0.01, max_iter=10000;, score=(train=0.750, test=0.706) total time=   0.0s\n",
      "[CV 1/5] END C=10.01, max_iter=1000;, score=(train=1.000, test=0.854) total time=   0.6s\n",
      "[CV 2/5] END C=10.01, max_iter=1000;, score=(train=1.000, test=0.848) total time=   0.7s\n",
      "[CV 3/5] END C=10.01, max_iter=1000;, score=(train=1.000, test=0.848) total time=   0.8s\n",
      "[CV 4/5] END C=10.01, max_iter=1000;, score=(train=1.000, test=0.855) total time=   0.7s\n",
      "[CV 5/5] END C=10.01, max_iter=1000;, score=(train=1.000, test=0.853) total time=   0.8s\n",
      "[CV 1/5] END C=10.01, max_iter=2000;, score=(train=1.000, test=0.854) total time=   0.7s\n",
      "[CV 2/5] END C=10.01, max_iter=2000;, score=(train=1.000, test=0.848) total time=   0.7s\n",
      "[CV 3/5] END C=10.01, max_iter=2000;, score=(train=1.000, test=0.848) total time=   0.6s\n",
      "[CV 4/5] END C=10.01, max_iter=2000;, score=(train=1.000, test=0.855) total time=   0.6s\n",
      "[CV 5/5] END C=10.01, max_iter=2000;, score=(train=1.000, test=0.853) total time=   0.6s\n",
      "[CV 1/5] END C=10.01, max_iter=5000;, score=(train=1.000, test=0.854) total time=   0.6s\n",
      "[CV 2/5] END C=10.01, max_iter=5000;, score=(train=1.000, test=0.848) total time=   0.7s\n",
      "[CV 3/5] END C=10.01, max_iter=5000;, score=(train=1.000, test=0.848) total time=   0.6s\n",
      "[CV 4/5] END C=10.01, max_iter=5000;, score=(train=1.000, test=0.855) total time=   0.7s\n",
      "[CV 5/5] END C=10.01, max_iter=5000;, score=(train=1.000, test=0.853) total time=   0.6s\n",
      "[CV 1/5] END C=10.01, max_iter=10000;, score=(train=1.000, test=0.854) total time=   0.6s\n",
      "[CV 2/5] END C=10.01, max_iter=10000;, score=(train=1.000, test=0.848) total time=   0.7s\n",
      "[CV 3/5] END C=10.01, max_iter=10000;, score=(train=1.000, test=0.848) total time=   0.6s\n",
      "[CV 4/5] END C=10.01, max_iter=10000;, score=(train=1.000, test=0.855) total time=   0.5s\n",
      "[CV 5/5] END C=10.01, max_iter=10000;, score=(train=1.000, test=0.853) total time=   0.7s\n",
      "[CV 1/5] END C=20.01, max_iter=1000;, score=(train=1.000, test=0.854) total time=   1.3s\n",
      "[CV 2/5] END C=20.01, max_iter=1000;, score=(train=1.000, test=0.847) total time=   1.2s\n",
      "[CV 3/5] END C=20.01, max_iter=1000;, score=(train=1.000, test=0.849) total time=   1.1s\n",
      "[CV 4/5] END C=20.01, max_iter=1000;, score=(train=1.000, test=0.855) total time=   1.0s\n",
      "[CV 5/5] END C=20.01, max_iter=1000;, score=(train=1.000, test=0.853) total time=   1.2s\n",
      "[CV 1/5] END C=20.01, max_iter=2000;, score=(train=1.000, test=0.854) total time=   1.3s\n",
      "[CV 2/5] END C=20.01, max_iter=2000;, score=(train=1.000, test=0.847) total time=   1.2s\n",
      "[CV 3/5] END C=20.01, max_iter=2000;, score=(train=1.000, test=0.849) total time=   1.1s\n",
      "[CV 4/5] END C=20.01, max_iter=2000;, score=(train=1.000, test=0.855) total time=   1.2s\n",
      "[CV 5/5] END C=20.01, max_iter=2000;, score=(train=1.000, test=0.853) total time=   1.3s\n",
      "[CV 1/5] END C=20.01, max_iter=5000;, score=(train=1.000, test=0.854) total time=   1.2s\n",
      "[CV 2/5] END C=20.01, max_iter=5000;, score=(train=1.000, test=0.847) total time=   1.2s\n",
      "[CV 3/5] END C=20.01, max_iter=5000;, score=(train=1.000, test=0.849) total time=   1.3s\n",
      "[CV 4/5] END C=20.01, max_iter=5000;, score=(train=1.000, test=0.855) total time=   1.0s\n",
      "[CV 5/5] END C=20.01, max_iter=5000;, score=(train=1.000, test=0.853) total time=   1.1s\n",
      "[CV 1/5] END C=20.01, max_iter=10000;, score=(train=1.000, test=0.854) total time=   1.0s\n",
      "[CV 2/5] END C=20.01, max_iter=10000;, score=(train=1.000, test=0.847) total time=   1.1s\n",
      "[CV 3/5] END C=20.01, max_iter=10000;, score=(train=1.000, test=0.849) total time=   1.0s\n",
      "[CV 4/5] END C=20.01, max_iter=10000;, score=(train=1.000, test=0.855) total time=   1.0s\n",
      "[CV 5/5] END C=20.01, max_iter=10000;, score=(train=1.000, test=0.853) total time=   1.4s\n",
      "[CV 1/5] END C=30.01, max_iter=1000;, score=(train=1.000, test=0.854) total time=   2.0s\n",
      "[CV 2/5] END C=30.01, max_iter=1000;, score=(train=1.000, test=0.847) total time=   2.2s\n",
      "[CV 3/5] END C=30.01, max_iter=1000;, score=(train=1.000, test=0.849) total time=   2.1s\n",
      "[CV 4/5] END C=30.01, max_iter=1000;, score=(train=1.000, test=0.855) total time=   1.7s\n",
      "[CV 5/5] END C=30.01, max_iter=1000;, score=(train=1.000, test=0.853) total time=   1.6s\n",
      "[CV 1/5] END C=30.01, max_iter=2000;, score=(train=1.000, test=0.854) total time=   1.6s\n",
      "[CV 2/5] END C=30.01, max_iter=2000;, score=(train=1.000, test=0.847) total time=   1.5s\n",
      "[CV 3/5] END C=30.01, max_iter=2000;, score=(train=1.000, test=0.849) total time=   1.8s\n",
      "[CV 4/5] END C=30.01, max_iter=2000;, score=(train=1.000, test=0.855) total time=   1.7s\n",
      "[CV 5/5] END C=30.01, max_iter=2000;, score=(train=1.000, test=0.853) total time=   1.5s\n",
      "[CV 1/5] END C=30.01, max_iter=5000;, score=(train=1.000, test=0.854) total time=   1.9s\n",
      "[CV 2/5] END C=30.01, max_iter=5000;, score=(train=1.000, test=0.847) total time=   1.7s\n",
      "[CV 3/5] END C=30.01, max_iter=5000;, score=(train=1.000, test=0.849) total time=   1.7s\n",
      "[CV 4/5] END C=30.01, max_iter=5000;, score=(train=1.000, test=0.855) total time=   2.2s\n",
      "[CV 5/5] END C=30.01, max_iter=5000;, score=(train=1.000, test=0.853) total time=   1.7s\n",
      "[CV 1/5] END C=30.01, max_iter=10000;, score=(train=1.000, test=0.854) total time=   1.9s\n",
      "[CV 2/5] END C=30.01, max_iter=10000;, score=(train=1.000, test=0.847) total time=   1.7s\n",
      "[CV 3/5] END C=30.01, max_iter=10000;, score=(train=1.000, test=0.849) total time=   1.4s\n",
      "[CV 4/5] END C=30.01, max_iter=10000;, score=(train=1.000, test=0.855) total time=   1.5s\n",
      "[CV 5/5] END C=30.01, max_iter=10000;, score=(train=1.000, test=0.853) total time=   1.7s\n",
      "[CV 1/5] END C=40.01, max_iter=1000;, score=(train=1.000, test=0.854) total time=   1.8s\n",
      "[CV 2/5] END C=40.01, max_iter=1000;, score=(train=1.000, test=0.847) total time=   1.8s\n",
      "[CV 3/5] END C=40.01, max_iter=1000;, score=(train=1.000, test=0.849) total time=   1.7s\n",
      "[CV 4/5] END C=40.01, max_iter=1000;, score=(train=1.000, test=0.855) total time=   1.8s\n",
      "[CV 5/5] END C=40.01, max_iter=1000;, score=(train=1.000, test=0.853) total time=   1.7s\n",
      "[CV 1/5] END C=40.01, max_iter=2000;, score=(train=1.000, test=0.854) total time=   1.8s\n",
      "[CV 2/5] END C=40.01, max_iter=2000;, score=(train=1.000, test=0.847) total time=   2.0s\n",
      "[CV 3/5] END C=40.01, max_iter=2000;, score=(train=1.000, test=0.849) total time=   1.9s\n",
      "[CV 4/5] END C=40.01, max_iter=2000;, score=(train=1.000, test=0.855) total time=   1.8s\n",
      "[CV 5/5] END C=40.01, max_iter=2000;, score=(train=1.000, test=0.853) total time=   1.9s\n",
      "[CV 1/5] END C=40.01, max_iter=5000;, score=(train=1.000, test=0.854) total time=   1.8s\n",
      "[CV 2/5] END C=40.01, max_iter=5000;, score=(train=1.000, test=0.847) total time=   2.0s\n"
     ]
    },
    {
     "name": "stdout",
     "output_type": "stream",
     "text": [
      "[CV 3/5] END C=40.01, max_iter=5000;, score=(train=1.000, test=0.849) total time=   1.8s\n",
      "[CV 4/5] END C=40.01, max_iter=5000;, score=(train=1.000, test=0.855) total time=   1.9s\n",
      "[CV 5/5] END C=40.01, max_iter=5000;, score=(train=1.000, test=0.853) total time=   1.8s\n",
      "[CV 1/5] END C=40.01, max_iter=10000;, score=(train=1.000, test=0.854) total time=   1.9s\n",
      "[CV 2/5] END C=40.01, max_iter=10000;, score=(train=1.000, test=0.847) total time=   1.9s\n",
      "[CV 3/5] END C=40.01, max_iter=10000;, score=(train=1.000, test=0.849) total time=   1.8s\n",
      "[CV 4/5] END C=40.01, max_iter=10000;, score=(train=1.000, test=0.855) total time=   2.0s\n",
      "[CV 5/5] END C=40.01, max_iter=10000;, score=(train=1.000, test=0.853) total time=   1.8s\n",
      "[CV 1/5] END C=50.01, max_iter=1000;, score=(train=1.000, test=0.854) total time=   2.6s\n",
      "[CV 2/5] END C=50.01, max_iter=1000;, score=(train=1.000, test=0.847) total time=   2.9s\n",
      "[CV 3/5] END C=50.01, max_iter=1000;, score=(train=1.000, test=0.849) total time=   2.8s\n",
      "[CV 4/5] END C=50.01, max_iter=1000;, score=(train=1.000, test=0.855) total time=   2.5s\n",
      "[CV 5/5] END C=50.01, max_iter=1000;, score=(train=1.000, test=0.853) total time=   2.4s\n",
      "[CV 1/5] END C=50.01, max_iter=2000;, score=(train=1.000, test=0.854) total time=   2.6s\n",
      "[CV 2/5] END C=50.01, max_iter=2000;, score=(train=1.000, test=0.847) total time=   2.5s\n",
      "[CV 3/5] END C=50.01, max_iter=2000;, score=(train=1.000, test=0.849) total time=   3.2s\n",
      "[CV 4/5] END C=50.01, max_iter=2000;, score=(train=1.000, test=0.855) total time=   3.0s\n",
      "[CV 5/5] END C=50.01, max_iter=2000;, score=(train=1.000, test=0.853) total time=   2.5s\n",
      "[CV 1/5] END C=50.01, max_iter=5000;, score=(train=1.000, test=0.854) total time=   2.6s\n",
      "[CV 2/5] END C=50.01, max_iter=5000;, score=(train=1.000, test=0.847) total time=   2.9s\n",
      "[CV 3/5] END C=50.01, max_iter=5000;, score=(train=1.000, test=0.849) total time=   2.4s\n",
      "[CV 4/5] END C=50.01, max_iter=5000;, score=(train=1.000, test=0.855) total time=   2.8s\n",
      "[CV 5/5] END C=50.01, max_iter=5000;, score=(train=1.000, test=0.853) total time=   3.4s\n",
      "[CV 1/5] END C=50.01, max_iter=10000;, score=(train=1.000, test=0.854) total time=   2.5s\n",
      "[CV 2/5] END C=50.01, max_iter=10000;, score=(train=1.000, test=0.847) total time=   2.5s\n",
      "[CV 3/5] END C=50.01, max_iter=10000;, score=(train=1.000, test=0.849) total time=   2.2s\n",
      "[CV 4/5] END C=50.01, max_iter=10000;, score=(train=1.000, test=0.855) total time=   2.9s\n",
      "[CV 5/5] END C=50.01, max_iter=10000;, score=(train=1.000, test=0.853) total time=   2.7s\n",
      "[CV 1/5] END C=60.01, max_iter=1000;, score=(train=1.000, test=0.854) total time=   3.7s\n",
      "[CV 2/5] END C=60.01, max_iter=1000;, score=(train=1.000, test=0.847) total time=   3.5s\n"
     ]
    },
    {
     "name": "stderr",
     "output_type": "stream",
     "text": [
      "d:\\python\\lib\\site-packages\\sklearn\\svm\\_base.py:985: ConvergenceWarning: Liblinear failed to converge, increase the number of iterations.\n",
      "  warnings.warn(\"Liblinear failed to converge, increase \"\n"
     ]
    },
    {
     "name": "stdout",
     "output_type": "stream",
     "text": [
      "[CV 3/5] END C=60.01, max_iter=1000;, score=(train=1.000, test=0.849) total time=   3.5s\n",
      "[CV 4/5] END C=60.01, max_iter=1000;, score=(train=1.000, test=0.855) total time=   3.1s\n",
      "[CV 5/5] END C=60.01, max_iter=1000;, score=(train=1.000, test=0.853) total time=   3.2s\n",
      "[CV 1/5] END C=60.01, max_iter=2000;, score=(train=1.000, test=0.854) total time=   3.1s\n",
      "[CV 2/5] END C=60.01, max_iter=2000;, score=(train=1.000, test=0.847) total time=   3.3s\n",
      "[CV 3/5] END C=60.01, max_iter=2000;, score=(train=1.000, test=0.849) total time=   3.5s\n",
      "[CV 4/5] END C=60.01, max_iter=2000;, score=(train=1.000, test=0.855) total time=   3.5s\n",
      "[CV 5/5] END C=60.01, max_iter=2000;, score=(train=1.000, test=0.853) total time=   3.7s\n",
      "[CV 1/5] END C=60.01, max_iter=5000;, score=(train=1.000, test=0.854) total time=   3.1s\n",
      "[CV 2/5] END C=60.01, max_iter=5000;, score=(train=1.000, test=0.847) total time=   3.5s\n",
      "[CV 3/5] END C=60.01, max_iter=5000;, score=(train=1.000, test=0.849) total time=   3.4s\n",
      "[CV 4/5] END C=60.01, max_iter=5000;, score=(train=1.000, test=0.855) total time=   3.5s\n",
      "[CV 5/5] END C=60.01, max_iter=5000;, score=(train=1.000, test=0.853) total time=   3.3s\n",
      "[CV 1/5] END C=60.01, max_iter=10000;, score=(train=1.000, test=0.854) total time=   2.9s\n",
      "[CV 2/5] END C=60.01, max_iter=10000;, score=(train=1.000, test=0.847) total time=   3.1s\n",
      "[CV 3/5] END C=60.01, max_iter=10000;, score=(train=1.000, test=0.849) total time=   3.1s\n",
      "[CV 4/5] END C=60.01, max_iter=10000;, score=(train=1.000, test=0.855) total time=   2.9s\n",
      "[CV 5/5] END C=60.01, max_iter=10000;, score=(train=1.000, test=0.853) total time=   3.6s\n"
     ]
    },
    {
     "name": "stderr",
     "output_type": "stream",
     "text": [
      "d:\\python\\lib\\site-packages\\sklearn\\svm\\_base.py:985: ConvergenceWarning: Liblinear failed to converge, increase the number of iterations.\n",
      "  warnings.warn(\"Liblinear failed to converge, increase \"\n"
     ]
    },
    {
     "name": "stdout",
     "output_type": "stream",
     "text": [
      "[CV 1/5] END C=70.01, max_iter=1000;, score=(train=1.000, test=0.854) total time=   3.8s\n"
     ]
    },
    {
     "name": "stderr",
     "output_type": "stream",
     "text": [
      "d:\\python\\lib\\site-packages\\sklearn\\svm\\_base.py:985: ConvergenceWarning: Liblinear failed to converge, increase the number of iterations.\n",
      "  warnings.warn(\"Liblinear failed to converge, increase \"\n"
     ]
    },
    {
     "name": "stdout",
     "output_type": "stream",
     "text": [
      "[CV 2/5] END C=70.01, max_iter=1000;, score=(train=1.000, test=0.847) total time=   3.6s\n"
     ]
    },
    {
     "name": "stderr",
     "output_type": "stream",
     "text": [
      "d:\\python\\lib\\site-packages\\sklearn\\svm\\_base.py:985: ConvergenceWarning: Liblinear failed to converge, increase the number of iterations.\n",
      "  warnings.warn(\"Liblinear failed to converge, increase \"\n"
     ]
    },
    {
     "name": "stdout",
     "output_type": "stream",
     "text": [
      "[CV 3/5] END C=70.01, max_iter=1000;, score=(train=1.000, test=0.849) total time=   3.1s\n"
     ]
    },
    {
     "name": "stderr",
     "output_type": "stream",
     "text": [
      "d:\\python\\lib\\site-packages\\sklearn\\svm\\_base.py:985: ConvergenceWarning: Liblinear failed to converge, increase the number of iterations.\n",
      "  warnings.warn(\"Liblinear failed to converge, increase \"\n"
     ]
    },
    {
     "name": "stdout",
     "output_type": "stream",
     "text": [
      "[CV 4/5] END C=70.01, max_iter=1000;, score=(train=1.000, test=0.855) total time=   3.0s\n"
     ]
    },
    {
     "name": "stderr",
     "output_type": "stream",
     "text": [
      "d:\\python\\lib\\site-packages\\sklearn\\svm\\_base.py:985: ConvergenceWarning: Liblinear failed to converge, increase the number of iterations.\n",
      "  warnings.warn(\"Liblinear failed to converge, increase \"\n"
     ]
    },
    {
     "name": "stdout",
     "output_type": "stream",
     "text": [
      "[CV 5/5] END C=70.01, max_iter=1000;, score=(train=1.000, test=0.853) total time=   3.1s\n",
      "[CV 1/5] END C=70.01, max_iter=2000;, score=(train=1.000, test=0.854) total time=   3.3s\n",
      "[CV 2/5] END C=70.01, max_iter=2000;, score=(train=1.000, test=0.847) total time=   3.6s\n",
      "[CV 3/5] END C=70.01, max_iter=2000;, score=(train=1.000, test=0.849) total time=   3.2s\n",
      "[CV 4/5] END C=70.01, max_iter=2000;, score=(train=1.000, test=0.855) total time=   3.5s\n",
      "[CV 5/5] END C=70.01, max_iter=2000;, score=(train=1.000, test=0.853) total time=   3.4s\n",
      "[CV 1/5] END C=70.01, max_iter=5000;, score=(train=1.000, test=0.854) total time=   3.2s\n",
      "[CV 2/5] END C=70.01, max_iter=5000;, score=(train=1.000, test=0.847) total time=   3.7s\n",
      "[CV 3/5] END C=70.01, max_iter=5000;, score=(train=1.000, test=0.849) total time=   4.5s\n",
      "[CV 4/5] END C=70.01, max_iter=5000;, score=(train=1.000, test=0.855) total time=   3.5s\n",
      "[CV 5/5] END C=70.01, max_iter=5000;, score=(train=1.000, test=0.853) total time=   3.7s\n",
      "[CV 1/5] END C=70.01, max_iter=10000;, score=(train=1.000, test=0.854) total time=   3.7s\n",
      "[CV 2/5] END C=70.01, max_iter=10000;, score=(train=1.000, test=0.847) total time=   4.0s\n",
      "[CV 3/5] END C=70.01, max_iter=10000;, score=(train=1.000, test=0.849) total time=   3.5s\n",
      "[CV 4/5] END C=70.01, max_iter=10000;, score=(train=1.000, test=0.855) total time=   3.3s\n",
      "[CV 5/5] END C=70.01, max_iter=10000;, score=(train=1.000, test=0.853) total time=   3.7s\n"
     ]
    },
    {
     "name": "stderr",
     "output_type": "stream",
     "text": [
      "d:\\python\\lib\\site-packages\\sklearn\\svm\\_base.py:985: ConvergenceWarning: Liblinear failed to converge, increase the number of iterations.\n",
      "  warnings.warn(\"Liblinear failed to converge, increase \"\n"
     ]
    },
    {
     "name": "stdout",
     "output_type": "stream",
     "text": [
      "[CV 1/5] END C=80.01, max_iter=1000;, score=(train=1.000, test=0.854) total time=   3.4s\n"
     ]
    },
    {
     "name": "stderr",
     "output_type": "stream",
     "text": [
      "d:\\python\\lib\\site-packages\\sklearn\\svm\\_base.py:985: ConvergenceWarning: Liblinear failed to converge, increase the number of iterations.\n",
      "  warnings.warn(\"Liblinear failed to converge, increase \"\n"
     ]
    },
    {
     "name": "stdout",
     "output_type": "stream",
     "text": [
      "[CV 2/5] END C=80.01, max_iter=1000;, score=(train=1.000, test=0.847) total time=   3.4s\n"
     ]
    },
    {
     "name": "stderr",
     "output_type": "stream",
     "text": [
      "d:\\python\\lib\\site-packages\\sklearn\\svm\\_base.py:985: ConvergenceWarning: Liblinear failed to converge, increase the number of iterations.\n",
      "  warnings.warn(\"Liblinear failed to converge, increase \"\n"
     ]
    },
    {
     "name": "stdout",
     "output_type": "stream",
     "text": [
      "[CV 3/5] END C=80.01, max_iter=1000;, score=(train=1.000, test=0.849) total time=   3.4s\n"
     ]
    },
    {
     "name": "stderr",
     "output_type": "stream",
     "text": [
      "d:\\python\\lib\\site-packages\\sklearn\\svm\\_base.py:985: ConvergenceWarning: Liblinear failed to converge, increase the number of iterations.\n",
      "  warnings.warn(\"Liblinear failed to converge, increase \"\n"
     ]
    },
    {
     "name": "stdout",
     "output_type": "stream",
     "text": [
      "[CV 4/5] END C=80.01, max_iter=1000;, score=(train=1.000, test=0.855) total time=   3.4s\n"
     ]
    },
    {
     "name": "stderr",
     "output_type": "stream",
     "text": [
      "d:\\python\\lib\\site-packages\\sklearn\\svm\\_base.py:985: ConvergenceWarning: Liblinear failed to converge, increase the number of iterations.\n",
      "  warnings.warn(\"Liblinear failed to converge, increase \"\n"
     ]
    },
    {
     "name": "stdout",
     "output_type": "stream",
     "text": [
      "[CV 5/5] END C=80.01, max_iter=1000;, score=(train=1.000, test=0.853) total time=   4.1s\n",
      "[CV 1/5] END C=80.01, max_iter=2000;, score=(train=1.000, test=0.854) total time=   4.2s\n",
      "[CV 2/5] END C=80.01, max_iter=2000;, score=(train=1.000, test=0.847) total time=   4.0s\n",
      "[CV 3/5] END C=80.01, max_iter=2000;, score=(train=1.000, test=0.849) total time=   4.0s\n",
      "[CV 4/5] END C=80.01, max_iter=2000;, score=(train=1.000, test=0.855) total time=   4.3s\n",
      "[CV 5/5] END C=80.01, max_iter=2000;, score=(train=1.000, test=0.853) total time=   4.4s\n",
      "[CV 1/5] END C=80.01, max_iter=5000;, score=(train=1.000, test=0.854) total time=   3.8s\n",
      "[CV 2/5] END C=80.01, max_iter=5000;, score=(train=1.000, test=0.847) total time=   4.0s\n",
      "[CV 3/5] END C=80.01, max_iter=5000;, score=(train=1.000, test=0.849) total time=   3.9s\n",
      "[CV 4/5] END C=80.01, max_iter=5000;, score=(train=1.000, test=0.855) total time=   3.5s\n",
      "[CV 5/5] END C=80.01, max_iter=5000;, score=(train=1.000, test=0.853) total time=   3.3s\n",
      "[CV 1/5] END C=80.01, max_iter=10000;, score=(train=1.000, test=0.854) total time=   3.7s\n",
      "[CV 2/5] END C=80.01, max_iter=10000;, score=(train=1.000, test=0.847) total time=   3.8s\n",
      "[CV 3/5] END C=80.01, max_iter=10000;, score=(train=1.000, test=0.849) total time=   3.8s\n",
      "[CV 4/5] END C=80.01, max_iter=10000;, score=(train=1.000, test=0.855) total time=   3.4s\n",
      "[CV 5/5] END C=80.01, max_iter=10000;, score=(train=1.000, test=0.853) total time=   4.4s\n"
     ]
    },
    {
     "name": "stderr",
     "output_type": "stream",
     "text": [
      "d:\\python\\lib\\site-packages\\sklearn\\svm\\_base.py:985: ConvergenceWarning: Liblinear failed to converge, increase the number of iterations.\n",
      "  warnings.warn(\"Liblinear failed to converge, increase \"\n"
     ]
    },
    {
     "name": "stdout",
     "output_type": "stream",
     "text": [
      "[CV 1/5] END C=90.01, max_iter=1000;, score=(train=1.000, test=0.854) total time=   3.2s\n"
     ]
    },
    {
     "name": "stderr",
     "output_type": "stream",
     "text": [
      "d:\\python\\lib\\site-packages\\sklearn\\svm\\_base.py:985: ConvergenceWarning: Liblinear failed to converge, increase the number of iterations.\n",
      "  warnings.warn(\"Liblinear failed to converge, increase \"\n"
     ]
    },
    {
     "name": "stdout",
     "output_type": "stream",
     "text": [
      "[CV 2/5] END C=90.01, max_iter=1000;, score=(train=1.000, test=0.847) total time=   3.0s\n"
     ]
    },
    {
     "name": "stderr",
     "output_type": "stream",
     "text": [
      "d:\\python\\lib\\site-packages\\sklearn\\svm\\_base.py:985: ConvergenceWarning: Liblinear failed to converge, increase the number of iterations.\n",
      "  warnings.warn(\"Liblinear failed to converge, increase \"\n"
     ]
    },
    {
     "name": "stdout",
     "output_type": "stream",
     "text": [
      "[CV 3/5] END C=90.01, max_iter=1000;, score=(train=1.000, test=0.849) total time=   3.0s\n"
     ]
    },
    {
     "name": "stderr",
     "output_type": "stream",
     "text": [
      "d:\\python\\lib\\site-packages\\sklearn\\svm\\_base.py:985: ConvergenceWarning: Liblinear failed to converge, increase the number of iterations.\n",
      "  warnings.warn(\"Liblinear failed to converge, increase \"\n"
     ]
    },
    {
     "name": "stdout",
     "output_type": "stream",
     "text": [
      "[CV 4/5] END C=90.01, max_iter=1000;, score=(train=1.000, test=0.855) total time=   3.0s\n"
     ]
    },
    {
     "name": "stderr",
     "output_type": "stream",
     "text": [
      "d:\\python\\lib\\site-packages\\sklearn\\svm\\_base.py:985: ConvergenceWarning: Liblinear failed to converge, increase the number of iterations.\n",
      "  warnings.warn(\"Liblinear failed to converge, increase \"\n"
     ]
    },
    {
     "name": "stdout",
     "output_type": "stream",
     "text": [
      "[CV 5/5] END C=90.01, max_iter=1000;, score=(train=1.000, test=0.853) total time=   3.3s\n",
      "[CV 1/5] END C=90.01, max_iter=2000;, score=(train=1.000, test=0.854) total time=   4.3s\n",
      "[CV 2/5] END C=90.01, max_iter=2000;, score=(train=1.000, test=0.847) total time=   4.5s\n",
      "[CV 3/5] END C=90.01, max_iter=2000;, score=(train=1.000, test=0.849) total time=   3.8s\n",
      "[CV 4/5] END C=90.01, max_iter=2000;, score=(train=1.000, test=0.855) total time=   4.5s\n",
      "[CV 5/5] END C=90.01, max_iter=2000;, score=(train=1.000, test=0.853) total time=   4.6s\n",
      "[CV 1/5] END C=90.01, max_iter=5000;, score=(train=1.000, test=0.854) total time=   5.4s\n",
      "[CV 2/5] END C=90.01, max_iter=5000;, score=(train=1.000, test=0.847) total time=   4.8s\n",
      "[CV 3/5] END C=90.01, max_iter=5000;, score=(train=1.000, test=0.849) total time=   6.3s\n",
      "[CV 4/5] END C=90.01, max_iter=5000;, score=(train=1.000, test=0.855) total time=   6.2s\n",
      "[CV 5/5] END C=90.01, max_iter=5000;, score=(train=1.000, test=0.853) total time=   5.3s\n",
      "[CV 1/5] END C=90.01, max_iter=10000;, score=(train=1.000, test=0.854) total time=   4.6s\n",
      "[CV 2/5] END C=90.01, max_iter=10000;, score=(train=1.000, test=0.847) total time=   4.5s\n",
      "[CV 3/5] END C=90.01, max_iter=10000;, score=(train=1.000, test=0.849) total time=   4.3s\n",
      "[CV 4/5] END C=90.01, max_iter=10000;, score=(train=1.000, test=0.855) total time=   4.7s\n",
      "[CV 5/5] END C=90.01, max_iter=10000;, score=(train=1.000, test=0.853) total time=   4.2s\n"
     ]
    },
    {
     "data": {
      "text/plain": [
       "GridSearchCV(cv=5, estimator=LinearSVC(),\n",
       "             param_grid={'C': array([1.000e-02, 1.001e+01, 2.001e+01, 3.001e+01, 4.001e+01, 5.001e+01,\n",
       "       6.001e+01, 7.001e+01, 8.001e+01, 9.001e+01]),\n",
       "                         'max_iter': [1000, 2000, 5000, 10000]},\n",
       "             return_train_score=True, verbose=3)"
      ]
     },
     "execution_count": 48,
     "metadata": {},
     "output_type": "execute_result"
    }
   ],
   "source": [
    "linearSVC.fit(headline_tfidf,y_train)"
   ]
  },
  {
   "cell_type": "code",
   "execution_count": 49,
   "id": "cpjfxdImKSNt",
   "metadata": {
    "colab": {
     "base_uri": "https://localhost:8080/"
    },
    "executionInfo": {
     "elapsed": 637,
     "status": "ok",
     "timestamp": 1622494084040,
     "user": {
      "displayName": "Minhajuddin Meraj",
      "photoUrl": "https://lh3.googleusercontent.com/a-/AOh14GhTNicl9ZzkyX_yiNCuKiXjOHoLelDbgk2ZpNNCPA=s64",
      "userId": "16057526630484697061"
     },
     "user_tz": -300
    },
    "id": "cpjfxdImKSNt",
    "outputId": "c9c960bc-c160-4c80-c5cd-7066cd631da9"
   },
   "outputs": [
    {
     "name": "stdout",
     "output_type": "stream",
     "text": [
      "{'C': 10.01, 'max_iter': 1000}\n"
     ]
    }
   ],
   "source": [
    "print(linearSVC.best_params_)"
   ]
  },
  {
   "cell_type": "code",
   "execution_count": 50,
   "id": "fviXqiotKV2u",
   "metadata": {
    "colab": {
     "base_uri": "https://localhost:8080/"
    },
    "executionInfo": {
     "elapsed": 271,
     "status": "ok",
     "timestamp": 1622494086539,
     "user": {
      "displayName": "Minhajuddin Meraj",
      "photoUrl": "https://lh3.googleusercontent.com/a-/AOh14GhTNicl9ZzkyX_yiNCuKiXjOHoLelDbgk2ZpNNCPA=s64",
      "userId": "16057526630484697061"
     },
     "user_tz": -300
    },
    "id": "fviXqiotKV2u",
    "outputId": "453cbf9c-ca83-4ce3-b47d-c32b0bddc5bf",
    "scrolled": true
   },
   "outputs": [
    {
     "data": {
      "text/plain": [
       "LinearSVC(C=10.01)"
      ]
     },
     "execution_count": 50,
     "metadata": {},
     "output_type": "execute_result"
    }
   ],
   "source": [
    "linearSVC.best_estimator_"
   ]
  },
  {
   "cell_type": "code",
   "execution_count": 33,
   "id": "d54b15a0",
   "metadata": {},
   "outputs": [],
   "source": [
    "def Headline_traverser(headline_text):\n",
    "    document = nlp(headline_text)\n",
    "    \n",
    "    ## Checking Document and len of readed document\n",
    "    print(\"Headline : {}\".format(document))\n",
    "    print(\"\\nTotal number of tokens in document : {}\".format(len(document)))\n",
    "    print()\n",
    "    \n",
    "    ## Print tokens in each doc\n",
    "    for tokens in document:\n",
    "        print(tokens.text,end=' | ')\n",
    "        \n",
    "    print(\"\\n\")\n",
    "    \n",
    "    ## printing tokens, parts_of_speech , Dependency of words with explanation\n",
    "    for tokens in document:\n",
    "        print(f'{tokens.text:{12}}{tokens.pos_:{10}}{tokens.dep_:{12}}{str(spacy.explain(tokens.dep_))}')\n",
    "    \n",
    "    print(f'\\nTotal number of Sentences : {len(list(document.sents))}')\n",
    "    \n",
    "    ## breaking down doc into sentences with respect to their punctuations i.e full stop\n",
    "    for sent in document.sents:\n",
    "        print(sent)\n",
    "     \n",
    "    ## checking real world names entities\n",
    "    \"\"\"\n",
    "    doc = nlp(\"Apple is looking at buying U.K. startup for $1 billion\")\n",
    "\n",
    "    for ent in doc.ents:\n",
    "    print(ent.text,ent.label_)\n",
    "    OUTPUT : \n",
    "    Apple ORG\n",
    "    U.K. GPE\n",
    "    $1 billion MONEY\n",
    "    \n",
    "    \"\"\"\n",
    "    if len(document.ents)>0:\n",
    "        print(f'\\nTotal number of Entity : {len(document.ents)}\\n')    \n",
    "        for ent in document.ents:\n",
    "             print(ent.text+' - '+ent.label_+' - '+str(spacy.explain(ent.label_)))        \n",
    "        displacy.render(document,style='ent',jupyter=True)\n",
    "    options = {'compact':True,'bg':'black',\n",
    "                    'color':'#fff', 'font':'Sans Serif',\n",
    "              'distance': 300}\n",
    "    displacy.render(document,style='dep',jupyter=True,options=options)"
   ]
  },
  {
   "cell_type": "code",
   "execution_count": 34,
   "id": "cd3df31f",
   "metadata": {},
   "outputs": [],
   "source": [
    "## library in order to show dependency graph\n",
    "import spacy\n",
    "nlp = spacy.load(\"en_core_web_sm\")\n",
    "from spacy import displacy"
   ]
  },
  {
   "cell_type": "code",
   "execution_count": 35,
   "id": "269157e8",
   "metadata": {},
   "outputs": [
    {
     "name": "stdout",
     "output_type": "stream",
     "text": [
      "Headline : can the u.s. and india create an enduring entente?\n",
      "\n",
      "Total number of tokens in document : 11\n",
      "\n",
      "can | the | u.s | . | and | india | create | an | enduring | entente | ? | \n",
      "\n",
      "can         AUX       aux         auxiliary\n",
      "the         DET       det         determiner\n",
      "u.s         PROPN     nsubj       nominal subject\n",
      ".           PUNCT     punct       punctuation\n",
      "and         CCONJ     cc          coordinating conjunction\n",
      "india       NOUN      nsubj       nominal subject\n",
      "create      VERB      ROOT        None\n",
      "an          DET       det         determiner\n",
      "enduring    VERB      amod        adjectival modifier\n",
      "entente     NOUN      dobj        direct object\n",
      "?           PUNCT     punct       punctuation\n",
      "\n",
      "Total number of Sentences : 1\n",
      "can the u.s. and india create an enduring entente?\n",
      "\n",
      "Total number of Entity : 1\n",
      "\n",
      "india - GPE - Countries, cities, states\n"
     ]
    },
    {
     "data": {
      "text/html": [
       "<span class=\"tex2jax_ignore\"><div class=\"entities\" style=\"line-height: 2.5; direction: ltr\">can the u.s. and \n",
       "<mark class=\"entity\" style=\"background: #feca74; padding: 0.45em 0.6em; margin: 0 0.25em; line-height: 1; border-radius: 0.35em;\">\n",
       "    india\n",
       "    <span style=\"font-size: 0.8em; font-weight: bold; line-height: 1; border-radius: 0.35em; vertical-align: middle; margin-left: 0.5rem\">GPE</span>\n",
       "</mark>\n",
       " create an enduring entente?</div></span>"
      ],
      "text/plain": [
       "<IPython.core.display.HTML object>"
      ]
     },
     "metadata": {},
     "output_type": "display_data"
    },
    {
     "data": {
      "text/html": [
       "<span class=\"tex2jax_ignore\"><svg xmlns=\"http://www.w3.org/2000/svg\" xmlns:xlink=\"http://www.w3.org/1999/xlink\" xml:lang=\"en\" id=\"45b55819b8404f54bf8191f52382c904-0\" class=\"displacy\" width=\"2750\" height=\"737.0\" direction=\"ltr\" style=\"max-width: none; height: 737.0px; color: #fff; background: black; font-family: Sans Serif; direction: ltr\">\n",
       "<text class=\"displacy-token\" fill=\"currentColor\" text-anchor=\"middle\" y=\"647.0\">\n",
       "    <tspan class=\"displacy-word\" fill=\"currentColor\" x=\"50\">can</tspan>\n",
       "    <tspan class=\"displacy-tag\" dy=\"2em\" fill=\"currentColor\" x=\"50\">AUX</tspan>\n",
       "</text>\n",
       "\n",
       "<text class=\"displacy-token\" fill=\"currentColor\" text-anchor=\"middle\" y=\"647.0\">\n",
       "    <tspan class=\"displacy-word\" fill=\"currentColor\" x=\"350\">the</tspan>\n",
       "    <tspan class=\"displacy-tag\" dy=\"2em\" fill=\"currentColor\" x=\"350\">DET</tspan>\n",
       "</text>\n",
       "\n",
       "<text class=\"displacy-token\" fill=\"currentColor\" text-anchor=\"middle\" y=\"647.0\">\n",
       "    <tspan class=\"displacy-word\" fill=\"currentColor\" x=\"650\">u.s.</tspan>\n",
       "    <tspan class=\"displacy-tag\" dy=\"2em\" fill=\"currentColor\" x=\"650\">PROPN</tspan>\n",
       "</text>\n",
       "\n",
       "<text class=\"displacy-token\" fill=\"currentColor\" text-anchor=\"middle\" y=\"647.0\">\n",
       "    <tspan class=\"displacy-word\" fill=\"currentColor\" x=\"950\">and</tspan>\n",
       "    <tspan class=\"displacy-tag\" dy=\"2em\" fill=\"currentColor\" x=\"950\">CCONJ</tspan>\n",
       "</text>\n",
       "\n",
       "<text class=\"displacy-token\" fill=\"currentColor\" text-anchor=\"middle\" y=\"647.0\">\n",
       "    <tspan class=\"displacy-word\" fill=\"currentColor\" x=\"1250\">india</tspan>\n",
       "    <tspan class=\"displacy-tag\" dy=\"2em\" fill=\"currentColor\" x=\"1250\">NOUN</tspan>\n",
       "</text>\n",
       "\n",
       "<text class=\"displacy-token\" fill=\"currentColor\" text-anchor=\"middle\" y=\"647.0\">\n",
       "    <tspan class=\"displacy-word\" fill=\"currentColor\" x=\"1550\">create</tspan>\n",
       "    <tspan class=\"displacy-tag\" dy=\"2em\" fill=\"currentColor\" x=\"1550\">VERB</tspan>\n",
       "</text>\n",
       "\n",
       "<text class=\"displacy-token\" fill=\"currentColor\" text-anchor=\"middle\" y=\"647.0\">\n",
       "    <tspan class=\"displacy-word\" fill=\"currentColor\" x=\"1850\">an</tspan>\n",
       "    <tspan class=\"displacy-tag\" dy=\"2em\" fill=\"currentColor\" x=\"1850\">DET</tspan>\n",
       "</text>\n",
       "\n",
       "<text class=\"displacy-token\" fill=\"currentColor\" text-anchor=\"middle\" y=\"647.0\">\n",
       "    <tspan class=\"displacy-word\" fill=\"currentColor\" x=\"2150\">enduring</tspan>\n",
       "    <tspan class=\"displacy-tag\" dy=\"2em\" fill=\"currentColor\" x=\"2150\">VERB</tspan>\n",
       "</text>\n",
       "\n",
       "<text class=\"displacy-token\" fill=\"currentColor\" text-anchor=\"middle\" y=\"647.0\">\n",
       "    <tspan class=\"displacy-word\" fill=\"currentColor\" x=\"2450\">entente?</tspan>\n",
       "    <tspan class=\"displacy-tag\" dy=\"2em\" fill=\"currentColor\" x=\"2450\">NOUN</tspan>\n",
       "</text>\n",
       "\n",
       "<g class=\"displacy-arrow\">\n",
       "    <path class=\"displacy-arc\" id=\"arrow-45b55819b8404f54bf8191f52382c904-0-0\" stroke-width=\"2px\" d=\"M62,602.0 62,402.0 1550.0,402.0 1550.0,602.0\" fill=\"none\" stroke=\"currentColor\"/>\n",
       "    <text dy=\"1.25em\" style=\"font-size: 0.8em; letter-spacing: 1px\">\n",
       "        <textPath xlink:href=\"#arrow-45b55819b8404f54bf8191f52382c904-0-0\" class=\"displacy-label\" startOffset=\"50%\" side=\"left\" fill=\"currentColor\" text-anchor=\"middle\">aux</textPath>\n",
       "    </text>\n",
       "    <path class=\"displacy-arrowhead\" d=\"M62,604.0 L58,596.0 66,596.0\" fill=\"currentColor\"/>\n",
       "</g>\n",
       "\n",
       "<g class=\"displacy-arrow\">\n",
       "    <path class=\"displacy-arc\" id=\"arrow-45b55819b8404f54bf8191f52382c904-0-1\" stroke-width=\"2px\" d=\"M362,602.0 362,552.0 641.0,552.0 641.0,602.0\" fill=\"none\" stroke=\"currentColor\"/>\n",
       "    <text dy=\"1.25em\" style=\"font-size: 0.8em; letter-spacing: 1px\">\n",
       "        <textPath xlink:href=\"#arrow-45b55819b8404f54bf8191f52382c904-0-1\" class=\"displacy-label\" startOffset=\"50%\" side=\"left\" fill=\"currentColor\" text-anchor=\"middle\">det</textPath>\n",
       "    </text>\n",
       "    <path class=\"displacy-arrowhead\" d=\"M362,604.0 L358,596.0 366,596.0\" fill=\"currentColor\"/>\n",
       "</g>\n",
       "\n",
       "<g class=\"displacy-arrow\">\n",
       "    <path class=\"displacy-arc\" id=\"arrow-45b55819b8404f54bf8191f52382c904-0-2\" stroke-width=\"2px\" d=\"M62,602.0 62,502.0 644.0,502.0 644.0,602.0\" fill=\"none\" stroke=\"currentColor\"/>\n",
       "    <text dy=\"1.25em\" style=\"font-size: 0.8em; letter-spacing: 1px\">\n",
       "        <textPath xlink:href=\"#arrow-45b55819b8404f54bf8191f52382c904-0-2\" class=\"displacy-label\" startOffset=\"50%\" side=\"left\" fill=\"currentColor\" text-anchor=\"middle\">nsubj</textPath>\n",
       "    </text>\n",
       "    <path class=\"displacy-arrowhead\" d=\"M644.0,604.0 L648.0,596.0 640.0,596.0\" fill=\"currentColor\"/>\n",
       "</g>\n",
       "\n",
       "<g class=\"displacy-arrow\">\n",
       "    <path class=\"displacy-arc\" id=\"arrow-45b55819b8404f54bf8191f52382c904-0-3\" stroke-width=\"2px\" d=\"M962,602.0 962,502.0 1544.0,502.0 1544.0,602.0\" fill=\"none\" stroke=\"currentColor\"/>\n",
       "    <text dy=\"1.25em\" style=\"font-size: 0.8em; letter-spacing: 1px\">\n",
       "        <textPath xlink:href=\"#arrow-45b55819b8404f54bf8191f52382c904-0-3\" class=\"displacy-label\" startOffset=\"50%\" side=\"left\" fill=\"currentColor\" text-anchor=\"middle\">cc</textPath>\n",
       "    </text>\n",
       "    <path class=\"displacy-arrowhead\" d=\"M962,604.0 L958,596.0 966,596.0\" fill=\"currentColor\"/>\n",
       "</g>\n",
       "\n",
       "<g class=\"displacy-arrow\">\n",
       "    <path class=\"displacy-arc\" id=\"arrow-45b55819b8404f54bf8191f52382c904-0-4\" stroke-width=\"2px\" d=\"M1262,602.0 1262,552.0 1541.0,552.0 1541.0,602.0\" fill=\"none\" stroke=\"currentColor\"/>\n",
       "    <text dy=\"1.25em\" style=\"font-size: 0.8em; letter-spacing: 1px\">\n",
       "        <textPath xlink:href=\"#arrow-45b55819b8404f54bf8191f52382c904-0-4\" class=\"displacy-label\" startOffset=\"50%\" side=\"left\" fill=\"currentColor\" text-anchor=\"middle\">nsubj</textPath>\n",
       "    </text>\n",
       "    <path class=\"displacy-arrowhead\" d=\"M1262,604.0 L1258,596.0 1266,596.0\" fill=\"currentColor\"/>\n",
       "</g>\n",
       "\n",
       "<g class=\"displacy-arrow\">\n",
       "    <path class=\"displacy-arc\" id=\"arrow-45b55819b8404f54bf8191f52382c904-0-5\" stroke-width=\"2px\" d=\"M1862,602.0 1862,502.0 2444.0,502.0 2444.0,602.0\" fill=\"none\" stroke=\"currentColor\"/>\n",
       "    <text dy=\"1.25em\" style=\"font-size: 0.8em; letter-spacing: 1px\">\n",
       "        <textPath xlink:href=\"#arrow-45b55819b8404f54bf8191f52382c904-0-5\" class=\"displacy-label\" startOffset=\"50%\" side=\"left\" fill=\"currentColor\" text-anchor=\"middle\">det</textPath>\n",
       "    </text>\n",
       "    <path class=\"displacy-arrowhead\" d=\"M1862,604.0 L1858,596.0 1866,596.0\" fill=\"currentColor\"/>\n",
       "</g>\n",
       "\n",
       "<g class=\"displacy-arrow\">\n",
       "    <path class=\"displacy-arc\" id=\"arrow-45b55819b8404f54bf8191f52382c904-0-6\" stroke-width=\"2px\" d=\"M2162,602.0 2162,552.0 2441.0,552.0 2441.0,602.0\" fill=\"none\" stroke=\"currentColor\"/>\n",
       "    <text dy=\"1.25em\" style=\"font-size: 0.8em; letter-spacing: 1px\">\n",
       "        <textPath xlink:href=\"#arrow-45b55819b8404f54bf8191f52382c904-0-6\" class=\"displacy-label\" startOffset=\"50%\" side=\"left\" fill=\"currentColor\" text-anchor=\"middle\">amod</textPath>\n",
       "    </text>\n",
       "    <path class=\"displacy-arrowhead\" d=\"M2162,604.0 L2158,596.0 2166,596.0\" fill=\"currentColor\"/>\n",
       "</g>\n",
       "\n",
       "<g class=\"displacy-arrow\">\n",
       "    <path class=\"displacy-arc\" id=\"arrow-45b55819b8404f54bf8191f52382c904-0-7\" stroke-width=\"2px\" d=\"M1562,602.0 1562,452.0 2447.0,452.0 2447.0,602.0\" fill=\"none\" stroke=\"currentColor\"/>\n",
       "    <text dy=\"1.25em\" style=\"font-size: 0.8em; letter-spacing: 1px\">\n",
       "        <textPath xlink:href=\"#arrow-45b55819b8404f54bf8191f52382c904-0-7\" class=\"displacy-label\" startOffset=\"50%\" side=\"left\" fill=\"currentColor\" text-anchor=\"middle\">dobj</textPath>\n",
       "    </text>\n",
       "    <path class=\"displacy-arrowhead\" d=\"M2447.0,604.0 L2451.0,596.0 2443.0,596.0\" fill=\"currentColor\"/>\n",
       "</g>\n",
       "</svg></span>"
      ],
      "text/plain": [
       "<IPython.core.display.HTML object>"
      ]
     },
     "metadata": {},
     "output_type": "display_data"
    }
   ],
   "source": [
    "Headline_traverser(pre_processed_file[corpus_selection][6089])"
   ]
  },
  {
   "cell_type": "code",
   "execution_count": 36,
   "id": "c82ba081",
   "metadata": {},
   "outputs": [
    {
     "name": "stdout",
     "output_type": "stream",
     "text": [
      "Headline : kate winslet refused to thank 'nasty' harvey weinstein in 2009 oscar speech\n",
      "\n",
      "Total number of tokens in document : 14\n",
      "\n",
      "kate | winslet | refused | to | thank | ' | nasty | ' | harvey | weinstein | in | 2009 | oscar | speech | \n",
      "\n",
      "kate        ADV       advmod      adverbial modifier\n",
      "winslet     NOUN      nsubj       nominal subject\n",
      "refused     VERB      ROOT        None\n",
      "to          PART      aux         auxiliary\n",
      "thank       VERB      xcomp       open clausal complement\n",
      "'           PUNCT     punct       punctuation\n",
      "nasty       ADJ       amod        adjectival modifier\n",
      "'           PUNCT     punct       punctuation\n",
      "harvey      NOUN      dobj        direct object\n",
      "weinstein   ADJ       amod        adjectival modifier\n",
      "in          ADP       prep        prepositional modifier\n",
      "2009        NUM       nummod      numeric modifier\n",
      "oscar       NOUN      amod        adjectival modifier\n",
      "speech      NOUN      pobj        object of preposition\n",
      "\n",
      "Total number of Sentences : 1\n",
      "kate winslet refused to thank 'nasty' harvey weinstein in 2009 oscar speech\n",
      "\n",
      "Total number of Entity : 1\n",
      "\n",
      "2009 - DATE - Absolute or relative dates or periods\n"
     ]
    },
    {
     "data": {
      "text/html": [
       "<span class=\"tex2jax_ignore\"><div class=\"entities\" style=\"line-height: 2.5; direction: ltr\">kate winslet refused to thank 'nasty' harvey weinstein in \n",
       "<mark class=\"entity\" style=\"background: #bfe1d9; padding: 0.45em 0.6em; margin: 0 0.25em; line-height: 1; border-radius: 0.35em;\">\n",
       "    2009\n",
       "    <span style=\"font-size: 0.8em; font-weight: bold; line-height: 1; border-radius: 0.35em; vertical-align: middle; margin-left: 0.5rem\">DATE</span>\n",
       "</mark>\n",
       " oscar speech</div></span>"
      ],
      "text/plain": [
       "<IPython.core.display.HTML object>"
      ]
     },
     "metadata": {},
     "output_type": "display_data"
    },
    {
     "data": {
      "text/html": [
       "<span class=\"tex2jax_ignore\"><svg xmlns=\"http://www.w3.org/2000/svg\" xmlns:xlink=\"http://www.w3.org/1999/xlink\" xml:lang=\"en\" id=\"d1750acfbfff42879ffaf655fe86f2ce-0\" class=\"displacy\" width=\"3650\" height=\"737.0\" direction=\"ltr\" style=\"max-width: none; height: 737.0px; color: #fff; background: black; font-family: Sans Serif; direction: ltr\">\n",
       "<text class=\"displacy-token\" fill=\"currentColor\" text-anchor=\"middle\" y=\"647.0\">\n",
       "    <tspan class=\"displacy-word\" fill=\"currentColor\" x=\"50\">kate</tspan>\n",
       "    <tspan class=\"displacy-tag\" dy=\"2em\" fill=\"currentColor\" x=\"50\">ADV</tspan>\n",
       "</text>\n",
       "\n",
       "<text class=\"displacy-token\" fill=\"currentColor\" text-anchor=\"middle\" y=\"647.0\">\n",
       "    <tspan class=\"displacy-word\" fill=\"currentColor\" x=\"350\">winslet</tspan>\n",
       "    <tspan class=\"displacy-tag\" dy=\"2em\" fill=\"currentColor\" x=\"350\">NOUN</tspan>\n",
       "</text>\n",
       "\n",
       "<text class=\"displacy-token\" fill=\"currentColor\" text-anchor=\"middle\" y=\"647.0\">\n",
       "    <tspan class=\"displacy-word\" fill=\"currentColor\" x=\"650\">refused</tspan>\n",
       "    <tspan class=\"displacy-tag\" dy=\"2em\" fill=\"currentColor\" x=\"650\">VERB</tspan>\n",
       "</text>\n",
       "\n",
       "<text class=\"displacy-token\" fill=\"currentColor\" text-anchor=\"middle\" y=\"647.0\">\n",
       "    <tspan class=\"displacy-word\" fill=\"currentColor\" x=\"950\">to</tspan>\n",
       "    <tspan class=\"displacy-tag\" dy=\"2em\" fill=\"currentColor\" x=\"950\">PART</tspan>\n",
       "</text>\n",
       "\n",
       "<text class=\"displacy-token\" fill=\"currentColor\" text-anchor=\"middle\" y=\"647.0\">\n",
       "    <tspan class=\"displacy-word\" fill=\"currentColor\" x=\"1250\">thank '</tspan>\n",
       "    <tspan class=\"displacy-tag\" dy=\"2em\" fill=\"currentColor\" x=\"1250\">VERB</tspan>\n",
       "</text>\n",
       "\n",
       "<text class=\"displacy-token\" fill=\"currentColor\" text-anchor=\"middle\" y=\"647.0\">\n",
       "    <tspan class=\"displacy-word\" fill=\"currentColor\" x=\"1550\">nasty'</tspan>\n",
       "    <tspan class=\"displacy-tag\" dy=\"2em\" fill=\"currentColor\" x=\"1550\">ADJ</tspan>\n",
       "</text>\n",
       "\n",
       "<text class=\"displacy-token\" fill=\"currentColor\" text-anchor=\"middle\" y=\"647.0\">\n",
       "    <tspan class=\"displacy-word\" fill=\"currentColor\" x=\"1850\">harvey</tspan>\n",
       "    <tspan class=\"displacy-tag\" dy=\"2em\" fill=\"currentColor\" x=\"1850\">NOUN</tspan>\n",
       "</text>\n",
       "\n",
       "<text class=\"displacy-token\" fill=\"currentColor\" text-anchor=\"middle\" y=\"647.0\">\n",
       "    <tspan class=\"displacy-word\" fill=\"currentColor\" x=\"2150\">weinstein</tspan>\n",
       "    <tspan class=\"displacy-tag\" dy=\"2em\" fill=\"currentColor\" x=\"2150\">ADJ</tspan>\n",
       "</text>\n",
       "\n",
       "<text class=\"displacy-token\" fill=\"currentColor\" text-anchor=\"middle\" y=\"647.0\">\n",
       "    <tspan class=\"displacy-word\" fill=\"currentColor\" x=\"2450\">in</tspan>\n",
       "    <tspan class=\"displacy-tag\" dy=\"2em\" fill=\"currentColor\" x=\"2450\">ADP</tspan>\n",
       "</text>\n",
       "\n",
       "<text class=\"displacy-token\" fill=\"currentColor\" text-anchor=\"middle\" y=\"647.0\">\n",
       "    <tspan class=\"displacy-word\" fill=\"currentColor\" x=\"2750\">2009</tspan>\n",
       "    <tspan class=\"displacy-tag\" dy=\"2em\" fill=\"currentColor\" x=\"2750\">NUM</tspan>\n",
       "</text>\n",
       "\n",
       "<text class=\"displacy-token\" fill=\"currentColor\" text-anchor=\"middle\" y=\"647.0\">\n",
       "    <tspan class=\"displacy-word\" fill=\"currentColor\" x=\"3050\">oscar</tspan>\n",
       "    <tspan class=\"displacy-tag\" dy=\"2em\" fill=\"currentColor\" x=\"3050\">NOUN</tspan>\n",
       "</text>\n",
       "\n",
       "<text class=\"displacy-token\" fill=\"currentColor\" text-anchor=\"middle\" y=\"647.0\">\n",
       "    <tspan class=\"displacy-word\" fill=\"currentColor\" x=\"3350\">speech</tspan>\n",
       "    <tspan class=\"displacy-tag\" dy=\"2em\" fill=\"currentColor\" x=\"3350\">NOUN</tspan>\n",
       "</text>\n",
       "\n",
       "<g class=\"displacy-arrow\">\n",
       "    <path class=\"displacy-arc\" id=\"arrow-d1750acfbfff42879ffaf655fe86f2ce-0-0\" stroke-width=\"2px\" d=\"M62,602.0 62,502.0 644.0,502.0 644.0,602.0\" fill=\"none\" stroke=\"currentColor\"/>\n",
       "    <text dy=\"1.25em\" style=\"font-size: 0.8em; letter-spacing: 1px\">\n",
       "        <textPath xlink:href=\"#arrow-d1750acfbfff42879ffaf655fe86f2ce-0-0\" class=\"displacy-label\" startOffset=\"50%\" side=\"left\" fill=\"currentColor\" text-anchor=\"middle\">advmod</textPath>\n",
       "    </text>\n",
       "    <path class=\"displacy-arrowhead\" d=\"M62,604.0 L58,596.0 66,596.0\" fill=\"currentColor\"/>\n",
       "</g>\n",
       "\n",
       "<g class=\"displacy-arrow\">\n",
       "    <path class=\"displacy-arc\" id=\"arrow-d1750acfbfff42879ffaf655fe86f2ce-0-1\" stroke-width=\"2px\" d=\"M362,602.0 362,552.0 641.0,552.0 641.0,602.0\" fill=\"none\" stroke=\"currentColor\"/>\n",
       "    <text dy=\"1.25em\" style=\"font-size: 0.8em; letter-spacing: 1px\">\n",
       "        <textPath xlink:href=\"#arrow-d1750acfbfff42879ffaf655fe86f2ce-0-1\" class=\"displacy-label\" startOffset=\"50%\" side=\"left\" fill=\"currentColor\" text-anchor=\"middle\">nsubj</textPath>\n",
       "    </text>\n",
       "    <path class=\"displacy-arrowhead\" d=\"M362,604.0 L358,596.0 366,596.0\" fill=\"currentColor\"/>\n",
       "</g>\n",
       "\n",
       "<g class=\"displacy-arrow\">\n",
       "    <path class=\"displacy-arc\" id=\"arrow-d1750acfbfff42879ffaf655fe86f2ce-0-2\" stroke-width=\"2px\" d=\"M962,602.0 962,552.0 1241.0,552.0 1241.0,602.0\" fill=\"none\" stroke=\"currentColor\"/>\n",
       "    <text dy=\"1.25em\" style=\"font-size: 0.8em; letter-spacing: 1px\">\n",
       "        <textPath xlink:href=\"#arrow-d1750acfbfff42879ffaf655fe86f2ce-0-2\" class=\"displacy-label\" startOffset=\"50%\" side=\"left\" fill=\"currentColor\" text-anchor=\"middle\">aux</textPath>\n",
       "    </text>\n",
       "    <path class=\"displacy-arrowhead\" d=\"M962,604.0 L958,596.0 966,596.0\" fill=\"currentColor\"/>\n",
       "</g>\n",
       "\n",
       "<g class=\"displacy-arrow\">\n",
       "    <path class=\"displacy-arc\" id=\"arrow-d1750acfbfff42879ffaf655fe86f2ce-0-3\" stroke-width=\"2px\" d=\"M662,602.0 662,502.0 1244.0,502.0 1244.0,602.0\" fill=\"none\" stroke=\"currentColor\"/>\n",
       "    <text dy=\"1.25em\" style=\"font-size: 0.8em; letter-spacing: 1px\">\n",
       "        <textPath xlink:href=\"#arrow-d1750acfbfff42879ffaf655fe86f2ce-0-3\" class=\"displacy-label\" startOffset=\"50%\" side=\"left\" fill=\"currentColor\" text-anchor=\"middle\">xcomp</textPath>\n",
       "    </text>\n",
       "    <path class=\"displacy-arrowhead\" d=\"M1244.0,604.0 L1248.0,596.0 1240.0,596.0\" fill=\"currentColor\"/>\n",
       "</g>\n",
       "\n",
       "<g class=\"displacy-arrow\">\n",
       "    <path class=\"displacy-arc\" id=\"arrow-d1750acfbfff42879ffaf655fe86f2ce-0-4\" stroke-width=\"2px\" d=\"M1562,602.0 1562,552.0 1841.0,552.0 1841.0,602.0\" fill=\"none\" stroke=\"currentColor\"/>\n",
       "    <text dy=\"1.25em\" style=\"font-size: 0.8em; letter-spacing: 1px\">\n",
       "        <textPath xlink:href=\"#arrow-d1750acfbfff42879ffaf655fe86f2ce-0-4\" class=\"displacy-label\" startOffset=\"50%\" side=\"left\" fill=\"currentColor\" text-anchor=\"middle\">amod</textPath>\n",
       "    </text>\n",
       "    <path class=\"displacy-arrowhead\" d=\"M1562,604.0 L1558,596.0 1566,596.0\" fill=\"currentColor\"/>\n",
       "</g>\n",
       "\n",
       "<g class=\"displacy-arrow\">\n",
       "    <path class=\"displacy-arc\" id=\"arrow-d1750acfbfff42879ffaf655fe86f2ce-0-5\" stroke-width=\"2px\" d=\"M1262,602.0 1262,502.0 1844.0,502.0 1844.0,602.0\" fill=\"none\" stroke=\"currentColor\"/>\n",
       "    <text dy=\"1.25em\" style=\"font-size: 0.8em; letter-spacing: 1px\">\n",
       "        <textPath xlink:href=\"#arrow-d1750acfbfff42879ffaf655fe86f2ce-0-5\" class=\"displacy-label\" startOffset=\"50%\" side=\"left\" fill=\"currentColor\" text-anchor=\"middle\">dobj</textPath>\n",
       "    </text>\n",
       "    <path class=\"displacy-arrowhead\" d=\"M1844.0,604.0 L1848.0,596.0 1840.0,596.0\" fill=\"currentColor\"/>\n",
       "</g>\n",
       "\n",
       "<g class=\"displacy-arrow\">\n",
       "    <path class=\"displacy-arc\" id=\"arrow-d1750acfbfff42879ffaf655fe86f2ce-0-6\" stroke-width=\"2px\" d=\"M1862,602.0 1862,552.0 2141.0,552.0 2141.0,602.0\" fill=\"none\" stroke=\"currentColor\"/>\n",
       "    <text dy=\"1.25em\" style=\"font-size: 0.8em; letter-spacing: 1px\">\n",
       "        <textPath xlink:href=\"#arrow-d1750acfbfff42879ffaf655fe86f2ce-0-6\" class=\"displacy-label\" startOffset=\"50%\" side=\"left\" fill=\"currentColor\" text-anchor=\"middle\">amod</textPath>\n",
       "    </text>\n",
       "    <path class=\"displacy-arrowhead\" d=\"M2141.0,604.0 L2145.0,596.0 2137.0,596.0\" fill=\"currentColor\"/>\n",
       "</g>\n",
       "\n",
       "<g class=\"displacy-arrow\">\n",
       "    <path class=\"displacy-arc\" id=\"arrow-d1750acfbfff42879ffaf655fe86f2ce-0-7\" stroke-width=\"2px\" d=\"M1262,602.0 1262,402.0 2450.0,402.0 2450.0,602.0\" fill=\"none\" stroke=\"currentColor\"/>\n",
       "    <text dy=\"1.25em\" style=\"font-size: 0.8em; letter-spacing: 1px\">\n",
       "        <textPath xlink:href=\"#arrow-d1750acfbfff42879ffaf655fe86f2ce-0-7\" class=\"displacy-label\" startOffset=\"50%\" side=\"left\" fill=\"currentColor\" text-anchor=\"middle\">prep</textPath>\n",
       "    </text>\n",
       "    <path class=\"displacy-arrowhead\" d=\"M2450.0,604.0 L2454.0,596.0 2446.0,596.0\" fill=\"currentColor\"/>\n",
       "</g>\n",
       "\n",
       "<g class=\"displacy-arrow\">\n",
       "    <path class=\"displacy-arc\" id=\"arrow-d1750acfbfff42879ffaf655fe86f2ce-0-8\" stroke-width=\"2px\" d=\"M2762,602.0 2762,502.0 3344.0,502.0 3344.0,602.0\" fill=\"none\" stroke=\"currentColor\"/>\n",
       "    <text dy=\"1.25em\" style=\"font-size: 0.8em; letter-spacing: 1px\">\n",
       "        <textPath xlink:href=\"#arrow-d1750acfbfff42879ffaf655fe86f2ce-0-8\" class=\"displacy-label\" startOffset=\"50%\" side=\"left\" fill=\"currentColor\" text-anchor=\"middle\">nummod</textPath>\n",
       "    </text>\n",
       "    <path class=\"displacy-arrowhead\" d=\"M2762,604.0 L2758,596.0 2766,596.0\" fill=\"currentColor\"/>\n",
       "</g>\n",
       "\n",
       "<g class=\"displacy-arrow\">\n",
       "    <path class=\"displacy-arc\" id=\"arrow-d1750acfbfff42879ffaf655fe86f2ce-0-9\" stroke-width=\"2px\" d=\"M3062,602.0 3062,552.0 3341.0,552.0 3341.0,602.0\" fill=\"none\" stroke=\"currentColor\"/>\n",
       "    <text dy=\"1.25em\" style=\"font-size: 0.8em; letter-spacing: 1px\">\n",
       "        <textPath xlink:href=\"#arrow-d1750acfbfff42879ffaf655fe86f2ce-0-9\" class=\"displacy-label\" startOffset=\"50%\" side=\"left\" fill=\"currentColor\" text-anchor=\"middle\">amod</textPath>\n",
       "    </text>\n",
       "    <path class=\"displacy-arrowhead\" d=\"M3062,604.0 L3058,596.0 3066,596.0\" fill=\"currentColor\"/>\n",
       "</g>\n",
       "\n",
       "<g class=\"displacy-arrow\">\n",
       "    <path class=\"displacy-arc\" id=\"arrow-d1750acfbfff42879ffaf655fe86f2ce-0-10\" stroke-width=\"2px\" d=\"M2462,602.0 2462,452.0 3347.0,452.0 3347.0,602.0\" fill=\"none\" stroke=\"currentColor\"/>\n",
       "    <text dy=\"1.25em\" style=\"font-size: 0.8em; letter-spacing: 1px\">\n",
       "        <textPath xlink:href=\"#arrow-d1750acfbfff42879ffaf655fe86f2ce-0-10\" class=\"displacy-label\" startOffset=\"50%\" side=\"left\" fill=\"currentColor\" text-anchor=\"middle\">pobj</textPath>\n",
       "    </text>\n",
       "    <path class=\"displacy-arrowhead\" d=\"M3347.0,604.0 L3351.0,596.0 3343.0,596.0\" fill=\"currentColor\"/>\n",
       "</g>\n",
       "</svg></span>"
      ],
      "text/plain": [
       "<IPython.core.display.HTML object>"
      ]
     },
     "metadata": {},
     "output_type": "display_data"
    }
   ],
   "source": [
    "Headline_traverser(pre_processed_file[corpus_selection][7667])"
   ]
  }
 ],
 "metadata": {
  "colab": {
   "collapsed_sections": [
    "d71197aa"
   ],
   "name": "Saracsm_project.ipynb",
   "provenance": []
  },
  "kernelspec": {
   "display_name": "Python 3",
   "language": "python",
   "name": "python3"
  },
  "language_info": {
   "codemirror_mode": {
    "name": "ipython",
    "version": 3
   },
   "file_extension": ".py",
   "mimetype": "text/x-python",
   "name": "python",
   "nbconvert_exporter": "python",
   "pygments_lexer": "ipython3",
   "version": "3.9.5"
  }
 },
 "nbformat": 4,
 "nbformat_minor": 5
}
